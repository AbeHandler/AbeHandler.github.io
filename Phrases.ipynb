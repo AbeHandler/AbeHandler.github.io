{
  "nbformat": 4,
  "nbformat_minor": 0,
  "metadata": {
    "colab": {
      "name": "Phrases.ipynb",
      "provenance": [],
      "collapsed_sections": [],
      "authorship_tag": "ABX9TyPgmpC3AdvItQbFMQCa0aZX",
      "include_colab_link": true
    },
    "kernelspec": {
      "name": "python3",
      "display_name": "Python 3"
    },
    "language_info": {
      "name": "python"
    },
    "widgets": {
      "application/vnd.jupyter.widget-state+json": {
        "17ea60166b5f4db09d23b2b232ec0b16": {
          "model_module": "@jupyter-widgets/controls",
          "model_name": "HBoxModel",
          "model_module_version": "1.5.0",
          "state": {
            "_view_name": "HBoxView",
            "_dom_classes": [],
            "_model_name": "HBoxModel",
            "_view_module": "@jupyter-widgets/controls",
            "_model_module_version": "1.5.0",
            "_view_count": null,
            "_view_module_version": "1.5.0",
            "box_style": "",
            "layout": "IPY_MODEL_f8d98fff73364ba4a4f7d1f356a48875",
            "_model_module": "@jupyter-widgets/controls",
            "children": [
              "IPY_MODEL_e79bc2aa705d4dfe9d0c08ee2d7122c6",
              "IPY_MODEL_5193c2fc101a46daa9d1243d25576b2c",
              "IPY_MODEL_1f89ac38fc91466e91ba7014f703e26d"
            ]
          }
        },
        "f8d98fff73364ba4a4f7d1f356a48875": {
          "model_module": "@jupyter-widgets/base",
          "model_name": "LayoutModel",
          "model_module_version": "1.2.0",
          "state": {
            "_view_name": "LayoutView",
            "grid_template_rows": null,
            "right": null,
            "justify_content": null,
            "_view_module": "@jupyter-widgets/base",
            "overflow": null,
            "_model_module_version": "1.2.0",
            "_view_count": null,
            "flex_flow": null,
            "width": null,
            "min_width": null,
            "border": null,
            "align_items": null,
            "bottom": null,
            "_model_module": "@jupyter-widgets/base",
            "top": null,
            "grid_column": null,
            "overflow_y": null,
            "overflow_x": null,
            "grid_auto_flow": null,
            "grid_area": null,
            "grid_template_columns": null,
            "flex": null,
            "_model_name": "LayoutModel",
            "justify_items": null,
            "grid_row": null,
            "max_height": null,
            "align_content": null,
            "visibility": null,
            "align_self": null,
            "height": null,
            "min_height": null,
            "padding": null,
            "grid_auto_rows": null,
            "grid_gap": null,
            "max_width": null,
            "order": null,
            "_view_module_version": "1.2.0",
            "grid_template_areas": null,
            "object_position": null,
            "object_fit": null,
            "grid_auto_columns": null,
            "margin": null,
            "display": null,
            "left": null
          }
        },
        "e79bc2aa705d4dfe9d0c08ee2d7122c6": {
          "model_module": "@jupyter-widgets/controls",
          "model_name": "HTMLModel",
          "model_module_version": "1.5.0",
          "state": {
            "_view_name": "HTMLView",
            "style": "IPY_MODEL_c42bb53490a64ec8af77421e3e1779a6",
            "_dom_classes": [],
            "description": "",
            "_model_name": "HTMLModel",
            "placeholder": "​",
            "_view_module": "@jupyter-widgets/controls",
            "_model_module_version": "1.5.0",
            "value": "100%",
            "_view_count": null,
            "_view_module_version": "1.5.0",
            "description_tooltip": null,
            "_model_module": "@jupyter-widgets/controls",
            "layout": "IPY_MODEL_76fa128404164f3ebabd16bd8d12d44f"
          }
        },
        "5193c2fc101a46daa9d1243d25576b2c": {
          "model_module": "@jupyter-widgets/controls",
          "model_name": "FloatProgressModel",
          "model_module_version": "1.5.0",
          "state": {
            "_view_name": "ProgressView",
            "style": "IPY_MODEL_d310a27931d84f9eba971b33de7291f1",
            "_dom_classes": [],
            "description": "",
            "_model_name": "FloatProgressModel",
            "bar_style": "success",
            "max": 1700789,
            "_view_module": "@jupyter-widgets/controls",
            "_model_module_version": "1.5.0",
            "value": 1700789,
            "_view_count": null,
            "_view_module_version": "1.5.0",
            "orientation": "horizontal",
            "min": 0,
            "description_tooltip": null,
            "_model_module": "@jupyter-widgets/controls",
            "layout": "IPY_MODEL_95096d0519df4410abe9352e83c0dad9"
          }
        },
        "1f89ac38fc91466e91ba7014f703e26d": {
          "model_module": "@jupyter-widgets/controls",
          "model_name": "HTMLModel",
          "model_module_version": "1.5.0",
          "state": {
            "_view_name": "HTMLView",
            "style": "IPY_MODEL_0cd6378d1895436ebaae8a3e36812da6",
            "_dom_classes": [],
            "description": "",
            "_model_name": "HTMLModel",
            "placeholder": "​",
            "_view_module": "@jupyter-widgets/controls",
            "_model_module_version": "1.5.0",
            "value": " 1700789/1700789 [00:04&lt;00:00, 331170.91it/s]",
            "_view_count": null,
            "_view_module_version": "1.5.0",
            "description_tooltip": null,
            "_model_module": "@jupyter-widgets/controls",
            "layout": "IPY_MODEL_e502eaa545b64736a04d650db5021fee"
          }
        },
        "c42bb53490a64ec8af77421e3e1779a6": {
          "model_module": "@jupyter-widgets/controls",
          "model_name": "DescriptionStyleModel",
          "model_module_version": "1.5.0",
          "state": {
            "_view_name": "StyleView",
            "_model_name": "DescriptionStyleModel",
            "description_width": "",
            "_view_module": "@jupyter-widgets/base",
            "_model_module_version": "1.5.0",
            "_view_count": null,
            "_view_module_version": "1.2.0",
            "_model_module": "@jupyter-widgets/controls"
          }
        },
        "76fa128404164f3ebabd16bd8d12d44f": {
          "model_module": "@jupyter-widgets/base",
          "model_name": "LayoutModel",
          "model_module_version": "1.2.0",
          "state": {
            "_view_name": "LayoutView",
            "grid_template_rows": null,
            "right": null,
            "justify_content": null,
            "_view_module": "@jupyter-widgets/base",
            "overflow": null,
            "_model_module_version": "1.2.0",
            "_view_count": null,
            "flex_flow": null,
            "width": null,
            "min_width": null,
            "border": null,
            "align_items": null,
            "bottom": null,
            "_model_module": "@jupyter-widgets/base",
            "top": null,
            "grid_column": null,
            "overflow_y": null,
            "overflow_x": null,
            "grid_auto_flow": null,
            "grid_area": null,
            "grid_template_columns": null,
            "flex": null,
            "_model_name": "LayoutModel",
            "justify_items": null,
            "grid_row": null,
            "max_height": null,
            "align_content": null,
            "visibility": null,
            "align_self": null,
            "height": null,
            "min_height": null,
            "padding": null,
            "grid_auto_rows": null,
            "grid_gap": null,
            "max_width": null,
            "order": null,
            "_view_module_version": "1.2.0",
            "grid_template_areas": null,
            "object_position": null,
            "object_fit": null,
            "grid_auto_columns": null,
            "margin": null,
            "display": null,
            "left": null
          }
        },
        "d310a27931d84f9eba971b33de7291f1": {
          "model_module": "@jupyter-widgets/controls",
          "model_name": "ProgressStyleModel",
          "model_module_version": "1.5.0",
          "state": {
            "_view_name": "StyleView",
            "_model_name": "ProgressStyleModel",
            "description_width": "",
            "_view_module": "@jupyter-widgets/base",
            "_model_module_version": "1.5.0",
            "_view_count": null,
            "_view_module_version": "1.2.0",
            "bar_color": null,
            "_model_module": "@jupyter-widgets/controls"
          }
        },
        "95096d0519df4410abe9352e83c0dad9": {
          "model_module": "@jupyter-widgets/base",
          "model_name": "LayoutModel",
          "model_module_version": "1.2.0",
          "state": {
            "_view_name": "LayoutView",
            "grid_template_rows": null,
            "right": null,
            "justify_content": null,
            "_view_module": "@jupyter-widgets/base",
            "overflow": null,
            "_model_module_version": "1.2.0",
            "_view_count": null,
            "flex_flow": null,
            "width": null,
            "min_width": null,
            "border": null,
            "align_items": null,
            "bottom": null,
            "_model_module": "@jupyter-widgets/base",
            "top": null,
            "grid_column": null,
            "overflow_y": null,
            "overflow_x": null,
            "grid_auto_flow": null,
            "grid_area": null,
            "grid_template_columns": null,
            "flex": null,
            "_model_name": "LayoutModel",
            "justify_items": null,
            "grid_row": null,
            "max_height": null,
            "align_content": null,
            "visibility": null,
            "align_self": null,
            "height": null,
            "min_height": null,
            "padding": null,
            "grid_auto_rows": null,
            "grid_gap": null,
            "max_width": null,
            "order": null,
            "_view_module_version": "1.2.0",
            "grid_template_areas": null,
            "object_position": null,
            "object_fit": null,
            "grid_auto_columns": null,
            "margin": null,
            "display": null,
            "left": null
          }
        },
        "0cd6378d1895436ebaae8a3e36812da6": {
          "model_module": "@jupyter-widgets/controls",
          "model_name": "DescriptionStyleModel",
          "model_module_version": "1.5.0",
          "state": {
            "_view_name": "StyleView",
            "_model_name": "DescriptionStyleModel",
            "description_width": "",
            "_view_module": "@jupyter-widgets/base",
            "_model_module_version": "1.5.0",
            "_view_count": null,
            "_view_module_version": "1.2.0",
            "_model_module": "@jupyter-widgets/controls"
          }
        },
        "e502eaa545b64736a04d650db5021fee": {
          "model_module": "@jupyter-widgets/base",
          "model_name": "LayoutModel",
          "model_module_version": "1.2.0",
          "state": {
            "_view_name": "LayoutView",
            "grid_template_rows": null,
            "right": null,
            "justify_content": null,
            "_view_module": "@jupyter-widgets/base",
            "overflow": null,
            "_model_module_version": "1.2.0",
            "_view_count": null,
            "flex_flow": null,
            "width": null,
            "min_width": null,
            "border": null,
            "align_items": null,
            "bottom": null,
            "_model_module": "@jupyter-widgets/base",
            "top": null,
            "grid_column": null,
            "overflow_y": null,
            "overflow_x": null,
            "grid_auto_flow": null,
            "grid_area": null,
            "grid_template_columns": null,
            "flex": null,
            "_model_name": "LayoutModel",
            "justify_items": null,
            "grid_row": null,
            "max_height": null,
            "align_content": null,
            "visibility": null,
            "align_self": null,
            "height": null,
            "min_height": null,
            "padding": null,
            "grid_auto_rows": null,
            "grid_gap": null,
            "max_width": null,
            "order": null,
            "_view_module_version": "1.2.0",
            "grid_template_areas": null,
            "object_position": null,
            "object_fit": null,
            "grid_auto_columns": null,
            "margin": null,
            "display": null,
            "left": null
          }
        },
        "a714c22c9ef0413bb7b83950077b236a": {
          "model_module": "@jupyter-widgets/controls",
          "model_name": "HBoxModel",
          "model_module_version": "1.5.0",
          "state": {
            "_view_name": "HBoxView",
            "_dom_classes": [],
            "_model_name": "HBoxModel",
            "_view_module": "@jupyter-widgets/controls",
            "_model_module_version": "1.5.0",
            "_view_count": null,
            "_view_module_version": "1.5.0",
            "box_style": "",
            "layout": "IPY_MODEL_3c7df383df264fc39389c2ad50c24da0",
            "_model_module": "@jupyter-widgets/controls",
            "children": [
              "IPY_MODEL_4d42ddcb59884e3ba325f35344afc8e3",
              "IPY_MODEL_0b83fcf33e97428c9e2d428cbe678a9a",
              "IPY_MODEL_7ee0f3d6d2ca4167a7e99daab94340fa"
            ]
          }
        },
        "3c7df383df264fc39389c2ad50c24da0": {
          "model_module": "@jupyter-widgets/base",
          "model_name": "LayoutModel",
          "model_module_version": "1.2.0",
          "state": {
            "_view_name": "LayoutView",
            "grid_template_rows": null,
            "right": null,
            "justify_content": null,
            "_view_module": "@jupyter-widgets/base",
            "overflow": null,
            "_model_module_version": "1.2.0",
            "_view_count": null,
            "flex_flow": null,
            "width": null,
            "min_width": null,
            "border": null,
            "align_items": null,
            "bottom": null,
            "_model_module": "@jupyter-widgets/base",
            "top": null,
            "grid_column": null,
            "overflow_y": null,
            "overflow_x": null,
            "grid_auto_flow": null,
            "grid_area": null,
            "grid_template_columns": null,
            "flex": null,
            "_model_name": "LayoutModel",
            "justify_items": null,
            "grid_row": null,
            "max_height": null,
            "align_content": null,
            "visibility": null,
            "align_self": null,
            "height": null,
            "min_height": null,
            "padding": null,
            "grid_auto_rows": null,
            "grid_gap": null,
            "max_width": null,
            "order": null,
            "_view_module_version": "1.2.0",
            "grid_template_areas": null,
            "object_position": null,
            "object_fit": null,
            "grid_auto_columns": null,
            "margin": null,
            "display": null,
            "left": null
          }
        },
        "4d42ddcb59884e3ba325f35344afc8e3": {
          "model_module": "@jupyter-widgets/controls",
          "model_name": "HTMLModel",
          "model_module_version": "1.5.0",
          "state": {
            "_view_name": "HTMLView",
            "style": "IPY_MODEL_f733741229cc4920a893932373a94315",
            "_dom_classes": [],
            "description": "",
            "_model_name": "HTMLModel",
            "placeholder": "​",
            "_view_module": "@jupyter-widgets/controls",
            "_model_module_version": "1.5.0",
            "value": "100%",
            "_view_count": null,
            "_view_module_version": "1.5.0",
            "description_tooltip": null,
            "_model_module": "@jupyter-widgets/controls",
            "layout": "IPY_MODEL_375fd0062c094d2c8f91e59e67f10d63"
          }
        },
        "0b83fcf33e97428c9e2d428cbe678a9a": {
          "model_module": "@jupyter-widgets/controls",
          "model_name": "FloatProgressModel",
          "model_module_version": "1.5.0",
          "state": {
            "_view_name": "ProgressView",
            "style": "IPY_MODEL_f26e568187c449528286fb56a37618e3",
            "_dom_classes": [],
            "description": "",
            "_model_name": "FloatProgressModel",
            "bar_style": "success",
            "max": 78598,
            "_view_module": "@jupyter-widgets/controls",
            "_model_module_version": "1.5.0",
            "value": 78598,
            "_view_count": null,
            "_view_module_version": "1.5.0",
            "orientation": "horizontal",
            "min": 0,
            "description_tooltip": null,
            "_model_module": "@jupyter-widgets/controls",
            "layout": "IPY_MODEL_6e6d4de2c9974f2b88e75e85a8989ba9"
          }
        },
        "7ee0f3d6d2ca4167a7e99daab94340fa": {
          "model_module": "@jupyter-widgets/controls",
          "model_name": "HTMLModel",
          "model_module_version": "1.5.0",
          "state": {
            "_view_name": "HTMLView",
            "style": "IPY_MODEL_c55f0141e7d242fabd680f9dfb119729",
            "_dom_classes": [],
            "description": "",
            "_model_name": "HTMLModel",
            "placeholder": "​",
            "_view_module": "@jupyter-widgets/controls",
            "_model_module_version": "1.5.0",
            "value": " 78598/78598 [04:40&lt;00:00, 316.97it/s]",
            "_view_count": null,
            "_view_module_version": "1.5.0",
            "description_tooltip": null,
            "_model_module": "@jupyter-widgets/controls",
            "layout": "IPY_MODEL_7743a280d98b43e8a2b5e80288c21ede"
          }
        },
        "f733741229cc4920a893932373a94315": {
          "model_module": "@jupyter-widgets/controls",
          "model_name": "DescriptionStyleModel",
          "model_module_version": "1.5.0",
          "state": {
            "_view_name": "StyleView",
            "_model_name": "DescriptionStyleModel",
            "description_width": "",
            "_view_module": "@jupyter-widgets/base",
            "_model_module_version": "1.5.0",
            "_view_count": null,
            "_view_module_version": "1.2.0",
            "_model_module": "@jupyter-widgets/controls"
          }
        },
        "375fd0062c094d2c8f91e59e67f10d63": {
          "model_module": "@jupyter-widgets/base",
          "model_name": "LayoutModel",
          "model_module_version": "1.2.0",
          "state": {
            "_view_name": "LayoutView",
            "grid_template_rows": null,
            "right": null,
            "justify_content": null,
            "_view_module": "@jupyter-widgets/base",
            "overflow": null,
            "_model_module_version": "1.2.0",
            "_view_count": null,
            "flex_flow": null,
            "width": null,
            "min_width": null,
            "border": null,
            "align_items": null,
            "bottom": null,
            "_model_module": "@jupyter-widgets/base",
            "top": null,
            "grid_column": null,
            "overflow_y": null,
            "overflow_x": null,
            "grid_auto_flow": null,
            "grid_area": null,
            "grid_template_columns": null,
            "flex": null,
            "_model_name": "LayoutModel",
            "justify_items": null,
            "grid_row": null,
            "max_height": null,
            "align_content": null,
            "visibility": null,
            "align_self": null,
            "height": null,
            "min_height": null,
            "padding": null,
            "grid_auto_rows": null,
            "grid_gap": null,
            "max_width": null,
            "order": null,
            "_view_module_version": "1.2.0",
            "grid_template_areas": null,
            "object_position": null,
            "object_fit": null,
            "grid_auto_columns": null,
            "margin": null,
            "display": null,
            "left": null
          }
        },
        "f26e568187c449528286fb56a37618e3": {
          "model_module": "@jupyter-widgets/controls",
          "model_name": "ProgressStyleModel",
          "model_module_version": "1.5.0",
          "state": {
            "_view_name": "StyleView",
            "_model_name": "ProgressStyleModel",
            "description_width": "",
            "_view_module": "@jupyter-widgets/base",
            "_model_module_version": "1.5.0",
            "_view_count": null,
            "_view_module_version": "1.2.0",
            "bar_color": null,
            "_model_module": "@jupyter-widgets/controls"
          }
        },
        "6e6d4de2c9974f2b88e75e85a8989ba9": {
          "model_module": "@jupyter-widgets/base",
          "model_name": "LayoutModel",
          "model_module_version": "1.2.0",
          "state": {
            "_view_name": "LayoutView",
            "grid_template_rows": null,
            "right": null,
            "justify_content": null,
            "_view_module": "@jupyter-widgets/base",
            "overflow": null,
            "_model_module_version": "1.2.0",
            "_view_count": null,
            "flex_flow": null,
            "width": null,
            "min_width": null,
            "border": null,
            "align_items": null,
            "bottom": null,
            "_model_module": "@jupyter-widgets/base",
            "top": null,
            "grid_column": null,
            "overflow_y": null,
            "overflow_x": null,
            "grid_auto_flow": null,
            "grid_area": null,
            "grid_template_columns": null,
            "flex": null,
            "_model_name": "LayoutModel",
            "justify_items": null,
            "grid_row": null,
            "max_height": null,
            "align_content": null,
            "visibility": null,
            "align_self": null,
            "height": null,
            "min_height": null,
            "padding": null,
            "grid_auto_rows": null,
            "grid_gap": null,
            "max_width": null,
            "order": null,
            "_view_module_version": "1.2.0",
            "grid_template_areas": null,
            "object_position": null,
            "object_fit": null,
            "grid_auto_columns": null,
            "margin": null,
            "display": null,
            "left": null
          }
        },
        "c55f0141e7d242fabd680f9dfb119729": {
          "model_module": "@jupyter-widgets/controls",
          "model_name": "DescriptionStyleModel",
          "model_module_version": "1.5.0",
          "state": {
            "_view_name": "StyleView",
            "_model_name": "DescriptionStyleModel",
            "description_width": "",
            "_view_module": "@jupyter-widgets/base",
            "_model_module_version": "1.5.0",
            "_view_count": null,
            "_view_module_version": "1.2.0",
            "_model_module": "@jupyter-widgets/controls"
          }
        },
        "7743a280d98b43e8a2b5e80288c21ede": {
          "model_module": "@jupyter-widgets/base",
          "model_name": "LayoutModel",
          "model_module_version": "1.2.0",
          "state": {
            "_view_name": "LayoutView",
            "grid_template_rows": null,
            "right": null,
            "justify_content": null,
            "_view_module": "@jupyter-widgets/base",
            "overflow": null,
            "_model_module_version": "1.2.0",
            "_view_count": null,
            "flex_flow": null,
            "width": null,
            "min_width": null,
            "border": null,
            "align_items": null,
            "bottom": null,
            "_model_module": "@jupyter-widgets/base",
            "top": null,
            "grid_column": null,
            "overflow_y": null,
            "overflow_x": null,
            "grid_auto_flow": null,
            "grid_area": null,
            "grid_template_columns": null,
            "flex": null,
            "_model_name": "LayoutModel",
            "justify_items": null,
            "grid_row": null,
            "max_height": null,
            "align_content": null,
            "visibility": null,
            "align_self": null,
            "height": null,
            "min_height": null,
            "padding": null,
            "grid_auto_rows": null,
            "grid_gap": null,
            "max_width": null,
            "order": null,
            "_view_module_version": "1.2.0",
            "grid_template_areas": null,
            "object_position": null,
            "object_fit": null,
            "grid_auto_columns": null,
            "margin": null,
            "display": null,
            "left": null
          }
        },
        "fee42f7b4229436eb7146c33b794c632": {
          "model_module": "@jupyter-widgets/controls",
          "model_name": "HBoxModel",
          "model_module_version": "1.5.0",
          "state": {
            "_view_name": "HBoxView",
            "_dom_classes": [],
            "_model_name": "HBoxModel",
            "_view_module": "@jupyter-widgets/controls",
            "_model_module_version": "1.5.0",
            "_view_count": null,
            "_view_module_version": "1.5.0",
            "box_style": "",
            "layout": "IPY_MODEL_d2f0511ffb3042d2abc18052c68476c4",
            "_model_module": "@jupyter-widgets/controls",
            "children": [
              "IPY_MODEL_364ba50b3cac45d1a236e9664fbaa56d",
              "IPY_MODEL_59f2c05d748f4ce18dd02f2bc4f136f5",
              "IPY_MODEL_cb4c50e2525a4c3cbba25e3975523ec6"
            ]
          }
        },
        "d2f0511ffb3042d2abc18052c68476c4": {
          "model_module": "@jupyter-widgets/base",
          "model_name": "LayoutModel",
          "model_module_version": "1.2.0",
          "state": {
            "_view_name": "LayoutView",
            "grid_template_rows": null,
            "right": null,
            "justify_content": null,
            "_view_module": "@jupyter-widgets/base",
            "overflow": null,
            "_model_module_version": "1.2.0",
            "_view_count": null,
            "flex_flow": null,
            "width": null,
            "min_width": null,
            "border": null,
            "align_items": null,
            "bottom": null,
            "_model_module": "@jupyter-widgets/base",
            "top": null,
            "grid_column": null,
            "overflow_y": null,
            "overflow_x": null,
            "grid_auto_flow": null,
            "grid_area": null,
            "grid_template_columns": null,
            "flex": null,
            "_model_name": "LayoutModel",
            "justify_items": null,
            "grid_row": null,
            "max_height": null,
            "align_content": null,
            "visibility": null,
            "align_self": null,
            "height": null,
            "min_height": null,
            "padding": null,
            "grid_auto_rows": null,
            "grid_gap": null,
            "max_width": null,
            "order": null,
            "_view_module_version": "1.2.0",
            "grid_template_areas": null,
            "object_position": null,
            "object_fit": null,
            "grid_auto_columns": null,
            "margin": null,
            "display": null,
            "left": null
          }
        },
        "364ba50b3cac45d1a236e9664fbaa56d": {
          "model_module": "@jupyter-widgets/controls",
          "model_name": "HTMLModel",
          "model_module_version": "1.5.0",
          "state": {
            "_view_name": "HTMLView",
            "style": "IPY_MODEL_e5ede08707cd475ba9022693bfd50595",
            "_dom_classes": [],
            "description": "",
            "_model_name": "HTMLModel",
            "placeholder": "​",
            "_view_module": "@jupyter-widgets/controls",
            "_model_module_version": "1.5.0",
            "value": "100%",
            "_view_count": null,
            "_view_module_version": "1.5.0",
            "description_tooltip": null,
            "_model_module": "@jupyter-widgets/controls",
            "layout": "IPY_MODEL_3ed9960538fc4f3096d2630669280a54"
          }
        },
        "59f2c05d748f4ce18dd02f2bc4f136f5": {
          "model_module": "@jupyter-widgets/controls",
          "model_name": "FloatProgressModel",
          "model_module_version": "1.5.0",
          "state": {
            "_view_name": "ProgressView",
            "style": "IPY_MODEL_8dccac89adff453b84b7eac9afd4daff",
            "_dom_classes": [],
            "description": "",
            "_model_name": "FloatProgressModel",
            "bar_style": "success",
            "max": 78598,
            "_view_module": "@jupyter-widgets/controls",
            "_model_module_version": "1.5.0",
            "value": 78598,
            "_view_count": null,
            "_view_module_version": "1.5.0",
            "orientation": "horizontal",
            "min": 0,
            "description_tooltip": null,
            "_model_module": "@jupyter-widgets/controls",
            "layout": "IPY_MODEL_febfe36576f14dea83b86cc497f64fbc"
          }
        },
        "cb4c50e2525a4c3cbba25e3975523ec6": {
          "model_module": "@jupyter-widgets/controls",
          "model_name": "HTMLModel",
          "model_module_version": "1.5.0",
          "state": {
            "_view_name": "HTMLView",
            "style": "IPY_MODEL_d59722cac79a4f808d0ec3ad539e7e30",
            "_dom_classes": [],
            "description": "",
            "_model_name": "HTMLModel",
            "placeholder": "​",
            "_view_module": "@jupyter-widgets/controls",
            "_model_module_version": "1.5.0",
            "value": " 78598/78598 [00:02&lt;00:00, 33938.20it/s]",
            "_view_count": null,
            "_view_module_version": "1.5.0",
            "description_tooltip": null,
            "_model_module": "@jupyter-widgets/controls",
            "layout": "IPY_MODEL_7cfd4ba8736b4d8cb339b9a6922c7f4a"
          }
        },
        "e5ede08707cd475ba9022693bfd50595": {
          "model_module": "@jupyter-widgets/controls",
          "model_name": "DescriptionStyleModel",
          "model_module_version": "1.5.0",
          "state": {
            "_view_name": "StyleView",
            "_model_name": "DescriptionStyleModel",
            "description_width": "",
            "_view_module": "@jupyter-widgets/base",
            "_model_module_version": "1.5.0",
            "_view_count": null,
            "_view_module_version": "1.2.0",
            "_model_module": "@jupyter-widgets/controls"
          }
        },
        "3ed9960538fc4f3096d2630669280a54": {
          "model_module": "@jupyter-widgets/base",
          "model_name": "LayoutModel",
          "model_module_version": "1.2.0",
          "state": {
            "_view_name": "LayoutView",
            "grid_template_rows": null,
            "right": null,
            "justify_content": null,
            "_view_module": "@jupyter-widgets/base",
            "overflow": null,
            "_model_module_version": "1.2.0",
            "_view_count": null,
            "flex_flow": null,
            "width": null,
            "min_width": null,
            "border": null,
            "align_items": null,
            "bottom": null,
            "_model_module": "@jupyter-widgets/base",
            "top": null,
            "grid_column": null,
            "overflow_y": null,
            "overflow_x": null,
            "grid_auto_flow": null,
            "grid_area": null,
            "grid_template_columns": null,
            "flex": null,
            "_model_name": "LayoutModel",
            "justify_items": null,
            "grid_row": null,
            "max_height": null,
            "align_content": null,
            "visibility": null,
            "align_self": null,
            "height": null,
            "min_height": null,
            "padding": null,
            "grid_auto_rows": null,
            "grid_gap": null,
            "max_width": null,
            "order": null,
            "_view_module_version": "1.2.0",
            "grid_template_areas": null,
            "object_position": null,
            "object_fit": null,
            "grid_auto_columns": null,
            "margin": null,
            "display": null,
            "left": null
          }
        },
        "8dccac89adff453b84b7eac9afd4daff": {
          "model_module": "@jupyter-widgets/controls",
          "model_name": "ProgressStyleModel",
          "model_module_version": "1.5.0",
          "state": {
            "_view_name": "StyleView",
            "_model_name": "ProgressStyleModel",
            "description_width": "",
            "_view_module": "@jupyter-widgets/base",
            "_model_module_version": "1.5.0",
            "_view_count": null,
            "_view_module_version": "1.2.0",
            "bar_color": null,
            "_model_module": "@jupyter-widgets/controls"
          }
        },
        "febfe36576f14dea83b86cc497f64fbc": {
          "model_module": "@jupyter-widgets/base",
          "model_name": "LayoutModel",
          "model_module_version": "1.2.0",
          "state": {
            "_view_name": "LayoutView",
            "grid_template_rows": null,
            "right": null,
            "justify_content": null,
            "_view_module": "@jupyter-widgets/base",
            "overflow": null,
            "_model_module_version": "1.2.0",
            "_view_count": null,
            "flex_flow": null,
            "width": null,
            "min_width": null,
            "border": null,
            "align_items": null,
            "bottom": null,
            "_model_module": "@jupyter-widgets/base",
            "top": null,
            "grid_column": null,
            "overflow_y": null,
            "overflow_x": null,
            "grid_auto_flow": null,
            "grid_area": null,
            "grid_template_columns": null,
            "flex": null,
            "_model_name": "LayoutModel",
            "justify_items": null,
            "grid_row": null,
            "max_height": null,
            "align_content": null,
            "visibility": null,
            "align_self": null,
            "height": null,
            "min_height": null,
            "padding": null,
            "grid_auto_rows": null,
            "grid_gap": null,
            "max_width": null,
            "order": null,
            "_view_module_version": "1.2.0",
            "grid_template_areas": null,
            "object_position": null,
            "object_fit": null,
            "grid_auto_columns": null,
            "margin": null,
            "display": null,
            "left": null
          }
        },
        "d59722cac79a4f808d0ec3ad539e7e30": {
          "model_module": "@jupyter-widgets/controls",
          "model_name": "DescriptionStyleModel",
          "model_module_version": "1.5.0",
          "state": {
            "_view_name": "StyleView",
            "_model_name": "DescriptionStyleModel",
            "description_width": "",
            "_view_module": "@jupyter-widgets/base",
            "_model_module_version": "1.5.0",
            "_view_count": null,
            "_view_module_version": "1.2.0",
            "_model_module": "@jupyter-widgets/controls"
          }
        },
        "7cfd4ba8736b4d8cb339b9a6922c7f4a": {
          "model_module": "@jupyter-widgets/base",
          "model_name": "LayoutModel",
          "model_module_version": "1.2.0",
          "state": {
            "_view_name": "LayoutView",
            "grid_template_rows": null,
            "right": null,
            "justify_content": null,
            "_view_module": "@jupyter-widgets/base",
            "overflow": null,
            "_model_module_version": "1.2.0",
            "_view_count": null,
            "flex_flow": null,
            "width": null,
            "min_width": null,
            "border": null,
            "align_items": null,
            "bottom": null,
            "_model_module": "@jupyter-widgets/base",
            "top": null,
            "grid_column": null,
            "overflow_y": null,
            "overflow_x": null,
            "grid_auto_flow": null,
            "grid_area": null,
            "grid_template_columns": null,
            "flex": null,
            "_model_name": "LayoutModel",
            "justify_items": null,
            "grid_row": null,
            "max_height": null,
            "align_content": null,
            "visibility": null,
            "align_self": null,
            "height": null,
            "min_height": null,
            "padding": null,
            "grid_auto_rows": null,
            "grid_gap": null,
            "max_width": null,
            "order": null,
            "_view_module_version": "1.2.0",
            "grid_template_areas": null,
            "object_position": null,
            "object_fit": null,
            "grid_auto_columns": null,
            "margin": null,
            "display": null,
            "left": null
          }
        }
      }
    }
  },
  "cells": [
    {
      "cell_type": "markdown",
      "metadata": {
        "id": "view-in-github",
        "colab_type": "text"
      },
      "source": [
        "<a href=\"https://colab.research.google.com/github/AbeHandler/AbeHandler.github.io/blob/master/Phrases.ipynb\" target=\"_parent\"><img src=\"https://colab.research.google.com/assets/colab-badge.svg\" alt=\"Open In Colab\"/></a>"
      ]
    },
    {
      "cell_type": "markdown",
      "source": [
        "## Moving from words to phrases when doing NLP\n",
        "- [Abe Handler](https://www.abehandler.com/) University of Colorado, Boulder\n",
        "- [Shufan Wang](https://people.cs.umass.edu/~shufanwang/) University of  Massachusetts, Amherst\n",
        "\n",
        "## Introduction\n",
        "\n",
        "If you have found this tutorial, you have probably done NLP projects where you (a) start with documents, (b) break them into individual words, and then (c) use computation to draw conclusions about the words in the documents. For instance, in your last project, maybe you took a collection of documents, broke the documents into individual words and then ran a topic model to find groups of words that tended to appear together in the documents. \n",
        "\n",
        "Breaking documents into individual words implicitly represents text in terms of single-word units called **unigrams**. The unordered collection of all the unigrams in a document is often called a   **bag of words** (see [Jurafsky and Martin](https://web.stanford.edu/~jurafsky/slp3/4.pdf)). Representing text using the unigram bag of words has many advantages. For one, analyzing unigrams is easy and fast; you can take a big text document and break it into a bunch of single-word observations, so you can observe useful statistical properties from the text. \n",
        "\n",
        "However, breaking documents into single words for downstream analysis does have downsides. One limitation is that some concepts or linguistic units within documents consist of multiple words, and so get lost or discarded when you using a unigram representation. For instance, the string \"New York\" refers to a particular city (or state). If you break this string into single word units \"New\" and \"York\", and put each of these unigrams to your bag of words, your representation of the text does not really represent the concept \"New York\".  That means when you draw conclusions about lexical units during downsteam analysis, you won't be able to draw conclusions about \"New York\". \n",
        "\n",
        "For this reason, it sometimes may make sense for you to analyze groups of words instead of unigrams. This tutorial will show you how to do NLP with groups of words, which we will call **phrases** or **multi-word expressions**. We will show how to (A) extract phrases from documents and (B) use these phrases for downstream analysis. \n",
        "\n",
        "## High-level takeaways\n",
        "\n",
        "1. **You can use phrases when you do NLP.** There are many existing tools and methods for extracting phrases (e.g. [PyATE](https://github.com/kevinlu1248/pyate)). In this tutorial, we will explore using phrases extracted via Python package [phrasemachine](https://github.com/slanglab/phrasemachine) which you can install using `pip install phrasemachine`. Phrasemachine is based on the method described in the paper [Bag of What](https://aclanthology.org/W16-5615.pdf).\n",
        "2. **You can be creative and define phrases in a way that makes sense for your problem.**  `phrasemachine` uses a grammar over part-of-speech tags to extract phrases. The particular phrasemachine patterns are often useful. But in your work, think of other kinds of phrasal patterns you might want to extract using regular expressions. For instance, if you are analyzing the political valance of economic theories, you might want to search economics papers for a pattern like \"theory of \\$ADJ\\?(NOUN|PROPN)+\" (e.g. \"Theory of Monetary Policy\")."
      ],
      "metadata": {
        "id": "d6wxORogR755"
      }
    },
    {
      "cell_type": "markdown",
      "source": [
        "#### Unigram bag of words\n",
        "\n",
        "Let's start with a single (short) document and break it into a unigram bag of words. It's easy to find packages for this online, but we will just use vanilla Python for this. A few notes:\n",
        "\n",
        "- We will define words using a whitespace delimiter below, but note there are also other better ways to do [tokenization](https://web.stanford.edu/~jurafsky/slp3/ed3book.pdf).\n",
        "- Note that a [bag](https://en.wikipedia.org/wiki/Multiset) is a set that allows duplicates; notice that the word `a` appears two times in the `unigram_bag_of_words`.\n",
        "- Note that each item in our bag is a unigram (single word)"
      ],
      "metadata": {
        "id": "bjwKfeJqpHSw"
      }
    },
    {
      "cell_type": "code",
      "source": [
        "from collections import defaultdict\n",
        "document =  \"Solyndra received a loan guarantee. The Department of Energy offered the guarantee.\".replace(\".\",\"\")\n",
        "unigram_bag_of_words = defaultdict(int)\n",
        "for word in document.split():\n",
        "    unigram_bag_of_words[word] += 1\n",
        "\n",
        "unigram_bag_of_words"
      ],
      "metadata": {
        "colab": {
          "base_uri": "https://localhost:8080/"
        },
        "id": "OkXB1_A6pCjE",
        "outputId": "3c2cdd93-327b-4888-dc2f-a55d7d534124"
      },
      "execution_count": 149,
      "outputs": [
        {
          "output_type": "execute_result",
          "data": {
            "text/plain": [
              "defaultdict(int,\n",
              "            {'Department': 1,\n",
              "             'Energy': 1,\n",
              "             'Solyndra': 1,\n",
              "             'The': 1,\n",
              "             'a': 1,\n",
              "             'guarantee': 2,\n",
              "             'loan': 1,\n",
              "             'of': 1,\n",
              "             'offered': 1,\n",
              "             'received': 1,\n",
              "             'the': 1})"
            ]
          },
          "metadata": {},
          "execution_count": 149
        }
      ]
    },
    {
      "cell_type": "markdown",
      "source": [
        "### Discussion: what are some phrases that get missed?"
      ],
      "metadata": {
        "id": "21N8xzxhsTI0"
      }
    },
    {
      "cell_type": "markdown",
      "source": [
        "### Adding phrases to the bag of words"
      ],
      "metadata": {
        "id": "XcQWcPG7sjLc"
      }
    },
    {
      "cell_type": "code",
      "source": [
        "import phrasemachine\n",
        "text = \"Solyndra received a loan guarantee. The Department of Energy offered the guarantee.\".replace(\".\",\"\")\n",
        "out = phrasemachine.get_phrases(text)\n",
        "out"
      ],
      "metadata": {
        "colab": {
          "base_uri": "https://localhost:8080/"
        },
        "id": "gw3KSip_To3y",
        "outputId": "06ed9e98-b45c-45e5-fe5d-de34afa5b582"
      },
      "execution_count": 150,
      "outputs": [
        {
          "output_type": "execute_result",
          "data": {
            "text/plain": [
              "{'counts': Counter({'department of energy': 1, 'loan guarantee': 1}),\n",
              " 'num_tokens': 12}"
            ]
          },
          "metadata": {},
          "execution_count": 150
        }
      ]
    },
    {
      "cell_type": "code",
      "source": [
        "# here we are adding the phrases to the unigram bag of words\n",
        "\n",
        "enriched_bag_of_words = unigram_bag_of_words\n",
        "for phrase in out[\"counts\"]:\n",
        "    enriched_bag_of_words[phrase] = out['counts'][phrase]\n",
        "\n",
        "enriched_bag_of_words"
      ],
      "metadata": {
        "colab": {
          "base_uri": "https://localhost:8080/"
        },
        "id": "kYbHS26Wvn9S",
        "outputId": "ddc6ec06-79a9-4a6d-a9d1-c1d98fa7986b"
      },
      "execution_count": 151,
      "outputs": [
        {
          "output_type": "execute_result",
          "data": {
            "text/plain": [
              "defaultdict(int,\n",
              "            {'Department': 1,\n",
              "             'Energy': 1,\n",
              "             'Solyndra': 1,\n",
              "             'The': 1,\n",
              "             'a': 1,\n",
              "             'department of energy': 1,\n",
              "             'guarantee': 2,\n",
              "             'loan': 1,\n",
              "             'loan guarantee': 1,\n",
              "             'of': 1,\n",
              "             'offered': 1,\n",
              "             'received': 1,\n",
              "             'the': 1})"
            ]
          },
          "metadata": {},
          "execution_count": 151
        }
      ]
    },
    {
      "cell_type": "code",
      "source": [
        "! pip3 install convokit\n",
        "! wget https://zissou.infosci.cornell.edu/convokit/datasets/supreme-corpus/cases.jsonl -O cases.jsonl\n",
        "! pip install phrasemachine\n",
        "! pip install tqdm"
      ],
      "metadata": {
        "colab": {
          "base_uri": "https://localhost:8080/"
        },
        "id": "Oygsu9vLs255",
        "outputId": "24c01ab1-a7c7-4c43-ceee-a109109920ed"
      },
      "execution_count": 4,
      "outputs": [
        {
          "output_type": "stream",
          "name": "stdout",
          "text": [
            "Requirement already satisfied: convokit in /usr/local/lib/python3.7/dist-packages (2.5.3)\n",
            "Requirement already satisfied: joblib>=0.13.2 in /usr/local/lib/python3.7/dist-packages (from convokit) (1.1.0)\n",
            "Requirement already satisfied: spacy>=2.3.5 in /usr/local/lib/python3.7/dist-packages (from convokit) (3.2.1)\n",
            "Requirement already satisfied: unidecode>=1.1.1 in /usr/local/lib/python3.7/dist-packages (from convokit) (1.3.2)\n",
            "Requirement already satisfied: pandas>=0.23.4 in /usr/local/lib/python3.7/dist-packages (from convokit) (1.3.5)\n",
            "Requirement already satisfied: matplotlib>=3.0.0 in /usr/local/lib/python3.7/dist-packages (from convokit) (3.2.2)\n",
            "Requirement already satisfied: nltk>=3.4 in /usr/local/lib/python3.7/dist-packages (from convokit) (3.7)\n",
            "Requirement already satisfied: clean-text>=0.1.1 in /usr/local/lib/python3.7/dist-packages (from convokit) (0.6.0)\n",
            "Requirement already satisfied: scipy>=1.1.0 in /usr/local/lib/python3.7/dist-packages (from convokit) (1.4.1)\n",
            "Requirement already satisfied: dill>=0.2.9 in /usr/local/lib/python3.7/dist-packages (from convokit) (0.3.4)\n",
            "Requirement already satisfied: scikit-learn>=0.20.0 in /usr/local/lib/python3.7/dist-packages (from convokit) (1.0.2)\n",
            "Requirement already satisfied: msgpack-numpy>=0.4.3.2 in /usr/local/lib/python3.7/dist-packages (from convokit) (0.4.7.1)\n",
            "Requirement already satisfied: emoji<2.0.0,>=1.0.0 in /usr/local/lib/python3.7/dist-packages (from clean-text>=0.1.1->convokit) (1.6.3)\n",
            "Requirement already satisfied: ftfy<7.0,>=6.0 in /usr/local/lib/python3.7/dist-packages (from clean-text>=0.1.1->convokit) (6.1.1)\n",
            "Requirement already satisfied: wcwidth>=0.2.5 in /usr/local/lib/python3.7/dist-packages (from ftfy<7.0,>=6.0->clean-text>=0.1.1->convokit) (0.2.5)\n",
            "Requirement already satisfied: kiwisolver>=1.0.1 in /usr/local/lib/python3.7/dist-packages (from matplotlib>=3.0.0->convokit) (1.3.2)\n",
            "Requirement already satisfied: cycler>=0.10 in /usr/local/lib/python3.7/dist-packages (from matplotlib>=3.0.0->convokit) (0.11.0)\n",
            "Requirement already satisfied: python-dateutil>=2.1 in /usr/local/lib/python3.7/dist-packages (from matplotlib>=3.0.0->convokit) (2.8.2)\n",
            "Requirement already satisfied: numpy>=1.11 in /usr/local/lib/python3.7/dist-packages (from matplotlib>=3.0.0->convokit) (1.19.5)\n",
            "Requirement already satisfied: pyparsing!=2.0.4,!=2.1.2,!=2.1.6,>=2.0.1 in /usr/local/lib/python3.7/dist-packages (from matplotlib>=3.0.0->convokit) (3.0.7)\n",
            "Requirement already satisfied: msgpack>=0.5.2 in /usr/local/lib/python3.7/dist-packages (from msgpack-numpy>=0.4.3.2->convokit) (1.0.3)\n",
            "Requirement already satisfied: click in /usr/local/lib/python3.7/dist-packages (from nltk>=3.4->convokit) (7.1.2)\n",
            "Requirement already satisfied: regex>=2021.8.3 in /usr/local/lib/python3.7/dist-packages (from nltk>=3.4->convokit) (2022.1.18)\n",
            "Requirement already satisfied: tqdm in /usr/local/lib/python3.7/dist-packages (from nltk>=3.4->convokit) (4.62.3)\n",
            "Requirement already satisfied: pytz>=2017.3 in /usr/local/lib/python3.7/dist-packages (from pandas>=0.23.4->convokit) (2018.9)\n",
            "Requirement already satisfied: six>=1.5 in /usr/local/lib/python3.7/dist-packages (from python-dateutil>=2.1->matplotlib>=3.0.0->convokit) (1.15.0)\n",
            "Requirement already satisfied: threadpoolctl>=2.0.0 in /usr/local/lib/python3.7/dist-packages (from scikit-learn>=0.20.0->convokit) (3.1.0)\n",
            "Requirement already satisfied: spacy-legacy<3.1.0,>=3.0.8 in /usr/local/lib/python3.7/dist-packages (from spacy>=2.3.5->convokit) (3.0.8)\n",
            "Requirement already satisfied: pathy>=0.3.5 in /usr/local/lib/python3.7/dist-packages (from spacy>=2.3.5->convokit) (0.6.1)\n",
            "Requirement already satisfied: typing-extensions<4.0.0.0,>=3.7.4 in /usr/local/lib/python3.7/dist-packages (from spacy>=2.3.5->convokit) (3.10.0.2)\n",
            "Requirement already satisfied: thinc<8.1.0,>=8.0.12 in /usr/local/lib/python3.7/dist-packages (from spacy>=2.3.5->convokit) (8.0.13)\n",
            "Requirement already satisfied: spacy-loggers<2.0.0,>=1.0.0 in /usr/local/lib/python3.7/dist-packages (from spacy>=2.3.5->convokit) (1.0.1)\n",
            "Requirement already satisfied: catalogue<2.1.0,>=2.0.6 in /usr/local/lib/python3.7/dist-packages (from spacy>=2.3.5->convokit) (2.0.6)\n",
            "Requirement already satisfied: pydantic!=1.8,!=1.8.1,<1.9.0,>=1.7.4 in /usr/local/lib/python3.7/dist-packages (from spacy>=2.3.5->convokit) (1.8.2)\n",
            "Requirement already satisfied: typer<0.5.0,>=0.3.0 in /usr/local/lib/python3.7/dist-packages (from spacy>=2.3.5->convokit) (0.4.0)\n",
            "Requirement already satisfied: setuptools in /usr/local/lib/python3.7/dist-packages (from spacy>=2.3.5->convokit) (57.4.0)\n",
            "Requirement already satisfied: murmurhash<1.1.0,>=0.28.0 in /usr/local/lib/python3.7/dist-packages (from spacy>=2.3.5->convokit) (1.0.6)\n",
            "Requirement already satisfied: wasabi<1.1.0,>=0.8.1 in /usr/local/lib/python3.7/dist-packages (from spacy>=2.3.5->convokit) (0.9.0)\n",
            "Requirement already satisfied: jinja2 in /usr/local/lib/python3.7/dist-packages (from spacy>=2.3.5->convokit) (2.11.3)\n",
            "Requirement already satisfied: packaging>=20.0 in /usr/local/lib/python3.7/dist-packages (from spacy>=2.3.5->convokit) (21.3)\n",
            "Requirement already satisfied: preshed<3.1.0,>=3.0.2 in /usr/local/lib/python3.7/dist-packages (from spacy>=2.3.5->convokit) (3.0.6)\n",
            "Requirement already satisfied: requests<3.0.0,>=2.13.0 in /usr/local/lib/python3.7/dist-packages (from spacy>=2.3.5->convokit) (2.23.0)\n",
            "Requirement already satisfied: srsly<3.0.0,>=2.4.1 in /usr/local/lib/python3.7/dist-packages (from spacy>=2.3.5->convokit) (2.4.2)\n",
            "Requirement already satisfied: cymem<2.1.0,>=2.0.2 in /usr/local/lib/python3.7/dist-packages (from spacy>=2.3.5->convokit) (2.0.6)\n",
            "Requirement already satisfied: langcodes<4.0.0,>=3.2.0 in /usr/local/lib/python3.7/dist-packages (from spacy>=2.3.5->convokit) (3.3.0)\n",
            "Requirement already satisfied: blis<0.8.0,>=0.4.0 in /usr/local/lib/python3.7/dist-packages (from spacy>=2.3.5->convokit) (0.4.1)\n",
            "Requirement already satisfied: zipp>=0.5 in /usr/local/lib/python3.7/dist-packages (from catalogue<2.1.0,>=2.0.6->spacy>=2.3.5->convokit) (3.7.0)\n",
            "Requirement already satisfied: smart-open<6.0.0,>=5.0.0 in /usr/local/lib/python3.7/dist-packages (from pathy>=0.3.5->spacy>=2.3.5->convokit) (5.2.1)\n",
            "Requirement already satisfied: certifi>=2017.4.17 in /usr/local/lib/python3.7/dist-packages (from requests<3.0.0,>=2.13.0->spacy>=2.3.5->convokit) (2021.10.8)\n",
            "Requirement already satisfied: idna<3,>=2.5 in /usr/local/lib/python3.7/dist-packages (from requests<3.0.0,>=2.13.0->spacy>=2.3.5->convokit) (2.10)\n",
            "Requirement already satisfied: urllib3!=1.25.0,!=1.25.1,<1.26,>=1.21.1 in /usr/local/lib/python3.7/dist-packages (from requests<3.0.0,>=2.13.0->spacy>=2.3.5->convokit) (1.24.3)\n",
            "Requirement already satisfied: chardet<4,>=3.0.2 in /usr/local/lib/python3.7/dist-packages (from requests<3.0.0,>=2.13.0->spacy>=2.3.5->convokit) (3.0.4)\n",
            "Requirement already satisfied: MarkupSafe>=0.23 in /usr/local/lib/python3.7/dist-packages (from jinja2->spacy>=2.3.5->convokit) (2.0.1)\n",
            "--2022-02-10 21:28:57--  https://zissou.infosci.cornell.edu/convokit/datasets/supreme-corpus/cases.jsonl\n",
            "Resolving zissou.infosci.cornell.edu (zissou.infosci.cornell.edu)... 128.253.51.178\n",
            "Connecting to zissou.infosci.cornell.edu (zissou.infosci.cornell.edu)|128.253.51.178|:443... connected.\n",
            "HTTP request sent, awaiting response... 200 OK\n",
            "Length: 13337468 (13M) [application/octet-stream]\n",
            "Saving to: ‘cases.jsonl’\n",
            "\n",
            "cases.jsonl         100%[===================>]  12.72M  16.4MB/s    in 0.8s    \n",
            "\n",
            "2022-02-10 21:28:58 (16.4 MB/s) - ‘cases.jsonl’ saved [13337468/13337468]\n",
            "\n",
            "Requirement already satisfied: phrasemachine in /usr/local/lib/python3.7/dist-packages (1.0.7)\n",
            "Requirement already satisfied: nltk in /usr/local/lib/python3.7/dist-packages (from phrasemachine) (3.7)\n",
            "Requirement already satisfied: click in /usr/local/lib/python3.7/dist-packages (from nltk->phrasemachine) (7.1.2)\n",
            "Requirement already satisfied: regex>=2021.8.3 in /usr/local/lib/python3.7/dist-packages (from nltk->phrasemachine) (2022.1.18)\n",
            "Requirement already satisfied: joblib in /usr/local/lib/python3.7/dist-packages (from nltk->phrasemachine) (1.1.0)\n",
            "Requirement already satisfied: tqdm in /usr/local/lib/python3.7/dist-packages (from nltk->phrasemachine) (4.62.3)\n",
            "Requirement already satisfied: tqdm in /usr/local/lib/python3.7/dist-packages (4.62.3)\n"
          ]
        }
      ]
    },
    {
      "cell_type": "markdown",
      "source": [
        "## Using phrases for downstream analysis\n",
        "\n",
        "Now that we know how to extract phrases using phrasemachine, we will now see how to use such phrases for downstream analysis. Specifically, we will analyze the ideological orientation of words and phrases in U.S. Supreme Court Oral Arguments.\n",
        "\n",
        "At a high level, we will ask: what kinds of things to liberal and conservative justices tend to bring up during oral arguments? What would you expect to liberals and convservatives to talk about?"
      ],
      "metadata": {
        "id": "6ccOnhLchBiN"
      }
    },
    {
      "cell_type": "markdown",
      "source": [
        "##### Corpus\n",
        "We will use the [`convokit`](https://convokit.cornell.edu/documentation/supreme.html) corpus of supreme court oral arguments. In this notebook, we will only examine comments from liberal and conservative justices from the years 2010-2019."
      ],
      "metadata": {
        "id": "v0qmiSKb0vpP"
      }
    },
    {
      "cell_type": "code",
      "execution_count": 11,
      "metadata": {
        "colab": {
          "base_uri": "https://localhost:8080/"
        },
        "id": "atQBShfoMrHx",
        "outputId": "8f608cee-4320-4a29-c756-072f86ab3f0d"
      },
      "outputs": [
        {
          "output_type": "stream",
          "name": "stdout",
          "text": [
            "Downloading supreme-corpus to /root/.convokit/downloads/supreme-corpus\n",
            "Downloading supreme-corpus from http://zissou.infosci.cornell.edu/convokit/datasets/supreme-corpus/supreme-corpus.zip (1255.8MB)... Done\n"
          ]
        }
      ],
      "source": [
        "from convokit import Corpus, download\n",
        "corpus = Corpus(filename=download(\"supreme-corpus\")) # download the corpus"
      ]
    },
    {
      "cell_type": "markdown",
      "source": [
        "In this analysis, we will investigate which phrases are used by liberal (L) and conservative (C) justices. So we need a mapping of justices to ideologies, which we construct manually below."
      ],
      "metadata": {
        "id": "p8fnkx_Yh8cK"
      }
    },
    {
      "cell_type": "code",
      "source": [
        "judge2ideology = {'j__john_g_roberts_jr': \"C\", \n",
        "                  'j__samuel_a_alito_jr': \"C\",\n",
        "                  'j__ruth_bader_ginsburg': \"L\",\n",
        "                  'j__sonia_sotomayor': \"L\",\n",
        "                  'j__antonin_scalia': \"L\",\n",
        "                  'j__stephen_g_breyer': \"L\",\n",
        "                  'j__anthony_m_kennedy': \"C\",\n",
        "                  'j__elena_kagan': \"L\",\n",
        "                  'j__clarence_thomas': \"C\",\n",
        "                  'j__neil_gorsuch': \"C\",\n",
        "                  'j__brett_m_kavanaugh': \"C\"\n",
        "                  }"
      ],
      "metadata": {
        "id": "gxREkwzx4t7M"
      },
      "execution_count": 7,
      "outputs": []
    },
    {
      "cell_type": "markdown",
      "source": [
        "We also build a set of all justices in the dataset."
      ],
      "metadata": {
        "id": "L49_rVmXit9T"
      }
    },
    {
      "cell_type": "code",
      "source": [
        "import json\n",
        "\n",
        "def get_justices(input_file=\"cases.jsonl\"):\n",
        "    '''Get names of all justices in the dataset'''\n",
        "    all_justices = set()\n",
        "    with open(input_file, \"r\") as inf:\n",
        "        for j in inf:\n",
        "            j = json.loads(j)\n",
        "            if j[\"votes\"] is not None:\n",
        "                for justice in j[\"votes\"].keys():\n",
        "                    all_justices.add(justice)\n",
        "    return all_justices\n",
        "\n",
        "all_justices = get_justices()"
      ],
      "metadata": {
        "id": "U-gYS_NRis0I"
      },
      "execution_count": 10,
      "outputs": []
    },
    {
      "cell_type": "markdown",
      "source": [
        "The next step is to extract words and phrases for the justices. In computing this information, we do two things to make the computational requirements more managable: \n",
        "1. We limit our analysis to court cases from 2010-2019, which is why you see `u.meta[\"case_id\"][0:3] == \"201\"` below. \n",
        "2. We also only extract phrases from the first 500 characters of the utterance."
      ],
      "metadata": {
        "id": "5bJ_Hjali8lD"
      }
    },
    {
      "cell_type": "code",
      "source": [
        "utterances = [] # build a list of the utterances we are interested in\n",
        "for u in tqdm(corpus.get_utterance_ids()):\n",
        "    u = corpus.get_utterance(u)\n",
        "    if u.speaker.id in all_justices and u.meta[\"case_id\"][0:3] == \"201\":\n",
        "        utterances.append(u)"
      ],
      "metadata": {
        "colab": {
          "base_uri": "https://localhost:8080/",
          "height": 49,
          "referenced_widgets": [
            "17ea60166b5f4db09d23b2b232ec0b16",
            "f8d98fff73364ba4a4f7d1f356a48875",
            "e79bc2aa705d4dfe9d0c08ee2d7122c6",
            "5193c2fc101a46daa9d1243d25576b2c",
            "1f89ac38fc91466e91ba7014f703e26d",
            "c42bb53490a64ec8af77421e3e1779a6",
            "76fa128404164f3ebabd16bd8d12d44f",
            "d310a27931d84f9eba971b33de7291f1",
            "95096d0519df4410abe9352e83c0dad9",
            "0cd6378d1895436ebaae8a3e36812da6",
            "e502eaa545b64736a04d650db5021fee"
          ]
        },
        "id": "IGPoa4e0mEbs",
        "outputId": "8b44d655-ba5d-4f1b-e4c5-7b9fd13c7f70"
      },
      "execution_count": 20,
      "outputs": [
        {
          "output_type": "display_data",
          "data": {
            "application/vnd.jupyter.widget-view+json": {
              "model_id": "17ea60166b5f4db09d23b2b232ec0b16",
              "version_minor": 0,
              "version_major": 2
            },
            "text/plain": [
              "  0%|          | 0/1700789 [00:00<?, ?it/s]"
            ]
          },
          "metadata": {}
        }
      ]
    },
    {
      "cell_type": "markdown",
      "source": [
        "### Extracting phrases\n",
        "\n",
        "The code below extracts and counts phrases from liberal and conservative justices"
      ],
      "metadata": {
        "id": "x5OWNu952PZL"
      }
    },
    {
      "cell_type": "code",
      "source": [
        "from collections import defaultdict # https://docs.python.org/3/library/collections.html#collections.defaultdict\n",
        "from tqdm.notebook import tqdm\n",
        "\n",
        "justice2phrases = defaultdict(lambda: defaultdict(int))\n",
        "\n",
        "for u in tqdm(utterances):\n",
        "    phrases = phrasemachine.get_phrases(u.text[0:500])[\"counts\"] # roughly 97.5% are less than 500 chars, and runs way faster\n",
        "    for p in phrases:\n",
        "        # we can filter out some filler/stop phrases here, e.g. when the record notes laughter\n",
        "        if \"justice\" not in p and \"mr.\" not in p and \"minutes\" not in p and \"laugher\" not in p:\n",
        "            justice2phrases[judge2ideology[u.speaker.id]][p] += phrases[p]\n",
        "\n",
        "phrasecounts = justice2phrases # this builds a dictionary of count of phrases by liberal/conservative judges"
      ],
      "metadata": {
        "colab": {
          "base_uri": "https://localhost:8080/",
          "height": 49,
          "referenced_widgets": [
            "a714c22c9ef0413bb7b83950077b236a",
            "3c7df383df264fc39389c2ad50c24da0",
            "4d42ddcb59884e3ba325f35344afc8e3",
            "0b83fcf33e97428c9e2d428cbe678a9a",
            "7ee0f3d6d2ca4167a7e99daab94340fa",
            "f733741229cc4920a893932373a94315",
            "375fd0062c094d2c8f91e59e67f10d63",
            "f26e568187c449528286fb56a37618e3",
            "6e6d4de2c9974f2b88e75e85a8989ba9",
            "c55f0141e7d242fabd680f9dfb119729",
            "7743a280d98b43e8a2b5e80288c21ede"
          ]
        },
        "id": "2ZFIyJ5TOjMN",
        "outputId": "3fdb08ac-4f17-423c-abc3-eb018f5690ba"
      },
      "execution_count": 67,
      "outputs": [
        {
          "output_type": "display_data",
          "data": {
            "application/vnd.jupyter.widget-view+json": {
              "model_id": "a714c22c9ef0413bb7b83950077b236a",
              "version_minor": 0,
              "version_major": 2
            },
            "text/plain": [
              "  0%|          | 0/78598 [00:00<?, ?it/s]"
            ]
          },
          "metadata": {}
        }
      ]
    },
    {
      "cell_type": "markdown",
      "source": [
        "### Extracting words\n",
        "\n",
        "The code below extracts and counts unigrams from liberal and conservative justices"
      ],
      "metadata": {
        "id": "-PVVQVjr2X5r"
      }
    },
    {
      "cell_type": "code",
      "source": [
        "justice2words = defaultdict(lambda: defaultdict(int))\n",
        "\n",
        "for u in tqdm(utterances):\n",
        "    words = u.text[0:500].split()\n",
        "    for word in words:\n",
        "        # we can filter out some filler/stop phrases here, e.g. when the record notes laughter\n",
        "        if \"justice\" not in word and \"mr.\" not in word and \"minutes\" not in word and \"laugher\" not in word:\n",
        "            justice2words[judge2ideology[u.speaker.id]][word] += 1\n",
        "\n",
        "wordcounts = justice2words # this builds a dictionary of count of phrases by liberal/conservative judges"
      ],
      "metadata": {
        "colab": {
          "base_uri": "https://localhost:8080/",
          "height": 49,
          "referenced_widgets": [
            "fee42f7b4229436eb7146c33b794c632",
            "d2f0511ffb3042d2abc18052c68476c4",
            "364ba50b3cac45d1a236e9664fbaa56d",
            "59f2c05d748f4ce18dd02f2bc4f136f5",
            "cb4c50e2525a4c3cbba25e3975523ec6",
            "e5ede08707cd475ba9022693bfd50595",
            "3ed9960538fc4f3096d2630669280a54",
            "8dccac89adff453b84b7eac9afd4daff",
            "febfe36576f14dea83b86cc497f64fbc",
            "d59722cac79a4f808d0ec3ad539e7e30",
            "7cfd4ba8736b4d8cb339b9a6922c7f4a"
          ]
        },
        "id": "I0FrnAkOv3GC",
        "outputId": "0746c1dc-5a03-480d-9936-05ffa11a0e60"
      },
      "execution_count": 83,
      "outputs": [
        {
          "output_type": "display_data",
          "data": {
            "application/vnd.jupyter.widget-view+json": {
              "model_id": "fee42f7b4229436eb7146c33b794c632",
              "version_minor": 0,
              "version_major": 2
            },
            "text/plain": [
              "  0%|          | 0/78598 [00:00<?, ?it/s]"
            ]
          },
          "metadata": {}
        }
      ]
    },
    {
      "cell_type": "markdown",
      "source": [
        "## Analyzing word use\n",
        "\n",
        "Now that we have counted words and phrases from liberal and convservative justices, we will analyze differences in the political orientation of words and phrases. Specifically we will:\n",
        "- Compute statistics about how frequently liberal and conservative justices use particular words and \n",
        "- Display this information on a plot for analysis \n",
        "\n",
        "Our approach is based on the [Fightin' Words](http://languagelog.ldc.upenn.edu/myl/Monroe.pdf) method from Monroe et al. Specifically, we will use the word importance score from Section 3.2.2 of Fightin' Words. If you are curious, the paper describes other word importance scores."
      ],
      "metadata": {
        "id": "u8V4jCA41_xx"
      }
    },
    {
      "cell_type": "code",
      "source": [
        "import pandas as pd\n",
        "\n",
        "def compute_normalize_counts(_countdict):\n",
        "\n",
        "    normalized_counts = defaultdict(lambda: defaultdict(int))\n",
        "\n",
        "    for wing in _countdict.keys():\n",
        "        for p in _countdict[wing]:\n",
        "            normalized_counts[wing][p] = _countdict[wing][p]/n[wing]\n",
        "\n",
        "    return normalized_counts\n",
        "\n",
        "def compute_phrase_scores(normalized, _countdict):\n",
        "    df = []\n",
        "    for wing in _countdict.keys():\n",
        "        for phrase in _countdict[wing]:\n",
        "            df.append({\"score\": normalized[\"L\"][phrase] - normalized[\"C\"][phrase], \n",
        "                    \"phrase\": phrase,\n",
        "                    \"count\": _countdict[\"C\"][phrase] + _countdict[\"L\"][phrase]}) # http://languagelog.ldc.upenn.edu/myl/Monroe.pdf, 3.2.2\n",
        "    return pd.DataFrame(df).drop_duplicates()\n",
        "\n",
        "def getK(_df, k=20):\n",
        "    if k > 0:\n",
        "        return _df.sort_values(\"score\")[0:k].copy()\n",
        "    else:\n",
        "        return _df.sort_values(\"score\")[k:].copy()\n",
        "\n",
        "def get_top_K_df(counts):\n",
        "\n",
        "    countdict = counts\n",
        "\n",
        "    n = {}  \n",
        "    n[\"C\"] = sum(countdict[\"C\"].values())\n",
        "    n[\"L\"] = sum(countdict[\"L\"].values())\n",
        "\n",
        "    normalized_counts = compute_normalize_counts(countdict)\n",
        "\n",
        "    df = compute_phrase_scores(normalized_counts, countdict)\n",
        "\n",
        "    df = df[df[\"count\"] < 200] # exclude high-count lexical items, roughly stop words\n",
        "\n",
        "    # add a label field to the data frame for altair\n",
        "    df[\"label\"] = df[\"phrase\"].apply(lambda x: x if x in tops[\"phrase\"].to_list() else \"\")\n",
        "\n",
        "    # add an abolute value of the score\n",
        "    df[\"score_abs\"] = df[\"score\"].apply(lambda x: abs(x))\n",
        "\n",
        "    return pd.concat([getK(df, k=-20), getK(df, k=20)])\n",
        "\n",
        "\n",
        "tops_phrases = get_top_K_df(phrasecounts)\n",
        "\n",
        "tops_words = get_top_K_df(wordcounts)\n",
        "\n",
        "tops_words[\"label\"] = tops_words[\"phrase\"]"
      ],
      "metadata": {
        "id": "j5xg7QcUuKno"
      },
      "execution_count": 133,
      "outputs": []
    },
    {
      "cell_type": "code",
      "source": [
        "# ! pip3 install convokit\n",
        "# ! wget https://zissou.infosci.cornell.edu/convokit/datasets/supreme-corpus/cases.jsonl -O cases.jsonl\n",
        "# ! pip install phrasemachine \n",
        "# ! pip install tqdm"
      ],
      "metadata": {
        "colab": {
          "base_uri": "https://localhost:8080/"
        },
        "id": "dNoOJnJmMsp1",
        "outputId": "f4b057b9-0579-43f1-db1f-e4ed1c90e80d"
      },
      "execution_count": null,
      "outputs": [
        {
          "output_type": "stream",
          "name": "stdout",
          "text": [
            "Requirement already satisfied: tqdm in /usr/local/lib/python3.7/dist-packages (4.62.3)\n"
          ]
        }
      ]
    },
    {
      "cell_type": "code",
      "source": [
        "# add words to doc?"
      ],
      "metadata": {
        "id": "JQ7ODlDVvp2W"
      },
      "execution_count": null,
      "outputs": []
    },
    {
      "cell_type": "code",
      "source": [
        "import altair as alt\n",
        "import pandas as pd\n",
        "\n",
        "\n",
        "def make_plot(source):\n",
        "\n",
        "    height = 1000\n",
        "\n",
        "    points = alt.Chart(source).mark_circle().encode(\n",
        "        x='count:Q',\n",
        "        y='score:Q',\n",
        "        size='score_abs',\n",
        "        color=alt.Color('score:Q', scale=alt.Scale(scheme='redyellowblue'))\n",
        "    ).properties(\n",
        "        width=1200,\n",
        "        height=height\n",
        "    )\n",
        "\n",
        "    text = alt.Chart(source).mark_text(\n",
        "        align='left',\n",
        "        baseline='middle',\n",
        "        dx=7\n",
        "    ).encode(\n",
        "        x='count:Q',\n",
        "        y='score:Q',\n",
        "        text='label'\n",
        "    ).properties(\n",
        "        width=1200,\n",
        "        height=height\n",
        "    )\n",
        "\n",
        "    return points + text\n",
        "\n",
        "make_plot(tops_phrases)"
      ],
      "metadata": {
        "colab": {
          "base_uri": "https://localhost:8080/",
          "height": 1000
        },
        "id": "tgfVnKVaMxKy",
        "outputId": "c1a472b2-a9a0-4661-fd40-0e6670976ce4"
      },
      "execution_count": 147,
      "outputs": [
        {
          "output_type": "execute_result",
          "data": {
            "text/plain": [
              "alt.LayerChart(...)"
            ],
            "text/html": [
              "\n",
              "<div id=\"altair-viz-cac967f5c6f044499ca7e11cd238d364\"></div>\n",
              "<script type=\"text/javascript\">\n",
              "  var VEGA_DEBUG = (typeof VEGA_DEBUG == \"undefined\") ? {} : VEGA_DEBUG;\n",
              "  (function(spec, embedOpt){\n",
              "    let outputDiv = document.currentScript.previousElementSibling;\n",
              "    if (outputDiv.id !== \"altair-viz-cac967f5c6f044499ca7e11cd238d364\") {\n",
              "      outputDiv = document.getElementById(\"altair-viz-cac967f5c6f044499ca7e11cd238d364\");\n",
              "    }\n",
              "    const paths = {\n",
              "      \"vega\": \"https://cdn.jsdelivr.net/npm//vega@5?noext\",\n",
              "      \"vega-lib\": \"https://cdn.jsdelivr.net/npm//vega-lib?noext\",\n",
              "      \"vega-lite\": \"https://cdn.jsdelivr.net/npm//vega-lite@4.17.0?noext\",\n",
              "      \"vega-embed\": \"https://cdn.jsdelivr.net/npm//vega-embed@6?noext\",\n",
              "    };\n",
              "\n",
              "    function maybeLoadScript(lib, version) {\n",
              "      var key = `${lib.replace(\"-\", \"\")}_version`;\n",
              "      return (VEGA_DEBUG[key] == version) ?\n",
              "        Promise.resolve(paths[lib]) :\n",
              "        new Promise(function(resolve, reject) {\n",
              "          var s = document.createElement('script');\n",
              "          document.getElementsByTagName(\"head\")[0].appendChild(s);\n",
              "          s.async = true;\n",
              "          s.onload = () => {\n",
              "            VEGA_DEBUG[key] = version;\n",
              "            return resolve(paths[lib]);\n",
              "          };\n",
              "          s.onerror = () => reject(`Error loading script: ${paths[lib]}`);\n",
              "          s.src = paths[lib];\n",
              "        });\n",
              "    }\n",
              "\n",
              "    function showError(err) {\n",
              "      outputDiv.innerHTML = `<div class=\"error\" style=\"color:red;\">${err}</div>`;\n",
              "      throw err;\n",
              "    }\n",
              "\n",
              "    function displayChart(vegaEmbed) {\n",
              "      vegaEmbed(outputDiv, spec, embedOpt)\n",
              "        .catch(err => showError(`Javascript Error: ${err.message}<br>This usually means there's a typo in your chart specification. See the javascript console for the full traceback.`));\n",
              "    }\n",
              "\n",
              "    if(typeof define === \"function\" && define.amd) {\n",
              "      requirejs.config({paths});\n",
              "      require([\"vega-embed\"], displayChart, err => showError(`Error loading script: ${err.message}`));\n",
              "    } else {\n",
              "      maybeLoadScript(\"vega\", \"5\")\n",
              "        .then(() => maybeLoadScript(\"vega-lite\", \"4.17.0\"))\n",
              "        .then(() => maybeLoadScript(\"vega-embed\", \"6\"))\n",
              "        .catch(showError)\n",
              "        .then(() => displayChart(vegaEmbed));\n",
              "    }\n",
              "  })({\"config\": {\"view\": {\"continuousWidth\": 400, \"continuousHeight\": 300}}, \"layer\": [{\"mark\": \"circle\", \"encoding\": {\"color\": {\"field\": \"score\", \"scale\": {\"scheme\": \"redyellowblue\"}, \"type\": \"quantitative\"}, \"size\": {\"field\": \"score_abs\", \"type\": \"quantitative\"}, \"x\": {\"field\": \"count\", \"type\": \"quantitative\"}, \"y\": {\"field\": \"score\", \"type\": \"quantitative\"}}, \"height\": 1000, \"width\": 1200}, {\"mark\": {\"type\": \"text\", \"align\": \"left\", \"baseline\": \"middle\", \"dx\": 7}, \"encoding\": {\"text\": {\"field\": \"label\", \"type\": \"nominal\"}, \"x\": {\"field\": \"count\", \"type\": \"quantitative\"}, \"y\": {\"field\": \"score\", \"type\": \"quantitative\"}}, \"height\": 1000, \"width\": 1200}], \"data\": {\"name\": \"data-e814125f7593d1c4b587ef684eb4b4a1\"}, \"$schema\": \"https://vega.github.io/schema/vega-lite/v4.17.0.json\", \"datasets\": {\"data-e814125f7593d1c4b587ef684eb4b4a1\": [{\"score\": 0.00024496346255217533, \"phrase\": \"tucker act\", \"count\": 72, \"label\": \"tucker act\", \"score_abs\": 0.00024496346255217533}, {\"score\": 0.0002487910750111998, \"phrase\": \"federal statute\", \"count\": 117, \"label\": \"federal statute\", \"score_abs\": 0.0002487910750111998}, {\"score\": 0.00025362580647949153, \"phrase\": \"general jurisdiction\", \"count\": 63, \"label\": \"general jurisdiction\", \"score_abs\": 0.00025362580647949153}, {\"score\": 0.00025436448491380066, \"phrase\": \"good reason\", \"count\": 84, \"label\": \"good reason\", \"score_abs\": 0.00025436448491380066}, {\"score\": 0.00025628955397613177, \"phrase\": \"sovereign immunity\", \"count\": 160, \"label\": \"sovereign immunity\", \"score_abs\": 0.00025628955397613177}, {\"score\": 0.00026405647351602205, \"phrase\": \"word \\u201c\", \"count\": 83, \"label\": \"word \\u201c\", \"score_abs\": 0.00026405647351602205}, {\"score\": 0.000264951897903448, \"phrase\": \"same way\", \"count\": 151, \"label\": \"same way\", \"score_abs\": 0.000264951897903448}, {\"score\": 0.0002900435052979708, \"phrase\": \"whole lot\", \"count\": 56, \"label\": \"whole lot\", \"score_abs\": 0.0002900435052979708}, {\"score\": 0.00029239376088837716, \"phrase\": \"kinds of things\", \"count\": 59, \"label\": \"kinds of things\", \"score_abs\": 0.00029239376088837716}, {\"score\": 0.00029622137334740165, \"phrase\": \"final judgment\", \"count\": 104, \"label\": \"final judgment\", \"score_abs\": 0.00029622137334740165}, {\"score\": 0.0002979896964566159, \"phrase\": \"law enforcement\", \"count\": 133, \"label\": \"law enforcement\", \"score_abs\": 0.0002979896964566159}, {\"score\": 0.00031090483937103175, \"phrase\": \"title vii\", \"count\": 96, \"label\": \"title vii\", \"score_abs\": 0.00031090483937103175}, {\"score\": 0.0003120912299990539, \"phrase\": \"only thing\", \"count\": 151, \"label\": \"only thing\", \"score_abs\": 0.0003120912299990539}, {\"score\": 0.00033353449655330696, \"phrase\": \"police officer\", \"count\": 165, \"label\": \"police officer\", \"score_abs\": 0.00033353449655330696}, {\"score\": 0.00034423360416479566, \"phrase\": \"bottom line\", \"count\": 65, \"label\": \"bottom line\", \"score_abs\": 0.00034423360416479566}, {\"score\": 0.00034557674074593475, \"phrase\": \"same question\", \"count\": 167, \"label\": \"same question\", \"score_abs\": 0.00034557674074593475}, {\"score\": 0.0003508591844079395, \"phrase\": \"two things\", \"count\": 147, \"label\": \"two things\", \"score_abs\": 0.0003508591844079395}, {\"score\": 0.0003697954494186693, \"phrase\": \"legislative history\", \"count\": 111, \"label\": \"legislative history\", \"score_abs\": 0.0003697954494186693}, {\"score\": 0.0004369232168655478, \"phrase\": \"federal circuit\", \"count\": 190, \"label\": \"federal circuit\", \"score_abs\": 0.0004369232168655478}, {\"score\": 0.0005778935009586523, \"phrase\": \"et cetera\", \"count\": 156, \"label\": \"et cetera\", \"score_abs\": 0.0005778935009586523}, {\"score\": -0.000573147938446564, \"phrase\": \"v. united\", \"count\": 64, \"label\": \"v. united\", \"score_abs\": 0.000573147938446564}, {\"score\": -0.000573147938446564, \"phrase\": \"v. united states\", \"count\": 64, \"label\": \"v. united states\", \"score_abs\": 0.000573147938446564}, {\"score\": -0.0005355438490000627, \"phrase\": \"whole point\", \"count\": 112, \"label\": \"whole point\", \"score_abs\": 0.0005355438490000627}, {\"score\": -0.0004398103536058707, \"phrase\": \"friend on the other side\", \"count\": 47, \"label\": \"friend on the other side\", \"score_abs\": 0.0004398103536058707}, {\"score\": -0.0003772488770523257, \"phrase\": \"end of the day\", \"count\": 60, \"label\": \"end of the day\", \"score_abs\": 0.0003772488770523257}, {\"score\": -0.0003331984789814353, \"phrase\": \"case no\", \"count\": 36, \"label\": \"case no\", \"score_abs\": 0.0003331984789814353}, {\"score\": -0.0002920802689821433, \"phrase\": \"mens rea\", \"count\": 35, \"label\": \"mens rea\", \"score_abs\": 0.0002920802689821433}, {\"score\": -0.0002920577433165055, \"phrase\": \"article iii\", \"count\": 142, \"label\": \"article iii\", \"score_abs\": 0.0002920577433165055}, {\"score\": -0.0002788516341614935, \"phrase\": \"particular case\", \"count\": 92, \"label\": \"particular case\", \"score_abs\": 0.0002788516341614935}, {\"score\": -0.00026799578059688784, \"phrase\": \"proportional representation\", \"count\": 39, \"label\": \"proportional representation\", \"score_abs\": 0.00026799578059688784}, {\"score\": -0.00026226562474117, \"phrase\": \"separation of powers\", \"count\": 53, \"label\": \"separation of powers\", \"score_abs\": 0.00026226562474117}, {\"score\": -0.0002593334366695716, \"phrase\": \"rebuttal time\", \"count\": 30, \"label\": \"rebuttal time\", \"score_abs\": 0.0002593334366695716}, {\"score\": -0.00025698318107916524, \"phrase\": \"injury in fact\", \"count\": 33, \"label\": \"injury in fact\", \"score_abs\": 0.00025698318107916524}, {\"score\": -0.0002450751571740166, \"phrase\": \"general verrilli\", \"count\": 95, \"label\": \"general verrilli\", \"score_abs\": 0.0002450751571740166}, {\"score\": -0.0002431726137773233, \"phrase\": \"practical matter\", \"count\": 64, \"label\": \"practical matter\", \"score_abs\": 0.0002431726137773233}, {\"score\": -0.00024066561223380005, \"phrase\": \"judicial review\", \"count\": 114, \"label\": \"judicial review\", \"score_abs\": 0.00024066561223380005}, {\"score\": -0.00023406255765629402, \"phrase\": \"trial judge\", \"count\": 89, \"label\": \"trial judge\", \"score_abs\": 0.00023406255765629402}, {\"score\": -0.0002326077264533137, \"phrase\": \"morning in case no\", \"count\": 24, \"label\": \"morning in case no\", \"score_abs\": 0.0002326077264533137}, {\"score\": -0.00023157808177840853, \"phrase\": \"general francisco\", \"count\": 32, \"label\": \"general francisco\", \"score_abs\": 0.00023157808177840853}, {\"score\": -0.00022291573785109228, \"phrase\": \"today in case\", \"count\": 23, \"label\": \"today in case\", \"score_abs\": 0.00022291573785109228}]}}, {\"mode\": \"vega-lite\"});\n",
              "</script>"
            ]
          },
          "metadata": {},
          "execution_count": 147
        }
      ]
    },
    {
      "cell_type": "code",
      "source": [
        "make_plot(tops_words)"
      ],
      "metadata": {
        "colab": {
          "base_uri": "https://localhost:8080/",
          "height": 1000
        },
        "id": "G6jqvWwQ7ZEk",
        "outputId": "64f9da91-520b-4390-d3aa-47ae1aae523a"
      },
      "execution_count": 148,
      "outputs": [
        {
          "output_type": "execute_result",
          "data": {
            "text/plain": [
              "alt.LayerChart(...)"
            ],
            "text/html": [
              "\n",
              "<div id=\"altair-viz-3671557c1c7f4bdda72695fbb0ff992a\"></div>\n",
              "<script type=\"text/javascript\">\n",
              "  var VEGA_DEBUG = (typeof VEGA_DEBUG == \"undefined\") ? {} : VEGA_DEBUG;\n",
              "  (function(spec, embedOpt){\n",
              "    let outputDiv = document.currentScript.previousElementSibling;\n",
              "    if (outputDiv.id !== \"altair-viz-3671557c1c7f4bdda72695fbb0ff992a\") {\n",
              "      outputDiv = document.getElementById(\"altair-viz-3671557c1c7f4bdda72695fbb0ff992a\");\n",
              "    }\n",
              "    const paths = {\n",
              "      \"vega\": \"https://cdn.jsdelivr.net/npm//vega@5?noext\",\n",
              "      \"vega-lib\": \"https://cdn.jsdelivr.net/npm//vega-lib?noext\",\n",
              "      \"vega-lite\": \"https://cdn.jsdelivr.net/npm//vega-lite@4.17.0?noext\",\n",
              "      \"vega-embed\": \"https://cdn.jsdelivr.net/npm//vega-embed@6?noext\",\n",
              "    };\n",
              "\n",
              "    function maybeLoadScript(lib, version) {\n",
              "      var key = `${lib.replace(\"-\", \"\")}_version`;\n",
              "      return (VEGA_DEBUG[key] == version) ?\n",
              "        Promise.resolve(paths[lib]) :\n",
              "        new Promise(function(resolve, reject) {\n",
              "          var s = document.createElement('script');\n",
              "          document.getElementsByTagName(\"head\")[0].appendChild(s);\n",
              "          s.async = true;\n",
              "          s.onload = () => {\n",
              "            VEGA_DEBUG[key] = version;\n",
              "            return resolve(paths[lib]);\n",
              "          };\n",
              "          s.onerror = () => reject(`Error loading script: ${paths[lib]}`);\n",
              "          s.src = paths[lib];\n",
              "        });\n",
              "    }\n",
              "\n",
              "    function showError(err) {\n",
              "      outputDiv.innerHTML = `<div class=\"error\" style=\"color:red;\">${err}</div>`;\n",
              "      throw err;\n",
              "    }\n",
              "\n",
              "    function displayChart(vegaEmbed) {\n",
              "      vegaEmbed(outputDiv, spec, embedOpt)\n",
              "        .catch(err => showError(`Javascript Error: ${err.message}<br>This usually means there's a typo in your chart specification. See the javascript console for the full traceback.`));\n",
              "    }\n",
              "\n",
              "    if(typeof define === \"function\" && define.amd) {\n",
              "      requirejs.config({paths});\n",
              "      require([\"vega-embed\"], displayChart, err => showError(`Error loading script: ${err.message}`));\n",
              "    } else {\n",
              "      maybeLoadScript(\"vega\", \"5\")\n",
              "        .then(() => maybeLoadScript(\"vega-lite\", \"4.17.0\"))\n",
              "        .then(() => maybeLoadScript(\"vega-embed\", \"6\"))\n",
              "        .catch(showError)\n",
              "        .then(() => displayChart(vegaEmbed));\n",
              "    }\n",
              "  })({\"config\": {\"view\": {\"continuousWidth\": 400, \"continuousHeight\": 300}}, \"layer\": [{\"mark\": \"circle\", \"encoding\": {\"color\": {\"field\": \"score\", \"scale\": {\"scheme\": \"redyellowblue\"}, \"type\": \"quantitative\"}, \"size\": {\"field\": \"score_abs\", \"type\": \"quantitative\"}, \"x\": {\"field\": \"count\", \"type\": \"quantitative\"}, \"y\": {\"field\": \"score\", \"type\": \"quantitative\"}}, \"height\": 1000, \"width\": 1200}, {\"mark\": {\"type\": \"text\", \"align\": \"left\", \"baseline\": \"middle\", \"dx\": 7}, \"encoding\": {\"text\": {\"field\": \"label\", \"type\": \"nominal\"}, \"x\": {\"field\": \"count\", \"type\": \"quantitative\"}, \"y\": {\"field\": \"score\", \"type\": \"quantitative\"}}, \"height\": 1000, \"width\": 1200}], \"data\": {\"name\": \"data-a2a2274ca2cec1f529d10550cec84888\"}, \"$schema\": \"https://vega.github.io/schema/vega-lite/v4.17.0.json\", \"datasets\": {\"data-a2a2274ca2cec1f529d10550cec84888\": [{\"score\": 0.000478914325586628, \"phrase\": \"saying.\", \"count\": 150, \"label\": \"saying.\", \"score_abs\": 0.000478914325586628}, {\"score\": 0.00047994397026153315, \"phrase\": \"did.\", \"count\": 158, \"label\": \"did.\", \"score_abs\": 0.00047994397026153315}, {\"score\": 0.00048039168245524606, \"phrase\": \"exact\", \"count\": 192, \"label\": \"exact\", \"score_abs\": 0.00048039168245524606}, {\"score\": 0.0004809736149364382, \"phrase\": \"did,\", \"count\": 166, \"label\": \"did,\", \"score_abs\": 0.0004809736149364382}, {\"score\": 0.00048126458117703436, \"phrase\": \"acting\", \"count\": 153, \"label\": \"acting\", \"score_abs\": 0.00048126458117703436}, {\"score\": 0.0004869947370327521, \"phrase\": \"says.\", \"count\": 167, \"label\": \"says.\", \"score_abs\": 0.0004869947370327521}, {\"score\": 0.0004937545375633751, \"phrase\": \"women\", \"count\": 189, \"label\": \"women\", \"score_abs\": 0.0004937545375633751}, {\"score\": 0.0005096018685493895, \"phrase\": \"many,\", \"count\": 129, \"label\": \"many,\", \"score_abs\": 0.0005096018685493895}, {\"score\": 0.0005110792254180076, \"phrase\": \"anyone\", \"count\": 171, \"label\": \"anyone\", \"score_abs\": 0.0005110792254180076}, {\"score\": 0.000513272735055297, \"phrase\": \"see.\", \"count\": 127, \"label\": \"see.\", \"score_abs\": 0.000513272735055297}, {\"score\": 0.000514168159442723, \"phrase\": \"because,\", \"count\": 195, \"label\": \"because,\", \"score_abs\": 0.000514168159442723}, {\"score\": 0.0005160707028394163, \"phrase\": \"like,\", \"count\": 164, \"label\": \"like,\", \"score_abs\": 0.0005160707028394163}, {\"score\": 0.0005225395371294432, \"phrase\": \"uses\", \"count\": 199, \"label\": \"uses\", \"score_abs\": 0.0005225395371294432}, {\"score\": 0.0005267923361165429, \"phrase\": \"Excuse\", \"count\": 171, \"label\": \"Excuse\", \"score_abs\": 0.0005267923361165429}, {\"score\": 0.0005426396671025573, \"phrase\": \"indeed\", \"count\": 111, \"label\": \"indeed\", \"score_abs\": 0.0005426396671025573}, {\"score\": 0.0005441170239711753, \"phrase\": \"woman\", \"count\": 153, \"label\": \"woman\", \"score_abs\": 0.0005441170239711753}, {\"score\": 0.0005520406894641826, \"phrase\": \"adversary\", \"count\": 123, \"label\": \"adversary\", \"score_abs\": 0.0005520406894641826}, {\"score\": 0.0005726110572966475, \"phrase\": \"She\", \"count\": 176, \"label\": \"She\", \"score_abs\": 0.0005726110572966475}, {\"score\": 0.0006315016673442849, \"phrase\": \"May\", \"count\": 191, \"label\": \"May\", \"score_abs\": 0.0006315016673442849}, {\"score\": 0.000700666198475336, \"phrase\": \"piece\", \"count\": 179, \"label\": \"piece\", \"score_abs\": 0.000700666198475336}, {\"score\": -0.0014514480347428043, \"phrase\": \"Counsel.\", \"count\": 153, \"label\": \"Counsel.\", \"score_abs\": 0.0014514480347428043}, {\"score\": -0.0010013412343878821, \"phrase\": \"friend\", \"count\": 186, \"label\": \"friend\", \"score_abs\": 0.0010013412343878821}, {\"score\": -0.0009480465599084832, \"phrase\": \"Sure.\", \"count\": 127, \"label\": \"Sure.\", \"score_abs\": 0.0009480465599084832}, {\"score\": -0.000848776418295863, \"phrase\": \"General.\", \"count\": 120, \"label\": \"General.\", \"score_abs\": 0.000848776418295863}, {\"score\": -0.0008408302271372179, \"phrase\": \"type\", \"count\": 197, \"label\": \"type\", \"score_abs\": 0.0008408302271372179}, {\"score\": -0.0008085311070183594, \"phrase\": \"Kagan's\", \"count\": 158, \"label\": \"Kagan's\", \"score_abs\": 0.0008085311070183594}, {\"score\": -0.0006179144892861256, \"phrase\": \"sorry\", \"count\": 174, \"label\": \"sorry\", \"score_abs\": 0.0006179144892861256}, {\"score\": -0.0006098566035056393, \"phrase\": \"Clement.\", \"count\": 84, \"label\": \"Clement.\", \"score_abs\": 0.0006098566035056393}, {\"score\": -0.000606901889768403, \"phrase\": \"reference\", \"count\": 168, \"label\": \"reference\", \"score_abs\": 0.000606901889768403}, {\"score\": -0.0005833993338643398, \"phrase\": \"Breyer's\", \"count\": 198, \"label\": \"Breyer's\", \"score_abs\": 0.0005833993338643398}, {\"score\": -0.0005832651135768606, \"phrase\": \"degree\", \"count\": 138, \"label\": \"degree\", \"score_abs\": 0.0005832651135768606}, {\"score\": -0.0005615308807820115, \"phrase\": \"4\", \"count\": 139, \"label\": \"4\", \"score_abs\": 0.0005615308807820115}, {\"score\": -0.000557412302082391, \"phrase\": \"hypothetical,\", \"count\": 171, \"label\": \"hypothetical,\", \"score_abs\": 0.000557412302082391}, {\"score\": -0.0005389237492653741, \"phrase\": \"interrupt\", \"count\": 101, \"label\": \"interrupt\", \"score_abs\": 0.0005389237492653741}, {\"score\": -0.0005345142043251575, \"phrase\": \"concerns\", \"count\": 120, \"label\": \"concerns\", \"score_abs\": 0.0005345142043251575}, {\"score\": -0.0005029537626406079, \"phrase\": \"Kneedler.\", \"count\": 60, \"label\": \"Kneedler.\", \"score_abs\": 0.0005029537626406079}, {\"score\": -0.0004909115184479802, \"phrase\": \"Justice.\", \"count\": 62, \"label\": \"Justice.\", \"score_abs\": 0.0004909115184479802}, {\"score\": -0.00048412919225171934, \"phrase\": \"analysis\", \"count\": 191, \"label\": \"analysis\", \"score_abs\": 0.00048412919225171934}, {\"score\": -0.00047945120673654454, \"phrase\": \"mens\", \"count\": 90, \"label\": \"mens\", \"score_abs\": 0.00047945120673654454}, {\"score\": -0.00046667028410960767, \"phrase\": \"sorts\", \"count\": 113, \"label\": \"sorts\", \"score_abs\": 0.00046667028410960767}]}}, {\"mode\": \"vega-lite\"});\n",
              "</script>"
            ]
          },
          "metadata": {},
          "execution_count": 148
        }
      ]
    },
    {
      "cell_type": "markdown",
      "source": [
        "### Discussion\n",
        "\n",
        "- Comparing the unigram plot to the plot with phrases, what do you notice? \n",
        "\n",
        "- Which plot gives you a clearer sense what justices tend to talk about. This is sometimes called being more \"[interpretable](https://arxiv.org/abs/1702.08608)\"."
      ],
      "metadata": {
        "id": "wkj3u_lj8i_s"
      }
    },
    {
      "cell_type": "code",
      "source": [
        ""
      ],
      "metadata": {
        "id": "90Vj3GMJ8tat"
      },
      "execution_count": null,
      "outputs": []
    }
  ]
}