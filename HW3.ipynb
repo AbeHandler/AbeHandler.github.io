{
  "nbformat": 4,
  "nbformat_minor": 0,
  "metadata": {
    "colab": {
      "provenance": [],
      "gpuType": "T4",
      "authorship_tag": "ABX9TyPXRe0RhSty+ban0mBDk9H6",
      "include_colab_link": true
    },
    "kernelspec": {
      "name": "python3",
      "display_name": "Python 3"
    },
    "language_info": {
      "name": "python"
    },
    "accelerator": "GPU",
    "widgets": {
      "application/vnd.jupyter.widget-state+json": {
        "80c8b156e39c43ec8f6e0de63962dfd4": {
          "model_module": "@jupyter-widgets/controls",
          "model_name": "HBoxModel",
          "model_module_version": "1.5.0",
          "state": {
            "_dom_classes": [],
            "_model_module": "@jupyter-widgets/controls",
            "_model_module_version": "1.5.0",
            "_model_name": "HBoxModel",
            "_view_count": null,
            "_view_module": "@jupyter-widgets/controls",
            "_view_module_version": "1.5.0",
            "_view_name": "HBoxView",
            "box_style": "",
            "children": [
              "IPY_MODEL_58b15c1c597a46279388092c5e828a32",
              "IPY_MODEL_8cadf4abe2404128939fa53885f0fc06",
              "IPY_MODEL_11c286af664b436ba4b0781df6b626d4"
            ],
            "layout": "IPY_MODEL_931cb543f23e437291f3c41fccaef04b"
          }
        },
        "58b15c1c597a46279388092c5e828a32": {
          "model_module": "@jupyter-widgets/controls",
          "model_name": "HTMLModel",
          "model_module_version": "1.5.0",
          "state": {
            "_dom_classes": [],
            "_model_module": "@jupyter-widgets/controls",
            "_model_module_version": "1.5.0",
            "_model_name": "HTMLModel",
            "_view_count": null,
            "_view_module": "@jupyter-widgets/controls",
            "_view_module_version": "1.5.0",
            "_view_name": "HTMLView",
            "description": "",
            "description_tooltip": null,
            "layout": "IPY_MODEL_e933dca5eef843cf9f6d13d468806f7f",
            "placeholder": "​",
            "style": "IPY_MODEL_e882a219f5cf4fa49b3662106e7f075a",
            "value": "Map: 100%"
          }
        },
        "8cadf4abe2404128939fa53885f0fc06": {
          "model_module": "@jupyter-widgets/controls",
          "model_name": "FloatProgressModel",
          "model_module_version": "1.5.0",
          "state": {
            "_dom_classes": [],
            "_model_module": "@jupyter-widgets/controls",
            "_model_module_version": "1.5.0",
            "_model_name": "FloatProgressModel",
            "_view_count": null,
            "_view_module": "@jupyter-widgets/controls",
            "_view_module_version": "1.5.0",
            "_view_name": "ProgressView",
            "bar_style": "success",
            "description": "",
            "description_tooltip": null,
            "layout": "IPY_MODEL_a3cd6c4ffc24440e85f5938729bffb64",
            "max": 4590,
            "min": 0,
            "orientation": "horizontal",
            "style": "IPY_MODEL_44ac7bf3ef3f4bb99eb02ff32a731a04",
            "value": 4590
          }
        },
        "11c286af664b436ba4b0781df6b626d4": {
          "model_module": "@jupyter-widgets/controls",
          "model_name": "HTMLModel",
          "model_module_version": "1.5.0",
          "state": {
            "_dom_classes": [],
            "_model_module": "@jupyter-widgets/controls",
            "_model_module_version": "1.5.0",
            "_model_name": "HTMLModel",
            "_view_count": null,
            "_view_module": "@jupyter-widgets/controls",
            "_view_module_version": "1.5.0",
            "_view_name": "HTMLView",
            "description": "",
            "description_tooltip": null,
            "layout": "IPY_MODEL_b9168fd0ed0c492fb4f458c2254de34c",
            "placeholder": "​",
            "style": "IPY_MODEL_09fb02b8857f4562acb2c493415ed346",
            "value": " 4590/4590 [00:02&lt;00:00, 1867.16 examples/s]"
          }
        },
        "931cb543f23e437291f3c41fccaef04b": {
          "model_module": "@jupyter-widgets/base",
          "model_name": "LayoutModel",
          "model_module_version": "1.2.0",
          "state": {
            "_model_module": "@jupyter-widgets/base",
            "_model_module_version": "1.2.0",
            "_model_name": "LayoutModel",
            "_view_count": null,
            "_view_module": "@jupyter-widgets/base",
            "_view_module_version": "1.2.0",
            "_view_name": "LayoutView",
            "align_content": null,
            "align_items": null,
            "align_self": null,
            "border": null,
            "bottom": null,
            "display": null,
            "flex": null,
            "flex_flow": null,
            "grid_area": null,
            "grid_auto_columns": null,
            "grid_auto_flow": null,
            "grid_auto_rows": null,
            "grid_column": null,
            "grid_gap": null,
            "grid_row": null,
            "grid_template_areas": null,
            "grid_template_columns": null,
            "grid_template_rows": null,
            "height": null,
            "justify_content": null,
            "justify_items": null,
            "left": null,
            "margin": null,
            "max_height": null,
            "max_width": null,
            "min_height": null,
            "min_width": null,
            "object_fit": null,
            "object_position": null,
            "order": null,
            "overflow": null,
            "overflow_x": null,
            "overflow_y": null,
            "padding": null,
            "right": null,
            "top": null,
            "visibility": null,
            "width": null
          }
        },
        "e933dca5eef843cf9f6d13d468806f7f": {
          "model_module": "@jupyter-widgets/base",
          "model_name": "LayoutModel",
          "model_module_version": "1.2.0",
          "state": {
            "_model_module": "@jupyter-widgets/base",
            "_model_module_version": "1.2.0",
            "_model_name": "LayoutModel",
            "_view_count": null,
            "_view_module": "@jupyter-widgets/base",
            "_view_module_version": "1.2.0",
            "_view_name": "LayoutView",
            "align_content": null,
            "align_items": null,
            "align_self": null,
            "border": null,
            "bottom": null,
            "display": null,
            "flex": null,
            "flex_flow": null,
            "grid_area": null,
            "grid_auto_columns": null,
            "grid_auto_flow": null,
            "grid_auto_rows": null,
            "grid_column": null,
            "grid_gap": null,
            "grid_row": null,
            "grid_template_areas": null,
            "grid_template_columns": null,
            "grid_template_rows": null,
            "height": null,
            "justify_content": null,
            "justify_items": null,
            "left": null,
            "margin": null,
            "max_height": null,
            "max_width": null,
            "min_height": null,
            "min_width": null,
            "object_fit": null,
            "object_position": null,
            "order": null,
            "overflow": null,
            "overflow_x": null,
            "overflow_y": null,
            "padding": null,
            "right": null,
            "top": null,
            "visibility": null,
            "width": null
          }
        },
        "e882a219f5cf4fa49b3662106e7f075a": {
          "model_module": "@jupyter-widgets/controls",
          "model_name": "DescriptionStyleModel",
          "model_module_version": "1.5.0",
          "state": {
            "_model_module": "@jupyter-widgets/controls",
            "_model_module_version": "1.5.0",
            "_model_name": "DescriptionStyleModel",
            "_view_count": null,
            "_view_module": "@jupyter-widgets/base",
            "_view_module_version": "1.2.0",
            "_view_name": "StyleView",
            "description_width": ""
          }
        },
        "a3cd6c4ffc24440e85f5938729bffb64": {
          "model_module": "@jupyter-widgets/base",
          "model_name": "LayoutModel",
          "model_module_version": "1.2.0",
          "state": {
            "_model_module": "@jupyter-widgets/base",
            "_model_module_version": "1.2.0",
            "_model_name": "LayoutModel",
            "_view_count": null,
            "_view_module": "@jupyter-widgets/base",
            "_view_module_version": "1.2.0",
            "_view_name": "LayoutView",
            "align_content": null,
            "align_items": null,
            "align_self": null,
            "border": null,
            "bottom": null,
            "display": null,
            "flex": null,
            "flex_flow": null,
            "grid_area": null,
            "grid_auto_columns": null,
            "grid_auto_flow": null,
            "grid_auto_rows": null,
            "grid_column": null,
            "grid_gap": null,
            "grid_row": null,
            "grid_template_areas": null,
            "grid_template_columns": null,
            "grid_template_rows": null,
            "height": null,
            "justify_content": null,
            "justify_items": null,
            "left": null,
            "margin": null,
            "max_height": null,
            "max_width": null,
            "min_height": null,
            "min_width": null,
            "object_fit": null,
            "object_position": null,
            "order": null,
            "overflow": null,
            "overflow_x": null,
            "overflow_y": null,
            "padding": null,
            "right": null,
            "top": null,
            "visibility": null,
            "width": null
          }
        },
        "44ac7bf3ef3f4bb99eb02ff32a731a04": {
          "model_module": "@jupyter-widgets/controls",
          "model_name": "ProgressStyleModel",
          "model_module_version": "1.5.0",
          "state": {
            "_model_module": "@jupyter-widgets/controls",
            "_model_module_version": "1.5.0",
            "_model_name": "ProgressStyleModel",
            "_view_count": null,
            "_view_module": "@jupyter-widgets/base",
            "_view_module_version": "1.2.0",
            "_view_name": "StyleView",
            "bar_color": null,
            "description_width": ""
          }
        },
        "b9168fd0ed0c492fb4f458c2254de34c": {
          "model_module": "@jupyter-widgets/base",
          "model_name": "LayoutModel",
          "model_module_version": "1.2.0",
          "state": {
            "_model_module": "@jupyter-widgets/base",
            "_model_module_version": "1.2.0",
            "_model_name": "LayoutModel",
            "_view_count": null,
            "_view_module": "@jupyter-widgets/base",
            "_view_module_version": "1.2.0",
            "_view_name": "LayoutView",
            "align_content": null,
            "align_items": null,
            "align_self": null,
            "border": null,
            "bottom": null,
            "display": null,
            "flex": null,
            "flex_flow": null,
            "grid_area": null,
            "grid_auto_columns": null,
            "grid_auto_flow": null,
            "grid_auto_rows": null,
            "grid_column": null,
            "grid_gap": null,
            "grid_row": null,
            "grid_template_areas": null,
            "grid_template_columns": null,
            "grid_template_rows": null,
            "height": null,
            "justify_content": null,
            "justify_items": null,
            "left": null,
            "margin": null,
            "max_height": null,
            "max_width": null,
            "min_height": null,
            "min_width": null,
            "object_fit": null,
            "object_position": null,
            "order": null,
            "overflow": null,
            "overflow_x": null,
            "overflow_y": null,
            "padding": null,
            "right": null,
            "top": null,
            "visibility": null,
            "width": null
          }
        },
        "09fb02b8857f4562acb2c493415ed346": {
          "model_module": "@jupyter-widgets/controls",
          "model_name": "DescriptionStyleModel",
          "model_module_version": "1.5.0",
          "state": {
            "_model_module": "@jupyter-widgets/controls",
            "_model_module_version": "1.5.0",
            "_model_name": "DescriptionStyleModel",
            "_view_count": null,
            "_view_module": "@jupyter-widgets/base",
            "_view_module_version": "1.2.0",
            "_view_name": "StyleView",
            "description_width": ""
          }
        },
        "e08ee80ed5bb47ac87c74db15dace5c4": {
          "model_module": "@jupyter-widgets/controls",
          "model_name": "HBoxModel",
          "model_module_version": "1.5.0",
          "state": {
            "_dom_classes": [],
            "_model_module": "@jupyter-widgets/controls",
            "_model_module_version": "1.5.0",
            "_model_name": "HBoxModel",
            "_view_count": null,
            "_view_module": "@jupyter-widgets/controls",
            "_view_module_version": "1.5.0",
            "_view_name": "HBoxView",
            "box_style": "",
            "children": [
              "IPY_MODEL_52ba60e3d12b4fff9a6575a448ae5b69",
              "IPY_MODEL_3d0e1e7e8ff64730aa3e15d37465c274",
              "IPY_MODEL_2bde5cd4ae3c4f709b7458d01a84999f"
            ],
            "layout": "IPY_MODEL_e6baa8cfd11842838ed13ed81a923a61"
          }
        },
        "52ba60e3d12b4fff9a6575a448ae5b69": {
          "model_module": "@jupyter-widgets/controls",
          "model_name": "HTMLModel",
          "model_module_version": "1.5.0",
          "state": {
            "_dom_classes": [],
            "_model_module": "@jupyter-widgets/controls",
            "_model_module_version": "1.5.0",
            "_model_name": "HTMLModel",
            "_view_count": null,
            "_view_module": "@jupyter-widgets/controls",
            "_view_module_version": "1.5.0",
            "_view_name": "HTMLView",
            "description": "",
            "description_tooltip": null,
            "layout": "IPY_MODEL_433d928da90f41f3a552530644c500eb",
            "placeholder": "​",
            "style": "IPY_MODEL_c9ed0e5381cf4849ba246349ae511031",
            "value": "Map: 100%"
          }
        },
        "3d0e1e7e8ff64730aa3e15d37465c274": {
          "model_module": "@jupyter-widgets/controls",
          "model_name": "FloatProgressModel",
          "model_module_version": "1.5.0",
          "state": {
            "_dom_classes": [],
            "_model_module": "@jupyter-widgets/controls",
            "_model_module_version": "1.5.0",
            "_model_name": "FloatProgressModel",
            "_view_count": null,
            "_view_module": "@jupyter-widgets/controls",
            "_view_module_version": "1.5.0",
            "_view_name": "ProgressView",
            "bar_style": "success",
            "description": "",
            "description_tooltip": null,
            "layout": "IPY_MODEL_48aaee4ed3854f1c9de7522426ab8cbe",
            "max": 530,
            "min": 0,
            "orientation": "horizontal",
            "style": "IPY_MODEL_07ed6cbe50f445049613dd4c2de6df07",
            "value": 530
          }
        },
        "2bde5cd4ae3c4f709b7458d01a84999f": {
          "model_module": "@jupyter-widgets/controls",
          "model_name": "HTMLModel",
          "model_module_version": "1.5.0",
          "state": {
            "_dom_classes": [],
            "_model_module": "@jupyter-widgets/controls",
            "_model_module_version": "1.5.0",
            "_model_name": "HTMLModel",
            "_view_count": null,
            "_view_module": "@jupyter-widgets/controls",
            "_view_module_version": "1.5.0",
            "_view_name": "HTMLView",
            "description": "",
            "description_tooltip": null,
            "layout": "IPY_MODEL_34f539984a8e45738e4e871b1713f154",
            "placeholder": "​",
            "style": "IPY_MODEL_79c0457795ad4318ae1195116764152a",
            "value": " 530/530 [00:00&lt;00:00, 2115.47 examples/s]"
          }
        },
        "e6baa8cfd11842838ed13ed81a923a61": {
          "model_module": "@jupyter-widgets/base",
          "model_name": "LayoutModel",
          "model_module_version": "1.2.0",
          "state": {
            "_model_module": "@jupyter-widgets/base",
            "_model_module_version": "1.2.0",
            "_model_name": "LayoutModel",
            "_view_count": null,
            "_view_module": "@jupyter-widgets/base",
            "_view_module_version": "1.2.0",
            "_view_name": "LayoutView",
            "align_content": null,
            "align_items": null,
            "align_self": null,
            "border": null,
            "bottom": null,
            "display": null,
            "flex": null,
            "flex_flow": null,
            "grid_area": null,
            "grid_auto_columns": null,
            "grid_auto_flow": null,
            "grid_auto_rows": null,
            "grid_column": null,
            "grid_gap": null,
            "grid_row": null,
            "grid_template_areas": null,
            "grid_template_columns": null,
            "grid_template_rows": null,
            "height": null,
            "justify_content": null,
            "justify_items": null,
            "left": null,
            "margin": null,
            "max_height": null,
            "max_width": null,
            "min_height": null,
            "min_width": null,
            "object_fit": null,
            "object_position": null,
            "order": null,
            "overflow": null,
            "overflow_x": null,
            "overflow_y": null,
            "padding": null,
            "right": null,
            "top": null,
            "visibility": null,
            "width": null
          }
        },
        "433d928da90f41f3a552530644c500eb": {
          "model_module": "@jupyter-widgets/base",
          "model_name": "LayoutModel",
          "model_module_version": "1.2.0",
          "state": {
            "_model_module": "@jupyter-widgets/base",
            "_model_module_version": "1.2.0",
            "_model_name": "LayoutModel",
            "_view_count": null,
            "_view_module": "@jupyter-widgets/base",
            "_view_module_version": "1.2.0",
            "_view_name": "LayoutView",
            "align_content": null,
            "align_items": null,
            "align_self": null,
            "border": null,
            "bottom": null,
            "display": null,
            "flex": null,
            "flex_flow": null,
            "grid_area": null,
            "grid_auto_columns": null,
            "grid_auto_flow": null,
            "grid_auto_rows": null,
            "grid_column": null,
            "grid_gap": null,
            "grid_row": null,
            "grid_template_areas": null,
            "grid_template_columns": null,
            "grid_template_rows": null,
            "height": null,
            "justify_content": null,
            "justify_items": null,
            "left": null,
            "margin": null,
            "max_height": null,
            "max_width": null,
            "min_height": null,
            "min_width": null,
            "object_fit": null,
            "object_position": null,
            "order": null,
            "overflow": null,
            "overflow_x": null,
            "overflow_y": null,
            "padding": null,
            "right": null,
            "top": null,
            "visibility": null,
            "width": null
          }
        },
        "c9ed0e5381cf4849ba246349ae511031": {
          "model_module": "@jupyter-widgets/controls",
          "model_name": "DescriptionStyleModel",
          "model_module_version": "1.5.0",
          "state": {
            "_model_module": "@jupyter-widgets/controls",
            "_model_module_version": "1.5.0",
            "_model_name": "DescriptionStyleModel",
            "_view_count": null,
            "_view_module": "@jupyter-widgets/base",
            "_view_module_version": "1.2.0",
            "_view_name": "StyleView",
            "description_width": ""
          }
        },
        "48aaee4ed3854f1c9de7522426ab8cbe": {
          "model_module": "@jupyter-widgets/base",
          "model_name": "LayoutModel",
          "model_module_version": "1.2.0",
          "state": {
            "_model_module": "@jupyter-widgets/base",
            "_model_module_version": "1.2.0",
            "_model_name": "LayoutModel",
            "_view_count": null,
            "_view_module": "@jupyter-widgets/base",
            "_view_module_version": "1.2.0",
            "_view_name": "LayoutView",
            "align_content": null,
            "align_items": null,
            "align_self": null,
            "border": null,
            "bottom": null,
            "display": null,
            "flex": null,
            "flex_flow": null,
            "grid_area": null,
            "grid_auto_columns": null,
            "grid_auto_flow": null,
            "grid_auto_rows": null,
            "grid_column": null,
            "grid_gap": null,
            "grid_row": null,
            "grid_template_areas": null,
            "grid_template_columns": null,
            "grid_template_rows": null,
            "height": null,
            "justify_content": null,
            "justify_items": null,
            "left": null,
            "margin": null,
            "max_height": null,
            "max_width": null,
            "min_height": null,
            "min_width": null,
            "object_fit": null,
            "object_position": null,
            "order": null,
            "overflow": null,
            "overflow_x": null,
            "overflow_y": null,
            "padding": null,
            "right": null,
            "top": null,
            "visibility": null,
            "width": null
          }
        },
        "07ed6cbe50f445049613dd4c2de6df07": {
          "model_module": "@jupyter-widgets/controls",
          "model_name": "ProgressStyleModel",
          "model_module_version": "1.5.0",
          "state": {
            "_model_module": "@jupyter-widgets/controls",
            "_model_module_version": "1.5.0",
            "_model_name": "ProgressStyleModel",
            "_view_count": null,
            "_view_module": "@jupyter-widgets/base",
            "_view_module_version": "1.2.0",
            "_view_name": "StyleView",
            "bar_color": null,
            "description_width": ""
          }
        },
        "34f539984a8e45738e4e871b1713f154": {
          "model_module": "@jupyter-widgets/base",
          "model_name": "LayoutModel",
          "model_module_version": "1.2.0",
          "state": {
            "_model_module": "@jupyter-widgets/base",
            "_model_module_version": "1.2.0",
            "_model_name": "LayoutModel",
            "_view_count": null,
            "_view_module": "@jupyter-widgets/base",
            "_view_module_version": "1.2.0",
            "_view_name": "LayoutView",
            "align_content": null,
            "align_items": null,
            "align_self": null,
            "border": null,
            "bottom": null,
            "display": null,
            "flex": null,
            "flex_flow": null,
            "grid_area": null,
            "grid_auto_columns": null,
            "grid_auto_flow": null,
            "grid_auto_rows": null,
            "grid_column": null,
            "grid_gap": null,
            "grid_row": null,
            "grid_template_areas": null,
            "grid_template_columns": null,
            "grid_template_rows": null,
            "height": null,
            "justify_content": null,
            "justify_items": null,
            "left": null,
            "margin": null,
            "max_height": null,
            "max_width": null,
            "min_height": null,
            "min_width": null,
            "object_fit": null,
            "object_position": null,
            "order": null,
            "overflow": null,
            "overflow_x": null,
            "overflow_y": null,
            "padding": null,
            "right": null,
            "top": null,
            "visibility": null,
            "width": null
          }
        },
        "79c0457795ad4318ae1195116764152a": {
          "model_module": "@jupyter-widgets/controls",
          "model_name": "DescriptionStyleModel",
          "model_module_version": "1.5.0",
          "state": {
            "_model_module": "@jupyter-widgets/controls",
            "_model_module_version": "1.5.0",
            "_model_name": "DescriptionStyleModel",
            "_view_count": null,
            "_view_module": "@jupyter-widgets/base",
            "_view_module_version": "1.2.0",
            "_view_name": "StyleView",
            "description_width": ""
          }
        },
        "96e16b3124c6414b86c7a2fbd83f2044": {
          "model_module": "@jupyter-widgets/controls",
          "model_name": "HBoxModel",
          "model_module_version": "1.5.0",
          "state": {
            "_dom_classes": [],
            "_model_module": "@jupyter-widgets/controls",
            "_model_module_version": "1.5.0",
            "_model_name": "HBoxModel",
            "_view_count": null,
            "_view_module": "@jupyter-widgets/controls",
            "_view_module_version": "1.5.0",
            "_view_name": "HBoxView",
            "box_style": "",
            "children": [
              "IPY_MODEL_024ad258bd444bf2b30fd67c80cfc68b",
              "IPY_MODEL_91ce4c2dfd7c41b182d529290a0c13b3",
              "IPY_MODEL_adc5f8b3bdb048f7ab1d04720f646121"
            ],
            "layout": "IPY_MODEL_a539e8a3f4944799a4dcba6ebb94f85a"
          }
        },
        "024ad258bd444bf2b30fd67c80cfc68b": {
          "model_module": "@jupyter-widgets/controls",
          "model_name": "HTMLModel",
          "model_module_version": "1.5.0",
          "state": {
            "_dom_classes": [],
            "_model_module": "@jupyter-widgets/controls",
            "_model_module_version": "1.5.0",
            "_model_name": "HTMLModel",
            "_view_count": null,
            "_view_module": "@jupyter-widgets/controls",
            "_view_module_version": "1.5.0",
            "_view_name": "HTMLView",
            "description": "",
            "description_tooltip": null,
            "layout": "IPY_MODEL_478eabbadbc24bd6bdcfd5d026c365ee",
            "placeholder": "​",
            "style": "IPY_MODEL_c429108258de4fac9744a09c4d1ca409",
            "value": "Downloading (…)okenizer_config.json: 100%"
          }
        },
        "91ce4c2dfd7c41b182d529290a0c13b3": {
          "model_module": "@jupyter-widgets/controls",
          "model_name": "FloatProgressModel",
          "model_module_version": "1.5.0",
          "state": {
            "_dom_classes": [],
            "_model_module": "@jupyter-widgets/controls",
            "_model_module_version": "1.5.0",
            "_model_name": "FloatProgressModel",
            "_view_count": null,
            "_view_module": "@jupyter-widgets/controls",
            "_view_module_version": "1.5.0",
            "_view_name": "ProgressView",
            "bar_style": "success",
            "description": "",
            "description_tooltip": null,
            "layout": "IPY_MODEL_4297344d64474b9cbfb7e36133ce64b6",
            "max": 28,
            "min": 0,
            "orientation": "horizontal",
            "style": "IPY_MODEL_76ffdc677701456188299fa193756f13",
            "value": 28
          }
        },
        "adc5f8b3bdb048f7ab1d04720f646121": {
          "model_module": "@jupyter-widgets/controls",
          "model_name": "HTMLModel",
          "model_module_version": "1.5.0",
          "state": {
            "_dom_classes": [],
            "_model_module": "@jupyter-widgets/controls",
            "_model_module_version": "1.5.0",
            "_model_name": "HTMLModel",
            "_view_count": null,
            "_view_module": "@jupyter-widgets/controls",
            "_view_module_version": "1.5.0",
            "_view_name": "HTMLView",
            "description": "",
            "description_tooltip": null,
            "layout": "IPY_MODEL_a115baad1b6547b180c8ee92d76576e3",
            "placeholder": "​",
            "style": "IPY_MODEL_4c108f8d444a4c1185fd43baf2e0d88f",
            "value": " 28.0/28.0 [00:00&lt;00:00, 1.33kB/s]"
          }
        },
        "a539e8a3f4944799a4dcba6ebb94f85a": {
          "model_module": "@jupyter-widgets/base",
          "model_name": "LayoutModel",
          "model_module_version": "1.2.0",
          "state": {
            "_model_module": "@jupyter-widgets/base",
            "_model_module_version": "1.2.0",
            "_model_name": "LayoutModel",
            "_view_count": null,
            "_view_module": "@jupyter-widgets/base",
            "_view_module_version": "1.2.0",
            "_view_name": "LayoutView",
            "align_content": null,
            "align_items": null,
            "align_self": null,
            "border": null,
            "bottom": null,
            "display": null,
            "flex": null,
            "flex_flow": null,
            "grid_area": null,
            "grid_auto_columns": null,
            "grid_auto_flow": null,
            "grid_auto_rows": null,
            "grid_column": null,
            "grid_gap": null,
            "grid_row": null,
            "grid_template_areas": null,
            "grid_template_columns": null,
            "grid_template_rows": null,
            "height": null,
            "justify_content": null,
            "justify_items": null,
            "left": null,
            "margin": null,
            "max_height": null,
            "max_width": null,
            "min_height": null,
            "min_width": null,
            "object_fit": null,
            "object_position": null,
            "order": null,
            "overflow": null,
            "overflow_x": null,
            "overflow_y": null,
            "padding": null,
            "right": null,
            "top": null,
            "visibility": null,
            "width": null
          }
        },
        "478eabbadbc24bd6bdcfd5d026c365ee": {
          "model_module": "@jupyter-widgets/base",
          "model_name": "LayoutModel",
          "model_module_version": "1.2.0",
          "state": {
            "_model_module": "@jupyter-widgets/base",
            "_model_module_version": "1.2.0",
            "_model_name": "LayoutModel",
            "_view_count": null,
            "_view_module": "@jupyter-widgets/base",
            "_view_module_version": "1.2.0",
            "_view_name": "LayoutView",
            "align_content": null,
            "align_items": null,
            "align_self": null,
            "border": null,
            "bottom": null,
            "display": null,
            "flex": null,
            "flex_flow": null,
            "grid_area": null,
            "grid_auto_columns": null,
            "grid_auto_flow": null,
            "grid_auto_rows": null,
            "grid_column": null,
            "grid_gap": null,
            "grid_row": null,
            "grid_template_areas": null,
            "grid_template_columns": null,
            "grid_template_rows": null,
            "height": null,
            "justify_content": null,
            "justify_items": null,
            "left": null,
            "margin": null,
            "max_height": null,
            "max_width": null,
            "min_height": null,
            "min_width": null,
            "object_fit": null,
            "object_position": null,
            "order": null,
            "overflow": null,
            "overflow_x": null,
            "overflow_y": null,
            "padding": null,
            "right": null,
            "top": null,
            "visibility": null,
            "width": null
          }
        },
        "c429108258de4fac9744a09c4d1ca409": {
          "model_module": "@jupyter-widgets/controls",
          "model_name": "DescriptionStyleModel",
          "model_module_version": "1.5.0",
          "state": {
            "_model_module": "@jupyter-widgets/controls",
            "_model_module_version": "1.5.0",
            "_model_name": "DescriptionStyleModel",
            "_view_count": null,
            "_view_module": "@jupyter-widgets/base",
            "_view_module_version": "1.2.0",
            "_view_name": "StyleView",
            "description_width": ""
          }
        },
        "4297344d64474b9cbfb7e36133ce64b6": {
          "model_module": "@jupyter-widgets/base",
          "model_name": "LayoutModel",
          "model_module_version": "1.2.0",
          "state": {
            "_model_module": "@jupyter-widgets/base",
            "_model_module_version": "1.2.0",
            "_model_name": "LayoutModel",
            "_view_count": null,
            "_view_module": "@jupyter-widgets/base",
            "_view_module_version": "1.2.0",
            "_view_name": "LayoutView",
            "align_content": null,
            "align_items": null,
            "align_self": null,
            "border": null,
            "bottom": null,
            "display": null,
            "flex": null,
            "flex_flow": null,
            "grid_area": null,
            "grid_auto_columns": null,
            "grid_auto_flow": null,
            "grid_auto_rows": null,
            "grid_column": null,
            "grid_gap": null,
            "grid_row": null,
            "grid_template_areas": null,
            "grid_template_columns": null,
            "grid_template_rows": null,
            "height": null,
            "justify_content": null,
            "justify_items": null,
            "left": null,
            "margin": null,
            "max_height": null,
            "max_width": null,
            "min_height": null,
            "min_width": null,
            "object_fit": null,
            "object_position": null,
            "order": null,
            "overflow": null,
            "overflow_x": null,
            "overflow_y": null,
            "padding": null,
            "right": null,
            "top": null,
            "visibility": null,
            "width": null
          }
        },
        "76ffdc677701456188299fa193756f13": {
          "model_module": "@jupyter-widgets/controls",
          "model_name": "ProgressStyleModel",
          "model_module_version": "1.5.0",
          "state": {
            "_model_module": "@jupyter-widgets/controls",
            "_model_module_version": "1.5.0",
            "_model_name": "ProgressStyleModel",
            "_view_count": null,
            "_view_module": "@jupyter-widgets/base",
            "_view_module_version": "1.2.0",
            "_view_name": "StyleView",
            "bar_color": null,
            "description_width": ""
          }
        },
        "a115baad1b6547b180c8ee92d76576e3": {
          "model_module": "@jupyter-widgets/base",
          "model_name": "LayoutModel",
          "model_module_version": "1.2.0",
          "state": {
            "_model_module": "@jupyter-widgets/base",
            "_model_module_version": "1.2.0",
            "_model_name": "LayoutModel",
            "_view_count": null,
            "_view_module": "@jupyter-widgets/base",
            "_view_module_version": "1.2.0",
            "_view_name": "LayoutView",
            "align_content": null,
            "align_items": null,
            "align_self": null,
            "border": null,
            "bottom": null,
            "display": null,
            "flex": null,
            "flex_flow": null,
            "grid_area": null,
            "grid_auto_columns": null,
            "grid_auto_flow": null,
            "grid_auto_rows": null,
            "grid_column": null,
            "grid_gap": null,
            "grid_row": null,
            "grid_template_areas": null,
            "grid_template_columns": null,
            "grid_template_rows": null,
            "height": null,
            "justify_content": null,
            "justify_items": null,
            "left": null,
            "margin": null,
            "max_height": null,
            "max_width": null,
            "min_height": null,
            "min_width": null,
            "object_fit": null,
            "object_position": null,
            "order": null,
            "overflow": null,
            "overflow_x": null,
            "overflow_y": null,
            "padding": null,
            "right": null,
            "top": null,
            "visibility": null,
            "width": null
          }
        },
        "4c108f8d444a4c1185fd43baf2e0d88f": {
          "model_module": "@jupyter-widgets/controls",
          "model_name": "DescriptionStyleModel",
          "model_module_version": "1.5.0",
          "state": {
            "_model_module": "@jupyter-widgets/controls",
            "_model_module_version": "1.5.0",
            "_model_name": "DescriptionStyleModel",
            "_view_count": null,
            "_view_module": "@jupyter-widgets/base",
            "_view_module_version": "1.2.0",
            "_view_name": "StyleView",
            "description_width": ""
          }
        },
        "de7df20b520f440b87f3733bbdd8a04a": {
          "model_module": "@jupyter-widgets/controls",
          "model_name": "HBoxModel",
          "model_module_version": "1.5.0",
          "state": {
            "_dom_classes": [],
            "_model_module": "@jupyter-widgets/controls",
            "_model_module_version": "1.5.0",
            "_model_name": "HBoxModel",
            "_view_count": null,
            "_view_module": "@jupyter-widgets/controls",
            "_view_module_version": "1.5.0",
            "_view_name": "HBoxView",
            "box_style": "",
            "children": [
              "IPY_MODEL_f489ce347cf141099b5aeec5d6d730ae",
              "IPY_MODEL_5ba6ea6ff6de4e3bb07ab897f8f3d26a",
              "IPY_MODEL_06829afdf18f4c1bbaf7462a71fe5dd7"
            ],
            "layout": "IPY_MODEL_f8660de0941e47f394d2ca9e5a9bc78b"
          }
        },
        "f489ce347cf141099b5aeec5d6d730ae": {
          "model_module": "@jupyter-widgets/controls",
          "model_name": "HTMLModel",
          "model_module_version": "1.5.0",
          "state": {
            "_dom_classes": [],
            "_model_module": "@jupyter-widgets/controls",
            "_model_module_version": "1.5.0",
            "_model_name": "HTMLModel",
            "_view_count": null,
            "_view_module": "@jupyter-widgets/controls",
            "_view_module_version": "1.5.0",
            "_view_name": "HTMLView",
            "description": "",
            "description_tooltip": null,
            "layout": "IPY_MODEL_1a0fd1b9fd1b4d84b79324252d4269e0",
            "placeholder": "​",
            "style": "IPY_MODEL_7e03246f20fd43faa713e163fc09d47a",
            "value": "Downloading (…)lve/main/config.json: 100%"
          }
        },
        "5ba6ea6ff6de4e3bb07ab897f8f3d26a": {
          "model_module": "@jupyter-widgets/controls",
          "model_name": "FloatProgressModel",
          "model_module_version": "1.5.0",
          "state": {
            "_dom_classes": [],
            "_model_module": "@jupyter-widgets/controls",
            "_model_module_version": "1.5.0",
            "_model_name": "FloatProgressModel",
            "_view_count": null,
            "_view_module": "@jupyter-widgets/controls",
            "_view_module_version": "1.5.0",
            "_view_name": "ProgressView",
            "bar_style": "success",
            "description": "",
            "description_tooltip": null,
            "layout": "IPY_MODEL_d48a8158a79040c88c776ee16ba2e99a",
            "max": 483,
            "min": 0,
            "orientation": "horizontal",
            "style": "IPY_MODEL_bd7f2a42d1554312816818e8f276ba3f",
            "value": 483
          }
        },
        "06829afdf18f4c1bbaf7462a71fe5dd7": {
          "model_module": "@jupyter-widgets/controls",
          "model_name": "HTMLModel",
          "model_module_version": "1.5.0",
          "state": {
            "_dom_classes": [],
            "_model_module": "@jupyter-widgets/controls",
            "_model_module_version": "1.5.0",
            "_model_name": "HTMLModel",
            "_view_count": null,
            "_view_module": "@jupyter-widgets/controls",
            "_view_module_version": "1.5.0",
            "_view_name": "HTMLView",
            "description": "",
            "description_tooltip": null,
            "layout": "IPY_MODEL_9138e39519eb4547afe40e14b2bbbd82",
            "placeholder": "​",
            "style": "IPY_MODEL_4994abf99c0b4435962c52988b13620b",
            "value": " 483/483 [00:00&lt;00:00, 24.7kB/s]"
          }
        },
        "f8660de0941e47f394d2ca9e5a9bc78b": {
          "model_module": "@jupyter-widgets/base",
          "model_name": "LayoutModel",
          "model_module_version": "1.2.0",
          "state": {
            "_model_module": "@jupyter-widgets/base",
            "_model_module_version": "1.2.0",
            "_model_name": "LayoutModel",
            "_view_count": null,
            "_view_module": "@jupyter-widgets/base",
            "_view_module_version": "1.2.0",
            "_view_name": "LayoutView",
            "align_content": null,
            "align_items": null,
            "align_self": null,
            "border": null,
            "bottom": null,
            "display": null,
            "flex": null,
            "flex_flow": null,
            "grid_area": null,
            "grid_auto_columns": null,
            "grid_auto_flow": null,
            "grid_auto_rows": null,
            "grid_column": null,
            "grid_gap": null,
            "grid_row": null,
            "grid_template_areas": null,
            "grid_template_columns": null,
            "grid_template_rows": null,
            "height": null,
            "justify_content": null,
            "justify_items": null,
            "left": null,
            "margin": null,
            "max_height": null,
            "max_width": null,
            "min_height": null,
            "min_width": null,
            "object_fit": null,
            "object_position": null,
            "order": null,
            "overflow": null,
            "overflow_x": null,
            "overflow_y": null,
            "padding": null,
            "right": null,
            "top": null,
            "visibility": null,
            "width": null
          }
        },
        "1a0fd1b9fd1b4d84b79324252d4269e0": {
          "model_module": "@jupyter-widgets/base",
          "model_name": "LayoutModel",
          "model_module_version": "1.2.0",
          "state": {
            "_model_module": "@jupyter-widgets/base",
            "_model_module_version": "1.2.0",
            "_model_name": "LayoutModel",
            "_view_count": null,
            "_view_module": "@jupyter-widgets/base",
            "_view_module_version": "1.2.0",
            "_view_name": "LayoutView",
            "align_content": null,
            "align_items": null,
            "align_self": null,
            "border": null,
            "bottom": null,
            "display": null,
            "flex": null,
            "flex_flow": null,
            "grid_area": null,
            "grid_auto_columns": null,
            "grid_auto_flow": null,
            "grid_auto_rows": null,
            "grid_column": null,
            "grid_gap": null,
            "grid_row": null,
            "grid_template_areas": null,
            "grid_template_columns": null,
            "grid_template_rows": null,
            "height": null,
            "justify_content": null,
            "justify_items": null,
            "left": null,
            "margin": null,
            "max_height": null,
            "max_width": null,
            "min_height": null,
            "min_width": null,
            "object_fit": null,
            "object_position": null,
            "order": null,
            "overflow": null,
            "overflow_x": null,
            "overflow_y": null,
            "padding": null,
            "right": null,
            "top": null,
            "visibility": null,
            "width": null
          }
        },
        "7e03246f20fd43faa713e163fc09d47a": {
          "model_module": "@jupyter-widgets/controls",
          "model_name": "DescriptionStyleModel",
          "model_module_version": "1.5.0",
          "state": {
            "_model_module": "@jupyter-widgets/controls",
            "_model_module_version": "1.5.0",
            "_model_name": "DescriptionStyleModel",
            "_view_count": null,
            "_view_module": "@jupyter-widgets/base",
            "_view_module_version": "1.2.0",
            "_view_name": "StyleView",
            "description_width": ""
          }
        },
        "d48a8158a79040c88c776ee16ba2e99a": {
          "model_module": "@jupyter-widgets/base",
          "model_name": "LayoutModel",
          "model_module_version": "1.2.0",
          "state": {
            "_model_module": "@jupyter-widgets/base",
            "_model_module_version": "1.2.0",
            "_model_name": "LayoutModel",
            "_view_count": null,
            "_view_module": "@jupyter-widgets/base",
            "_view_module_version": "1.2.0",
            "_view_name": "LayoutView",
            "align_content": null,
            "align_items": null,
            "align_self": null,
            "border": null,
            "bottom": null,
            "display": null,
            "flex": null,
            "flex_flow": null,
            "grid_area": null,
            "grid_auto_columns": null,
            "grid_auto_flow": null,
            "grid_auto_rows": null,
            "grid_column": null,
            "grid_gap": null,
            "grid_row": null,
            "grid_template_areas": null,
            "grid_template_columns": null,
            "grid_template_rows": null,
            "height": null,
            "justify_content": null,
            "justify_items": null,
            "left": null,
            "margin": null,
            "max_height": null,
            "max_width": null,
            "min_height": null,
            "min_width": null,
            "object_fit": null,
            "object_position": null,
            "order": null,
            "overflow": null,
            "overflow_x": null,
            "overflow_y": null,
            "padding": null,
            "right": null,
            "top": null,
            "visibility": null,
            "width": null
          }
        },
        "bd7f2a42d1554312816818e8f276ba3f": {
          "model_module": "@jupyter-widgets/controls",
          "model_name": "ProgressStyleModel",
          "model_module_version": "1.5.0",
          "state": {
            "_model_module": "@jupyter-widgets/controls",
            "_model_module_version": "1.5.0",
            "_model_name": "ProgressStyleModel",
            "_view_count": null,
            "_view_module": "@jupyter-widgets/base",
            "_view_module_version": "1.2.0",
            "_view_name": "StyleView",
            "bar_color": null,
            "description_width": ""
          }
        },
        "9138e39519eb4547afe40e14b2bbbd82": {
          "model_module": "@jupyter-widgets/base",
          "model_name": "LayoutModel",
          "model_module_version": "1.2.0",
          "state": {
            "_model_module": "@jupyter-widgets/base",
            "_model_module_version": "1.2.0",
            "_model_name": "LayoutModel",
            "_view_count": null,
            "_view_module": "@jupyter-widgets/base",
            "_view_module_version": "1.2.0",
            "_view_name": "LayoutView",
            "align_content": null,
            "align_items": null,
            "align_self": null,
            "border": null,
            "bottom": null,
            "display": null,
            "flex": null,
            "flex_flow": null,
            "grid_area": null,
            "grid_auto_columns": null,
            "grid_auto_flow": null,
            "grid_auto_rows": null,
            "grid_column": null,
            "grid_gap": null,
            "grid_row": null,
            "grid_template_areas": null,
            "grid_template_columns": null,
            "grid_template_rows": null,
            "height": null,
            "justify_content": null,
            "justify_items": null,
            "left": null,
            "margin": null,
            "max_height": null,
            "max_width": null,
            "min_height": null,
            "min_width": null,
            "object_fit": null,
            "object_position": null,
            "order": null,
            "overflow": null,
            "overflow_x": null,
            "overflow_y": null,
            "padding": null,
            "right": null,
            "top": null,
            "visibility": null,
            "width": null
          }
        },
        "4994abf99c0b4435962c52988b13620b": {
          "model_module": "@jupyter-widgets/controls",
          "model_name": "DescriptionStyleModel",
          "model_module_version": "1.5.0",
          "state": {
            "_model_module": "@jupyter-widgets/controls",
            "_model_module_version": "1.5.0",
            "_model_name": "DescriptionStyleModel",
            "_view_count": null,
            "_view_module": "@jupyter-widgets/base",
            "_view_module_version": "1.2.0",
            "_view_name": "StyleView",
            "description_width": ""
          }
        },
        "6edb613dafdc4feda3300d2d98c70f57": {
          "model_module": "@jupyter-widgets/controls",
          "model_name": "HBoxModel",
          "model_module_version": "1.5.0",
          "state": {
            "_dom_classes": [],
            "_model_module": "@jupyter-widgets/controls",
            "_model_module_version": "1.5.0",
            "_model_name": "HBoxModel",
            "_view_count": null,
            "_view_module": "@jupyter-widgets/controls",
            "_view_module_version": "1.5.0",
            "_view_name": "HBoxView",
            "box_style": "",
            "children": [
              "IPY_MODEL_79d6ffbb8c374309b6d8fe6cfb419a00",
              "IPY_MODEL_8a2d2441a66f4ffead80f777d09c25a0",
              "IPY_MODEL_d748c53e75c14c21b1b379215ebf9adb"
            ],
            "layout": "IPY_MODEL_0dc8897b623b4b9db5a073ee3ac62225"
          }
        },
        "79d6ffbb8c374309b6d8fe6cfb419a00": {
          "model_module": "@jupyter-widgets/controls",
          "model_name": "HTMLModel",
          "model_module_version": "1.5.0",
          "state": {
            "_dom_classes": [],
            "_model_module": "@jupyter-widgets/controls",
            "_model_module_version": "1.5.0",
            "_model_name": "HTMLModel",
            "_view_count": null,
            "_view_module": "@jupyter-widgets/controls",
            "_view_module_version": "1.5.0",
            "_view_name": "HTMLView",
            "description": "",
            "description_tooltip": null,
            "layout": "IPY_MODEL_6bee79e321344b049d272a89c38efac0",
            "placeholder": "​",
            "style": "IPY_MODEL_8575bd60082c48e8a163cc615005326c",
            "value": "Downloading (…)solve/main/vocab.txt: 100%"
          }
        },
        "8a2d2441a66f4ffead80f777d09c25a0": {
          "model_module": "@jupyter-widgets/controls",
          "model_name": "FloatProgressModel",
          "model_module_version": "1.5.0",
          "state": {
            "_dom_classes": [],
            "_model_module": "@jupyter-widgets/controls",
            "_model_module_version": "1.5.0",
            "_model_name": "FloatProgressModel",
            "_view_count": null,
            "_view_module": "@jupyter-widgets/controls",
            "_view_module_version": "1.5.0",
            "_view_name": "ProgressView",
            "bar_style": "success",
            "description": "",
            "description_tooltip": null,
            "layout": "IPY_MODEL_4feece5768654a999613580c625ab424",
            "max": 231508,
            "min": 0,
            "orientation": "horizontal",
            "style": "IPY_MODEL_a62b746af4934f60b5f2cefcf81218b0",
            "value": 231508
          }
        },
        "d748c53e75c14c21b1b379215ebf9adb": {
          "model_module": "@jupyter-widgets/controls",
          "model_name": "HTMLModel",
          "model_module_version": "1.5.0",
          "state": {
            "_dom_classes": [],
            "_model_module": "@jupyter-widgets/controls",
            "_model_module_version": "1.5.0",
            "_model_name": "HTMLModel",
            "_view_count": null,
            "_view_module": "@jupyter-widgets/controls",
            "_view_module_version": "1.5.0",
            "_view_name": "HTMLView",
            "description": "",
            "description_tooltip": null,
            "layout": "IPY_MODEL_570f9e1dbf02406bb7b171f4e791e581",
            "placeholder": "​",
            "style": "IPY_MODEL_a7f36c9e0c9c4956b77d9f74eae72d28",
            "value": " 232k/232k [00:00&lt;00:00, 4.75MB/s]"
          }
        },
        "0dc8897b623b4b9db5a073ee3ac62225": {
          "model_module": "@jupyter-widgets/base",
          "model_name": "LayoutModel",
          "model_module_version": "1.2.0",
          "state": {
            "_model_module": "@jupyter-widgets/base",
            "_model_module_version": "1.2.0",
            "_model_name": "LayoutModel",
            "_view_count": null,
            "_view_module": "@jupyter-widgets/base",
            "_view_module_version": "1.2.0",
            "_view_name": "LayoutView",
            "align_content": null,
            "align_items": null,
            "align_self": null,
            "border": null,
            "bottom": null,
            "display": null,
            "flex": null,
            "flex_flow": null,
            "grid_area": null,
            "grid_auto_columns": null,
            "grid_auto_flow": null,
            "grid_auto_rows": null,
            "grid_column": null,
            "grid_gap": null,
            "grid_row": null,
            "grid_template_areas": null,
            "grid_template_columns": null,
            "grid_template_rows": null,
            "height": null,
            "justify_content": null,
            "justify_items": null,
            "left": null,
            "margin": null,
            "max_height": null,
            "max_width": null,
            "min_height": null,
            "min_width": null,
            "object_fit": null,
            "object_position": null,
            "order": null,
            "overflow": null,
            "overflow_x": null,
            "overflow_y": null,
            "padding": null,
            "right": null,
            "top": null,
            "visibility": null,
            "width": null
          }
        },
        "6bee79e321344b049d272a89c38efac0": {
          "model_module": "@jupyter-widgets/base",
          "model_name": "LayoutModel",
          "model_module_version": "1.2.0",
          "state": {
            "_model_module": "@jupyter-widgets/base",
            "_model_module_version": "1.2.0",
            "_model_name": "LayoutModel",
            "_view_count": null,
            "_view_module": "@jupyter-widgets/base",
            "_view_module_version": "1.2.0",
            "_view_name": "LayoutView",
            "align_content": null,
            "align_items": null,
            "align_self": null,
            "border": null,
            "bottom": null,
            "display": null,
            "flex": null,
            "flex_flow": null,
            "grid_area": null,
            "grid_auto_columns": null,
            "grid_auto_flow": null,
            "grid_auto_rows": null,
            "grid_column": null,
            "grid_gap": null,
            "grid_row": null,
            "grid_template_areas": null,
            "grid_template_columns": null,
            "grid_template_rows": null,
            "height": null,
            "justify_content": null,
            "justify_items": null,
            "left": null,
            "margin": null,
            "max_height": null,
            "max_width": null,
            "min_height": null,
            "min_width": null,
            "object_fit": null,
            "object_position": null,
            "order": null,
            "overflow": null,
            "overflow_x": null,
            "overflow_y": null,
            "padding": null,
            "right": null,
            "top": null,
            "visibility": null,
            "width": null
          }
        },
        "8575bd60082c48e8a163cc615005326c": {
          "model_module": "@jupyter-widgets/controls",
          "model_name": "DescriptionStyleModel",
          "model_module_version": "1.5.0",
          "state": {
            "_model_module": "@jupyter-widgets/controls",
            "_model_module_version": "1.5.0",
            "_model_name": "DescriptionStyleModel",
            "_view_count": null,
            "_view_module": "@jupyter-widgets/base",
            "_view_module_version": "1.2.0",
            "_view_name": "StyleView",
            "description_width": ""
          }
        },
        "4feece5768654a999613580c625ab424": {
          "model_module": "@jupyter-widgets/base",
          "model_name": "LayoutModel",
          "model_module_version": "1.2.0",
          "state": {
            "_model_module": "@jupyter-widgets/base",
            "_model_module_version": "1.2.0",
            "_model_name": "LayoutModel",
            "_view_count": null,
            "_view_module": "@jupyter-widgets/base",
            "_view_module_version": "1.2.0",
            "_view_name": "LayoutView",
            "align_content": null,
            "align_items": null,
            "align_self": null,
            "border": null,
            "bottom": null,
            "display": null,
            "flex": null,
            "flex_flow": null,
            "grid_area": null,
            "grid_auto_columns": null,
            "grid_auto_flow": null,
            "grid_auto_rows": null,
            "grid_column": null,
            "grid_gap": null,
            "grid_row": null,
            "grid_template_areas": null,
            "grid_template_columns": null,
            "grid_template_rows": null,
            "height": null,
            "justify_content": null,
            "justify_items": null,
            "left": null,
            "margin": null,
            "max_height": null,
            "max_width": null,
            "min_height": null,
            "min_width": null,
            "object_fit": null,
            "object_position": null,
            "order": null,
            "overflow": null,
            "overflow_x": null,
            "overflow_y": null,
            "padding": null,
            "right": null,
            "top": null,
            "visibility": null,
            "width": null
          }
        },
        "a62b746af4934f60b5f2cefcf81218b0": {
          "model_module": "@jupyter-widgets/controls",
          "model_name": "ProgressStyleModel",
          "model_module_version": "1.5.0",
          "state": {
            "_model_module": "@jupyter-widgets/controls",
            "_model_module_version": "1.5.0",
            "_model_name": "ProgressStyleModel",
            "_view_count": null,
            "_view_module": "@jupyter-widgets/base",
            "_view_module_version": "1.2.0",
            "_view_name": "StyleView",
            "bar_color": null,
            "description_width": ""
          }
        },
        "570f9e1dbf02406bb7b171f4e791e581": {
          "model_module": "@jupyter-widgets/base",
          "model_name": "LayoutModel",
          "model_module_version": "1.2.0",
          "state": {
            "_model_module": "@jupyter-widgets/base",
            "_model_module_version": "1.2.0",
            "_model_name": "LayoutModel",
            "_view_count": null,
            "_view_module": "@jupyter-widgets/base",
            "_view_module_version": "1.2.0",
            "_view_name": "LayoutView",
            "align_content": null,
            "align_items": null,
            "align_self": null,
            "border": null,
            "bottom": null,
            "display": null,
            "flex": null,
            "flex_flow": null,
            "grid_area": null,
            "grid_auto_columns": null,
            "grid_auto_flow": null,
            "grid_auto_rows": null,
            "grid_column": null,
            "grid_gap": null,
            "grid_row": null,
            "grid_template_areas": null,
            "grid_template_columns": null,
            "grid_template_rows": null,
            "height": null,
            "justify_content": null,
            "justify_items": null,
            "left": null,
            "margin": null,
            "max_height": null,
            "max_width": null,
            "min_height": null,
            "min_width": null,
            "object_fit": null,
            "object_position": null,
            "order": null,
            "overflow": null,
            "overflow_x": null,
            "overflow_y": null,
            "padding": null,
            "right": null,
            "top": null,
            "visibility": null,
            "width": null
          }
        },
        "a7f36c9e0c9c4956b77d9f74eae72d28": {
          "model_module": "@jupyter-widgets/controls",
          "model_name": "DescriptionStyleModel",
          "model_module_version": "1.5.0",
          "state": {
            "_model_module": "@jupyter-widgets/controls",
            "_model_module_version": "1.5.0",
            "_model_name": "DescriptionStyleModel",
            "_view_count": null,
            "_view_module": "@jupyter-widgets/base",
            "_view_module_version": "1.2.0",
            "_view_name": "StyleView",
            "description_width": ""
          }
        },
        "42c950ad38eb4fa59aa79ac11317f8c9": {
          "model_module": "@jupyter-widgets/controls",
          "model_name": "HBoxModel",
          "model_module_version": "1.5.0",
          "state": {
            "_dom_classes": [],
            "_model_module": "@jupyter-widgets/controls",
            "_model_module_version": "1.5.0",
            "_model_name": "HBoxModel",
            "_view_count": null,
            "_view_module": "@jupyter-widgets/controls",
            "_view_module_version": "1.5.0",
            "_view_name": "HBoxView",
            "box_style": "",
            "children": [
              "IPY_MODEL_b298e849794d4c97b1c3c119f8d29472",
              "IPY_MODEL_017001daf4134b6eaf2f16cd52d17042",
              "IPY_MODEL_c72cd8333bc14433b05c1e05508f7102"
            ],
            "layout": "IPY_MODEL_61c6294353834ca9b53c1dc19dbddbc2"
          }
        },
        "b298e849794d4c97b1c3c119f8d29472": {
          "model_module": "@jupyter-widgets/controls",
          "model_name": "HTMLModel",
          "model_module_version": "1.5.0",
          "state": {
            "_dom_classes": [],
            "_model_module": "@jupyter-widgets/controls",
            "_model_module_version": "1.5.0",
            "_model_name": "HTMLModel",
            "_view_count": null,
            "_view_module": "@jupyter-widgets/controls",
            "_view_module_version": "1.5.0",
            "_view_name": "HTMLView",
            "description": "",
            "description_tooltip": null,
            "layout": "IPY_MODEL_134007baf5f8493094733f6decc85616",
            "placeholder": "​",
            "style": "IPY_MODEL_99a2f04fa93c4140b821c88cbb93b9e2",
            "value": "Downloading (…)/main/tokenizer.json: 100%"
          }
        },
        "017001daf4134b6eaf2f16cd52d17042": {
          "model_module": "@jupyter-widgets/controls",
          "model_name": "FloatProgressModel",
          "model_module_version": "1.5.0",
          "state": {
            "_dom_classes": [],
            "_model_module": "@jupyter-widgets/controls",
            "_model_module_version": "1.5.0",
            "_model_name": "FloatProgressModel",
            "_view_count": null,
            "_view_module": "@jupyter-widgets/controls",
            "_view_module_version": "1.5.0",
            "_view_name": "ProgressView",
            "bar_style": "success",
            "description": "",
            "description_tooltip": null,
            "layout": "IPY_MODEL_0ca521f6296549f0b1c0fc9560defe52",
            "max": 466062,
            "min": 0,
            "orientation": "horizontal",
            "style": "IPY_MODEL_1c95b504dd7141c3a119080a8b53e489",
            "value": 466062
          }
        },
        "c72cd8333bc14433b05c1e05508f7102": {
          "model_module": "@jupyter-widgets/controls",
          "model_name": "HTMLModel",
          "model_module_version": "1.5.0",
          "state": {
            "_dom_classes": [],
            "_model_module": "@jupyter-widgets/controls",
            "_model_module_version": "1.5.0",
            "_model_name": "HTMLModel",
            "_view_count": null,
            "_view_module": "@jupyter-widgets/controls",
            "_view_module_version": "1.5.0",
            "_view_name": "HTMLView",
            "description": "",
            "description_tooltip": null,
            "layout": "IPY_MODEL_0b463bf55e814e3ea87fccb00f429f89",
            "placeholder": "​",
            "style": "IPY_MODEL_aea8c7c1ae5748aabb24a71442f2d532",
            "value": " 466k/466k [00:00&lt;00:00, 22.2MB/s]"
          }
        },
        "61c6294353834ca9b53c1dc19dbddbc2": {
          "model_module": "@jupyter-widgets/base",
          "model_name": "LayoutModel",
          "model_module_version": "1.2.0",
          "state": {
            "_model_module": "@jupyter-widgets/base",
            "_model_module_version": "1.2.0",
            "_model_name": "LayoutModel",
            "_view_count": null,
            "_view_module": "@jupyter-widgets/base",
            "_view_module_version": "1.2.0",
            "_view_name": "LayoutView",
            "align_content": null,
            "align_items": null,
            "align_self": null,
            "border": null,
            "bottom": null,
            "display": null,
            "flex": null,
            "flex_flow": null,
            "grid_area": null,
            "grid_auto_columns": null,
            "grid_auto_flow": null,
            "grid_auto_rows": null,
            "grid_column": null,
            "grid_gap": null,
            "grid_row": null,
            "grid_template_areas": null,
            "grid_template_columns": null,
            "grid_template_rows": null,
            "height": null,
            "justify_content": null,
            "justify_items": null,
            "left": null,
            "margin": null,
            "max_height": null,
            "max_width": null,
            "min_height": null,
            "min_width": null,
            "object_fit": null,
            "object_position": null,
            "order": null,
            "overflow": null,
            "overflow_x": null,
            "overflow_y": null,
            "padding": null,
            "right": null,
            "top": null,
            "visibility": null,
            "width": null
          }
        },
        "134007baf5f8493094733f6decc85616": {
          "model_module": "@jupyter-widgets/base",
          "model_name": "LayoutModel",
          "model_module_version": "1.2.0",
          "state": {
            "_model_module": "@jupyter-widgets/base",
            "_model_module_version": "1.2.0",
            "_model_name": "LayoutModel",
            "_view_count": null,
            "_view_module": "@jupyter-widgets/base",
            "_view_module_version": "1.2.0",
            "_view_name": "LayoutView",
            "align_content": null,
            "align_items": null,
            "align_self": null,
            "border": null,
            "bottom": null,
            "display": null,
            "flex": null,
            "flex_flow": null,
            "grid_area": null,
            "grid_auto_columns": null,
            "grid_auto_flow": null,
            "grid_auto_rows": null,
            "grid_column": null,
            "grid_gap": null,
            "grid_row": null,
            "grid_template_areas": null,
            "grid_template_columns": null,
            "grid_template_rows": null,
            "height": null,
            "justify_content": null,
            "justify_items": null,
            "left": null,
            "margin": null,
            "max_height": null,
            "max_width": null,
            "min_height": null,
            "min_width": null,
            "object_fit": null,
            "object_position": null,
            "order": null,
            "overflow": null,
            "overflow_x": null,
            "overflow_y": null,
            "padding": null,
            "right": null,
            "top": null,
            "visibility": null,
            "width": null
          }
        },
        "99a2f04fa93c4140b821c88cbb93b9e2": {
          "model_module": "@jupyter-widgets/controls",
          "model_name": "DescriptionStyleModel",
          "model_module_version": "1.5.0",
          "state": {
            "_model_module": "@jupyter-widgets/controls",
            "_model_module_version": "1.5.0",
            "_model_name": "DescriptionStyleModel",
            "_view_count": null,
            "_view_module": "@jupyter-widgets/base",
            "_view_module_version": "1.2.0",
            "_view_name": "StyleView",
            "description_width": ""
          }
        },
        "0ca521f6296549f0b1c0fc9560defe52": {
          "model_module": "@jupyter-widgets/base",
          "model_name": "LayoutModel",
          "model_module_version": "1.2.0",
          "state": {
            "_model_module": "@jupyter-widgets/base",
            "_model_module_version": "1.2.0",
            "_model_name": "LayoutModel",
            "_view_count": null,
            "_view_module": "@jupyter-widgets/base",
            "_view_module_version": "1.2.0",
            "_view_name": "LayoutView",
            "align_content": null,
            "align_items": null,
            "align_self": null,
            "border": null,
            "bottom": null,
            "display": null,
            "flex": null,
            "flex_flow": null,
            "grid_area": null,
            "grid_auto_columns": null,
            "grid_auto_flow": null,
            "grid_auto_rows": null,
            "grid_column": null,
            "grid_gap": null,
            "grid_row": null,
            "grid_template_areas": null,
            "grid_template_columns": null,
            "grid_template_rows": null,
            "height": null,
            "justify_content": null,
            "justify_items": null,
            "left": null,
            "margin": null,
            "max_height": null,
            "max_width": null,
            "min_height": null,
            "min_width": null,
            "object_fit": null,
            "object_position": null,
            "order": null,
            "overflow": null,
            "overflow_x": null,
            "overflow_y": null,
            "padding": null,
            "right": null,
            "top": null,
            "visibility": null,
            "width": null
          }
        },
        "1c95b504dd7141c3a119080a8b53e489": {
          "model_module": "@jupyter-widgets/controls",
          "model_name": "ProgressStyleModel",
          "model_module_version": "1.5.0",
          "state": {
            "_model_module": "@jupyter-widgets/controls",
            "_model_module_version": "1.5.0",
            "_model_name": "ProgressStyleModel",
            "_view_count": null,
            "_view_module": "@jupyter-widgets/base",
            "_view_module_version": "1.2.0",
            "_view_name": "StyleView",
            "bar_color": null,
            "description_width": ""
          }
        },
        "0b463bf55e814e3ea87fccb00f429f89": {
          "model_module": "@jupyter-widgets/base",
          "model_name": "LayoutModel",
          "model_module_version": "1.2.0",
          "state": {
            "_model_module": "@jupyter-widgets/base",
            "_model_module_version": "1.2.0",
            "_model_name": "LayoutModel",
            "_view_count": null,
            "_view_module": "@jupyter-widgets/base",
            "_view_module_version": "1.2.0",
            "_view_name": "LayoutView",
            "align_content": null,
            "align_items": null,
            "align_self": null,
            "border": null,
            "bottom": null,
            "display": null,
            "flex": null,
            "flex_flow": null,
            "grid_area": null,
            "grid_auto_columns": null,
            "grid_auto_flow": null,
            "grid_auto_rows": null,
            "grid_column": null,
            "grid_gap": null,
            "grid_row": null,
            "grid_template_areas": null,
            "grid_template_columns": null,
            "grid_template_rows": null,
            "height": null,
            "justify_content": null,
            "justify_items": null,
            "left": null,
            "margin": null,
            "max_height": null,
            "max_width": null,
            "min_height": null,
            "min_width": null,
            "object_fit": null,
            "object_position": null,
            "order": null,
            "overflow": null,
            "overflow_x": null,
            "overflow_y": null,
            "padding": null,
            "right": null,
            "top": null,
            "visibility": null,
            "width": null
          }
        },
        "aea8c7c1ae5748aabb24a71442f2d532": {
          "model_module": "@jupyter-widgets/controls",
          "model_name": "DescriptionStyleModel",
          "model_module_version": "1.5.0",
          "state": {
            "_model_module": "@jupyter-widgets/controls",
            "_model_module_version": "1.5.0",
            "_model_name": "DescriptionStyleModel",
            "_view_count": null,
            "_view_module": "@jupyter-widgets/base",
            "_view_module_version": "1.2.0",
            "_view_name": "StyleView",
            "description_width": ""
          }
        }
      }
    }
  },
  "cells": [
    {
      "cell_type": "markdown",
      "metadata": {
        "id": "view-in-github",
        "colab_type": "text"
      },
      "source": [
        "<a href=\"https://colab.research.google.com/github/AbeHandler/AbeHandler.github.io/blob/master/HW3.ipynb\" target=\"_parent\"><img src=\"https://colab.research.google.com/assets/colab-badge.svg\" alt=\"Open In Colab\"/></a>"
      ]
    },
    {
      "cell_type": "markdown",
      "source": [
        "#### Intro\n",
        "\n",
        "In this notebook you will get some practice with a span tagging task (also called token classification) using the popular [Huggingface](https://huggingface.co/) library which makes it (fairly) easy to use large transformer models for NLP tasks.\n",
        "\n",
        "The data that we will be using for this assignment comes from [RedHOT](https://arxiv.org/abs/2210.06331), a corpus of medical posts from reddit labeled with \"PIO\" tags where P stands for \"population,\" I stands for \"intervention\" and O stands for \"outcome\". PIO frames are often used to create structured representations of text from medical studies.\n",
        "\n",
        "This dataset is motivated by a desire to catch medical disinformation online. For example, you could use PIO elements to try to find posts which propose (falsely) that [bleach](https://www.theguardian.com/world/2020/sep/19/bleach-miracle-cure-amazon-covid) is a cure for COVID (which is false).\n",
        "\n",
        "Credits: this problem set draws from tutorials from [Huggingface](https://huggingface.co/docs/transformers/tasks/token_classification) and [wandb](https://wandb.ai/mostafaibrahim17/ml-articles/reports/Named-Entity-Recognition-With-HuggingFace-Using-PyTorch-and-W-B--Vmlldzo0NDgzODA2)."
      ],
      "metadata": {
        "id": "GTFjXXADA7vg"
      }
    },
    {
      "cell_type": "markdown",
      "source": [
        "#### Q1\n",
        "\n",
        "Data science does not happen in a vacuum. It's usually a good idea to really understand your data before you even get started with modeling. When you are working in a supervised setting, you should spend some time understanding what your labels mean!\n",
        "\n",
        "Get started by gaining a little bit of familiarity with the PIO tagging scheme by looking at the example in [Table 1](https://arxiv.org/pdf/2210.06331.pdf) of the RedHOT paper. Then define each of the following in your own words by filling out the cell below. You can write one clear sentence for each of these.\n",
        "\n",
        "**population** _your answer here_\n",
        "\n",
        "**intervention** _your answer here_\n",
        "\n",
        "**outcome** _your answer here_"
      ],
      "metadata": {
        "id": "PpI6pkTZCvTB"
      }
    },
    {
      "cell_type": "markdown",
      "source": [
        "#### Q2\n",
        "\n",
        "Find a post on r/AskDocs which references a population, intervention or outcome (or all of the above). Include the text of the post below, and describe the population interention and outcome in the post. If the post is really long, pick the most important one or two sentences.\n",
        "\n",
        "_Your answer here_"
      ],
      "metadata": {
        "id": "1HY73yN0FWOK"
      }
    },
    {
      "cell_type": "markdown",
      "source": [
        "### Coding preliminaries\n",
        "\n",
        "In order complete the assignment you will need to install the necessary packages and set up your runtime. There are three steps here:\n",
        "\n",
        "1. A the menu at the top, go to \"Runtime\" and pick \"Change runtime type\" and pick \"T4.\" T4 is a kind of GPU made by Nvidia. When you select this runtime your collab notebook will connect to a T4 GPU. Google gives you a small number of GPU credits as part of a free colab account. It is not really enough for production or research use, but it is an easy way to get started with GPU programming for a problem set. If you skip this step your model will train on a CPU which will take a really long time.\n",
        "\n",
        "2.  Uncomment the next line and install the required dependencies using pip. You don't have to use a GPU runtime to complete this assignment.\n",
        "\n",
        "3. Upload your `train.conll.txt` and `validation.conll.txt` files to colab. You can find instructions on how to do that [here](https://docs.google.com/document/d/1f1DQI_QUQId4x8fFQQ59cdenAZWWq9eK6HMyYchdpQM/edit?usp=sharing)."
      ],
      "metadata": {
        "id": "uxMYtOw97XYT"
      }
    },
    {
      "cell_type": "code",
      "source": [
        "# ! pip install transformers datasets evaluate seqeval transformers[torch]"
      ],
      "metadata": {
        "id": "fVHgekc-0kpO"
      },
      "execution_count": 2,
      "outputs": []
    },
    {
      "cell_type": "code",
      "source": [
        "# run this cell to import the needed packages\n",
        "import torch\n",
        "from transformers import AutoTokenizer, AutoModelForTokenClassification, Trainer, TrainingArguments\n",
        "from datasets import load_dataset, load_metric, Dataset, DatasetDict\n",
        "import numpy as np\n",
        "from seqeval.metrics import f1_score, precision_score, recall_score, classification_report\n"
      ],
      "metadata": {
        "id": "E92No0IwcDhv"
      },
      "execution_count": 3,
      "outputs": []
    },
    {
      "cell_type": "markdown",
      "source": [
        "#### Q3: Understanding the CONLL format\n",
        "\n",
        "In the lectures for this class, we have been talking about \"supervised\" learning for span tagging (aka token classification) kind of abstractly. But what does \"supervised\" data actually look like for span tagging tasks? Well, one common format is called CONLL. Each token in a CONLL file is listed on its own line, and its label is listed to the right (separated by a space delimiter).\n",
        "\n",
        "In our setting, the tag labels are \"P\" for population, \"I\" for intervention and \"O\" for outcome. Also, the first token in a span gets the tag B-P (for beggining) and all other tags in the labeled span get the tag I-P. So for example the string \"Im also HLA-B27 positive\" gets tagged as follows.\n",
        "\n",
        "```\n",
        "I O\n",
        "m O\n",
        "also O\n",
        "HLA B-P\n",
        "- I-P\n",
        "B27 I-P\n",
        "positive O\n",
        "```\n"
      ],
      "metadata": {
        "id": "KaYyAAmzH7iU"
      }
    },
    {
      "cell_type": "markdown",
      "source": [
        "The next cell reads in a conll file. You can leave it unchanged."
      ],
      "metadata": {
        "id": "klFQROpQKfr9"
      }
    },
    {
      "cell_type": "code",
      "source": [
        "def read_conll_file(file_path):\n",
        "    lines = 0\n",
        "    with open(file_path, \"r\") as f:\n",
        "        content = f.read().strip()\n",
        "        sentences = content.split(\"\\n\\n\")\n",
        "        data = []\n",
        "        for sentence in sentences:\n",
        "            tokens = sentence.split(\"\\n\")\n",
        "            token_data = []\n",
        "            for token in tokens:\n",
        "                token_data.append(token.split())\n",
        "            data.append(token_data)\n",
        "            lines += 1\n",
        "    return data\n",
        "\n",
        "\n",
        "train_data = read_conll_file(\"train.conll.txt\")\n",
        "validation_data = read_conll_file(\"validation.conll.txt\")"
      ],
      "metadata": {
        "id": "p0f06bkzKb_-"
      },
      "execution_count": 43,
      "outputs": []
    },
    {
      "cell_type": "markdown",
      "source": [
        "Question 3: _Explain what the code in the cell above is doing in your own words_"
      ],
      "metadata": {
        "id": "dVuC5TU_LRSo"
      }
    },
    {
      "cell_type": "markdown",
      "source": [
        "#### Converting to a Dataset object\n",
        "\n",
        "Huggingface transformers models often use a dataset object from the Huggingface [Datasets](https://huggingface.co/docs/datasets/index) library. The code below simply converts the connl data into this format. There is not much you need to do for this. To some extent this is boilerplate preprocessing needed to get the RedHOT data data ready to use Huggingface library."
      ],
      "metadata": {
        "id": "NPw2WHBOLYb6"
      }
    },
    {
      "cell_type": "code",
      "source": [
        "def convert_to_dataset(data, label_map):\n",
        "    formatted_data = {\"tokens\": [], \"ner_tags\": []}\n",
        "    for sentence in data:\n",
        "        if sentence[0] != []:\n",
        "            try:\n",
        "                tokens = [token_data[0] for token_data in sentence]\n",
        "                ner_tags = [label_map[token_data[1]] for token_data in sentence]\n",
        "                formatted_data[\"tokens\"].append(tokens)\n",
        "                formatted_data[\"ner_tags\"].append(ner_tags)\n",
        "            except IndexError:\n",
        "                pass\n",
        "            except KeyError:\n",
        "                print(sentence)\n",
        "    return Dataset.from_dict(formatted_data)\n",
        "\n",
        "\n",
        "label_set = set()\n",
        "for sentence in train_data:\n",
        "    for token_data in sentence:\n",
        "        try:\n",
        "            label_set.add(token_data[1])\n",
        "        except IndexError:\n",
        "            pass\n",
        "\n",
        "label_list = sorted(list(label_set))\n",
        "label_map = {label: i for i, label in enumerate(label_list)}\n",
        "\n",
        "train_dataset = convert_to_dataset(train_data, label_map)\n",
        "validation_dataset = convert_to_dataset(validation_data, label_map)\n",
        "#test_dataset = convert_to_dataset(test_data, label_map)\n",
        "\n",
        "datasets = DatasetDict({\n",
        "    \"train\": train_dataset,\n",
        "    \"validation\": validation_dataset,\n",
        "    #\"test\": test_dataset,\n",
        "})\n"
      ],
      "metadata": {
        "id": "3Iif3u-eH5Vu"
      },
      "execution_count": 44,
      "outputs": []
    },
    {
      "cell_type": "markdown",
      "source": [
        "#### The distilbert model\n",
        "\n",
        "In Huggingface transformers (and many NLP tasks) it is very common to work from a pretrained \"foundation\" model. The model that we will be using for this HW is called \"distilbert\" which is a smaller model that is trained to act like BERT. The reason we are using distilbert is that it requires much less compute to train, as compared to the full BERT model. But you can try this problem set using regular BERT if you want, provided you have enough colab credits (don't pay for more!)."
      ],
      "metadata": {
        "id": "i3prZuHdUC0a"
      }
    },
    {
      "cell_type": "code",
      "source": [
        "model_name = \"distilbert-base-uncased\"\n",
        "tokenizer = AutoTokenizer.from_pretrained(model_name)\n",
        "model = AutoModelForTokenClassification.from_pretrained(model_name, num_labels=len(label_list))\n"
      ],
      "metadata": {
        "colab": {
          "base_uri": "https://localhost:8080/"
        },
        "id": "DeN3GdOTcVVA",
        "outputId": "99960473-f141-4efc-bfac-d9738ec0984e"
      },
      "execution_count": 45,
      "outputs": [
        {
          "output_type": "stream",
          "name": "stderr",
          "text": [
            "Some weights of DistilBertForTokenClassification were not initialized from the model checkpoint at distilbert-base-uncased and are newly initialized: ['classifier.weight', 'classifier.bias']\n",
            "You should probably TRAIN this model on a down-stream task to be able to use it for predictions and inference.\n"
          ]
        }
      ]
    },
    {
      "cell_type": "code",
      "source": [
        "def compute_metrics(eval_prediction):\n",
        "    predictions, labels = eval_prediction\n",
        "    predictions = np.argmax(predictions, axis=2)\n",
        "\n",
        "\n",
        "    # Remove ignored index (special tokens)\n",
        "    true_predictions = [\n",
        "        [label_list[p] for (p, l) in zip(prediction, label) if l != -100]\n",
        "        for prediction, label in zip(predictions, labels)\n",
        "    ]\n",
        "    true_labels = [\n",
        "        [label_list[l] for (p, l) in zip(prediction, label) if l != -100]\n",
        "        for prediction, label in zip(predictions, labels)\n",
        "    ]\n",
        "\n",
        "    return {\n",
        "        \"precision\": precision_score(true_labels, true_predictions),\n",
        "        \"recall\": recall_score(true_labels, true_predictions),\n",
        "        \"f1\": f1_score(true_labels, true_predictions),\n",
        "        # \"classification_report\": classification_report(true_labels, true_predictions),\n",
        "    }\n",
        "\n",
        "\n",
        "def tokenize_and_align_labels(examples):\n",
        "    tokenized_inputs = tokenizer(\n",
        "        examples[\"tokens\"], truncation=True, is_split_into_words=True, padding=True\n",
        "    )\n",
        "    labels = []\n",
        "    for i, label in enumerate(examples[\"ner_tags\"]):\n",
        "        word_ids = tokenized_inputs.word_ids(batch_index=i)\n",
        "        previous_word_idx = None\n",
        "        label_ids = []\n",
        "        for word_idx in word_ids:\n",
        "            if word_idx is None:\n",
        "                label_ids.append(-100)\n",
        "            elif word_idx != previous_word_idx:\n",
        "                label_ids.append(label[word_idx])\n",
        "            else:\n",
        "                label_ids.append(-100)\n",
        "            previous_word_idx = word_idx\n",
        "        labels.append(label_ids)\n",
        "    tokenized_inputs[\"labels\"] = labels\n",
        "    return tokenized_inputs\n"
      ],
      "metadata": {
        "id": "_7SSrG0lcaGb"
      },
      "execution_count": 46,
      "outputs": []
    },
    {
      "cell_type": "code",
      "source": [
        "tokenized_datasets = datasets.map(tokenize_and_align_labels, batched=True)\n",
        "\n",
        "training_args = TrainingArguments(\n",
        "    output_dir=\"./results\",\n",
        "    eval_steps=500,\n",
        "    save_steps=500,\n",
        "    num_train_epochs=7,\n",
        "    per_device_train_batch_size=8,\n",
        "    per_device_eval_batch_size=8,\n",
        "    logging_steps=100,\n",
        "    learning_rate=5e-5,\n",
        "    evaluation_strategy=\"epoch\",\n",
        "    save_strategy=\"epoch\",\n",
        "    load_best_model_at_end=True,\n",
        "    metric_for_best_model=\"f1\",\n",
        ")\n"
      ],
      "metadata": {
        "colab": {
          "base_uri": "https://localhost:8080/",
          "height": 81,
          "referenced_widgets": [
            "80c8b156e39c43ec8f6e0de63962dfd4",
            "58b15c1c597a46279388092c5e828a32",
            "8cadf4abe2404128939fa53885f0fc06",
            "11c286af664b436ba4b0781df6b626d4",
            "931cb543f23e437291f3c41fccaef04b",
            "e933dca5eef843cf9f6d13d468806f7f",
            "e882a219f5cf4fa49b3662106e7f075a",
            "a3cd6c4ffc24440e85f5938729bffb64",
            "44ac7bf3ef3f4bb99eb02ff32a731a04",
            "b9168fd0ed0c492fb4f458c2254de34c",
            "09fb02b8857f4562acb2c493415ed346",
            "e08ee80ed5bb47ac87c74db15dace5c4",
            "52ba60e3d12b4fff9a6575a448ae5b69",
            "3d0e1e7e8ff64730aa3e15d37465c274",
            "2bde5cd4ae3c4f709b7458d01a84999f",
            "e6baa8cfd11842838ed13ed81a923a61",
            "433d928da90f41f3a552530644c500eb",
            "c9ed0e5381cf4849ba246349ae511031",
            "48aaee4ed3854f1c9de7522426ab8cbe",
            "07ed6cbe50f445049613dd4c2de6df07",
            "34f539984a8e45738e4e871b1713f154",
            "79c0457795ad4318ae1195116764152a"
          ]
        },
        "id": "1kkCtUtuD3E9",
        "outputId": "d22cfed1-71f2-4af6-a5e6-aa61c9935568"
      },
      "execution_count": 47,
      "outputs": [
        {
          "output_type": "display_data",
          "data": {
            "text/plain": [
              "Map:   0%|          | 0/4590 [00:00<?, ? examples/s]"
            ],
            "application/vnd.jupyter.widget-view+json": {
              "version_major": 2,
              "version_minor": 0,
              "model_id": "80c8b156e39c43ec8f6e0de63962dfd4"
            }
          },
          "metadata": {}
        },
        {
          "output_type": "display_data",
          "data": {
            "text/plain": [
              "Map:   0%|          | 0/530 [00:00<?, ? examples/s]"
            ],
            "application/vnd.jupyter.widget-view+json": {
              "version_major": 2,
              "version_minor": 0,
              "model_id": "e08ee80ed5bb47ac87c74db15dace5c4"
            }
          },
          "metadata": {}
        }
      ]
    },
    {
      "cell_type": "code",
      "source": [
        "def data_collator(data):\n",
        "    input_ids = [torch.tensor(item[\"input_ids\"]) for item in data]\n",
        "    attention_mask = [torch.tensor(item[\"attention_mask\"]) for item in data]\n",
        "    labels = [torch.tensor(item[\"labels\"]) for item in data]\n",
        "\n",
        "\n",
        "    input_ids = torch.nn.utils.rnn.pad_sequence(input_ids, batch_first=True, padding_value=tokenizer.pad_token_id)\n",
        "    attention_mask = torch.nn.utils.rnn.pad_sequence(attention_mask, batch_first=True, padding_value=0)\n",
        "    labels = torch.nn.utils.rnn.pad_sequence(labels, batch_first=True, padding_value=-100)\n",
        "\n",
        "\n",
        "    return {\n",
        "        \"input_ids\": input_ids,\n",
        "        \"attention_mask\": attention_mask,\n",
        "        \"labels\": labels,\n",
        "    }\n",
        "\n",
        "\n",
        "trainer = Trainer(\n",
        "    model=model,\n",
        "    args=training_args,\n",
        "    train_dataset=tokenized_datasets[\"train\"],\n",
        "    eval_dataset=tokenized_datasets[\"validation\"],\n",
        "    data_collator=data_collator,\n",
        "    tokenizer=tokenizer,\n",
        "    compute_metrics=compute_metrics,\n",
        ")"
      ],
      "metadata": {
        "id": "fQJYsMkrck4G"
      },
      "execution_count": 48,
      "outputs": []
    },
    {
      "cell_type": "markdown",
      "source": [
        "#### Ok, train!\n",
        "\n",
        "You are finally ready to train your model. In may ways, this is kind of the easy part. Once you have set all of the training configurations there is just one line of code that you need to call to actually train the model, shown below. This will take about 15 minutes to run in a T4 runtime. Go take a walk :). Waiting for GPUs is alas a big part of modern data science."
      ],
      "metadata": {
        "id": "5ZN8a6pCNVKJ"
      }
    },
    {
      "cell_type": "code",
      "source": [
        "trainer.train()"
      ],
      "metadata": {
        "colab": {
          "base_uri": "https://localhost:8080/",
          "height": 162
        },
        "id": "Uori7hiMco56",
        "outputId": "a53bf01d-306b-44b9-bb73-c3adaf8b92ad"
      },
      "execution_count": null,
      "outputs": [
        {
          "output_type": "display_data",
          "data": {
            "text/plain": [
              "<IPython.core.display.HTML object>"
            ],
            "text/html": [
              "\n",
              "    <div>\n",
              "      \n",
              "      <progress value='621' max='4018' style='width:300px; height:20px; vertical-align: middle;'></progress>\n",
              "      [ 621/4018 04:01 < 22:06, 2.56 it/s, Epoch 1.08/7]\n",
              "    </div>\n",
              "    <table border=\"1\" class=\"dataframe\">\n",
              "  <thead>\n",
              " <tr style=\"text-align: left;\">\n",
              "      <th>Epoch</th>\n",
              "      <th>Training Loss</th>\n",
              "      <th>Validation Loss</th>\n",
              "      <th>Precision</th>\n",
              "      <th>Recall</th>\n",
              "      <th>F1</th>\n",
              "    </tr>\n",
              "  </thead>\n",
              "  <tbody>\n",
              "    <tr>\n",
              "      <td>1</td>\n",
              "      <td>0.202600</td>\n",
              "      <td>0.135739</td>\n",
              "      <td>0.000000</td>\n",
              "      <td>0.000000</td>\n",
              "      <td>0.000000</td>\n",
              "    </tr>\n",
              "  </tbody>\n",
              "</table><p>"
            ]
          },
          "metadata": {}
        },
        {
          "output_type": "stream",
          "name": "stderr",
          "text": [
            "/usr/local/lib/python3.10/dist-packages/seqeval/metrics/v1.py:57: UndefinedMetricWarning: Precision is ill-defined and being set to 0.0 due to no predicted samples. Use `zero_division` parameter to control this behavior.\n",
            "  _warn_prf(average, modifier, msg_start, len(result))\n"
          ]
        }
      ]
    },
    {
      "cell_type": "markdown",
      "source": [
        "#### Check the results\n",
        "\n",
        "Once you train a model, you are probably curious to see how it will do on real datasets. The next cell shows how to run the trained model. Let's test how it does on the example from the Table in the paper which we examined earlier in the problem set."
      ],
      "metadata": {
        "id": "1_XrPe5oNn-K"
      }
    },
    {
      "cell_type": "code",
      "source": [
        "sentence = '''I’ve had costochondritis for a while, usually comes and goes.\n",
        "Done all the heart/lung checks all clear. I’ve just recovered covid and what I’m\n",
        "left with is chest pain/pressure. I mean it could\n",
        "be a costo flare up which makes sense, but also\n",
        "been reading about myocarditis after covid and\n",
        "I’m worried, how can I tell which is which?'''\n",
        "\n",
        "\n",
        "# tokenize the input\n",
        "tokenized_input = tokenizer(sentence, return_tensors=\"pt\").to(model.device)\n",
        "\n",
        "# make predictions about the input\n",
        "outputs = model(**tokenized_input)\n",
        "\n",
        "# get the predicted labels for each token\n",
        "predicted_labels = outputs.logits.argmax(-1)[0]\n",
        "\n",
        "named_entities = [(tokenizer.decode([token]), label) for token, label in zip(tokenized_input[\"input_ids\"][0], predicted_labels) if label != 0 and label != label_map['O']]\n",
        "\n",
        "print(\"Named Entities - Example 1:\", named_entities)\n"
      ],
      "metadata": {
        "colab": {
          "base_uri": "https://localhost:8080/"
        },
        "id": "gHQ4BE86d3Xv",
        "outputId": "0949c203-2b46-471c-9404-58d3757a7546"
      },
      "execution_count": 48,
      "outputs": [
        {
          "output_type": "stream",
          "name": "stdout",
          "text": [
            "Named Entities - Example 1: [('cost', tensor(2, device='cuda:0')), ('##och', tensor(5, device='cuda:0')), ('##ond', tensor(5, device='cuda:0')), ('##rit', tensor(5, device='cuda:0')), ('##is', tensor(5, device='cuda:0')), ('chest', tensor(1, device='cuda:0')), ('pain', tensor(1, device='cuda:0')), ('pressure', tensor(1, device='cuda:0'))]\n"
          ]
        }
      ]
    },
    {
      "cell_type": "markdown",
      "source": [
        "#### Error analysis\n",
        "\n",
        "- What is one thing the model got right?\n",
        "- What is one thing the model got wrong?"
      ],
      "metadata": {
        "id": "xO_AmbNHNq0T"
      }
    },
    {
      "cell_type": "markdown",
      "source": [
        "#### Another error analysis\n",
        "\n",
        "So far, you have just seen one example. Go to the [AskDocs](https://www.reddit.com/r/AskDocs/) subreddit and find another medical question.\n",
        "Post the text of the question below and answer the questions again.\n",
        "\n",
        "- What is one thing the model got right?\n",
        "- What is one thing the model got wrong?"
      ],
      "metadata": {
        "id": "g9YS1YZ8XlwX"
      }
    },
    {
      "cell_type": "code",
      "source": [
        "label_map"
      ],
      "metadata": {
        "colab": {
          "base_uri": "https://localhost:8080/"
        },
        "id": "L1Y5-5TM4y2e",
        "outputId": "c962bd83-2886-427d-9ef2-798bea254bfb"
      },
      "execution_count": 47,
      "outputs": [
        {
          "output_type": "execute_result",
          "data": {
            "text/plain": [
              "{'B-I': 0, 'B-O': 1, 'B-P': 2, 'I-I': 3, 'I-O': 4, 'I-P': 5, 'O': 6}"
            ]
          },
          "metadata": {},
          "execution_count": 47
        }
      ]
    },
    {
      "cell_type": "code",
      "source": [
        "# dataset[\"train\"]"
      ],
      "metadata": {
        "colab": {
          "base_uri": "https://localhost:8080/"
        },
        "id": "jLItP8LkXxcu",
        "outputId": "55ad2e4f-d477-4bab-90de-47d11f32f2a2"
      },
      "execution_count": 19,
      "outputs": [
        {
          "output_type": "execute_result",
          "data": {
            "text/plain": [
              "Dataset({\n",
              "    features: ['ner_tags', 'tokens', 'id'],\n",
              "    num_rows: 2265\n",
              "})"
            ]
          },
          "metadata": {},
          "execution_count": 19
        }
      ]
    },
    {
      "cell_type": "markdown",
      "source": [
        "### BIO tags question\n",
        "\n",
        "assign your own tags"
      ],
      "metadata": {
        "id": "89ZcDmP3UKr0"
      }
    },
    {
      "cell_type": "markdown",
      "source": [
        "### Should you keep training?"
      ],
      "metadata": {
        "id": "Vzl5GqnjTbNG"
      }
    },
    {
      "cell_type": "markdown",
      "source": [
        "### Load the tokenizer\n"
      ],
      "metadata": {
        "id": "EDUTY_8FUOkd"
      }
    },
    {
      "cell_type": "code",
      "source": [
        "from transformers import AutoTokenizer\n",
        "\n",
        "tokenizer = AutoTokenizer.from_pretrained(\"distilbert-base-uncased\")"
      ],
      "metadata": {
        "colab": {
          "base_uri": "https://localhost:8080/",
          "height": 145,
          "referenced_widgets": [
            "96e16b3124c6414b86c7a2fbd83f2044",
            "024ad258bd444bf2b30fd67c80cfc68b",
            "91ce4c2dfd7c41b182d529290a0c13b3",
            "adc5f8b3bdb048f7ab1d04720f646121",
            "a539e8a3f4944799a4dcba6ebb94f85a",
            "478eabbadbc24bd6bdcfd5d026c365ee",
            "c429108258de4fac9744a09c4d1ca409",
            "4297344d64474b9cbfb7e36133ce64b6",
            "76ffdc677701456188299fa193756f13",
            "a115baad1b6547b180c8ee92d76576e3",
            "4c108f8d444a4c1185fd43baf2e0d88f",
            "de7df20b520f440b87f3733bbdd8a04a",
            "f489ce347cf141099b5aeec5d6d730ae",
            "5ba6ea6ff6de4e3bb07ab897f8f3d26a",
            "06829afdf18f4c1bbaf7462a71fe5dd7",
            "f8660de0941e47f394d2ca9e5a9bc78b",
            "1a0fd1b9fd1b4d84b79324252d4269e0",
            "7e03246f20fd43faa713e163fc09d47a",
            "d48a8158a79040c88c776ee16ba2e99a",
            "bd7f2a42d1554312816818e8f276ba3f",
            "9138e39519eb4547afe40e14b2bbbd82",
            "4994abf99c0b4435962c52988b13620b",
            "6edb613dafdc4feda3300d2d98c70f57",
            "79d6ffbb8c374309b6d8fe6cfb419a00",
            "8a2d2441a66f4ffead80f777d09c25a0",
            "d748c53e75c14c21b1b379215ebf9adb",
            "0dc8897b623b4b9db5a073ee3ac62225",
            "6bee79e321344b049d272a89c38efac0",
            "8575bd60082c48e8a163cc615005326c",
            "4feece5768654a999613580c625ab424",
            "a62b746af4934f60b5f2cefcf81218b0",
            "570f9e1dbf02406bb7b171f4e791e581",
            "a7f36c9e0c9c4956b77d9f74eae72d28",
            "42c950ad38eb4fa59aa79ac11317f8c9",
            "b298e849794d4c97b1c3c119f8d29472",
            "017001daf4134b6eaf2f16cd52d17042",
            "c72cd8333bc14433b05c1e05508f7102",
            "61c6294353834ca9b53c1dc19dbddbc2",
            "134007baf5f8493094733f6decc85616",
            "99a2f04fa93c4140b821c88cbb93b9e2",
            "0ca521f6296549f0b1c0fc9560defe52",
            "1c95b504dd7141c3a119080a8b53e489",
            "0b463bf55e814e3ea87fccb00f429f89",
            "aea8c7c1ae5748aabb24a71442f2d532"
          ]
        },
        "id": "lT4WXT0h44Gc",
        "outputId": "1e1ee084-4490-45b7-9953-7648eaff1055"
      },
      "execution_count": 5,
      "outputs": [
        {
          "output_type": "display_data",
          "data": {
            "text/plain": [
              "Downloading (…)okenizer_config.json:   0%|          | 0.00/28.0 [00:00<?, ?B/s]"
            ],
            "application/vnd.jupyter.widget-view+json": {
              "version_major": 2,
              "version_minor": 0,
              "model_id": "96e16b3124c6414b86c7a2fbd83f2044"
            }
          },
          "metadata": {}
        },
        {
          "output_type": "display_data",
          "data": {
            "text/plain": [
              "Downloading (…)lve/main/config.json:   0%|          | 0.00/483 [00:00<?, ?B/s]"
            ],
            "application/vnd.jupyter.widget-view+json": {
              "version_major": 2,
              "version_minor": 0,
              "model_id": "de7df20b520f440b87f3733bbdd8a04a"
            }
          },
          "metadata": {}
        },
        {
          "output_type": "display_data",
          "data": {
            "text/plain": [
              "Downloading (…)solve/main/vocab.txt:   0%|          | 0.00/232k [00:00<?, ?B/s]"
            ],
            "application/vnd.jupyter.widget-view+json": {
              "version_major": 2,
              "version_minor": 0,
              "model_id": "6edb613dafdc4feda3300d2d98c70f57"
            }
          },
          "metadata": {}
        },
        {
          "output_type": "display_data",
          "data": {
            "text/plain": [
              "Downloading (…)/main/tokenizer.json:   0%|          | 0.00/466k [00:00<?, ?B/s]"
            ],
            "application/vnd.jupyter.widget-view+json": {
              "version_major": 2,
              "version_minor": 0,
              "model_id": "42c950ad38eb4fa59aa79ac11317f8c9"
            }
          },
          "metadata": {}
        }
      ]
    },
    {
      "cell_type": "markdown",
      "source": [
        "Tokenizer question here\n",
        "\n",
        "- [word piece](https://huggingface.co/learn/nlp-course/chapter6/6?fw=pt)\n",
        "- CLS and SEP"
      ],
      "metadata": {
        "id": "Pj_KZRFHHfTu"
      }
    },
    {
      "cell_type": "markdown",
      "source": [
        "Reading the documentation questions"
      ],
      "metadata": {
        "id": "GJRWIIRGUHzt"
      }
    },
    {
      "cell_type": "code",
      "source": [
        "# Example text\n",
        "\n",
        "text = \"He told me that the Nissan funduplication surgery was a success for 80% of cases after 15 years.\"\n",
        "\n",
        "inputs = tokenizer(text, return_tensors=\"pt\")\n",
        "tokenizer.convert_ids_to_tokens(inputs[\"input_ids\"].squeeze())"
      ],
      "metadata": {
        "colab": {
          "base_uri": "https://localhost:8080/"
        },
        "id": "hmDXJWt7Hh39",
        "outputId": "8442e701-974f-4e25-a700-fb37b2aee1b7"
      },
      "execution_count": 6,
      "outputs": [
        {
          "output_type": "execute_result",
          "data": {
            "text/plain": [
              "['[CLS]',\n",
              " 'he',\n",
              " 'told',\n",
              " 'me',\n",
              " 'that',\n",
              " 'the',\n",
              " 'nissan',\n",
              " 'fund',\n",
              " '##up',\n",
              " '##lica',\n",
              " '##tion',\n",
              " 'surgery',\n",
              " 'was',\n",
              " 'a',\n",
              " 'success',\n",
              " 'for',\n",
              " '80',\n",
              " '%',\n",
              " 'of',\n",
              " 'cases',\n",
              " 'after',\n",
              " '15',\n",
              " 'years',\n",
              " '.',\n",
              " '[SEP]']"
            ]
          },
          "metadata": {},
          "execution_count": 6
        }
      ]
    },
    {
      "cell_type": "code",
      "source": [
        "V = tokenizer.vocab\n",
        "\"he\" in V"
      ],
      "metadata": {
        "colab": {
          "base_uri": "https://localhost:8080/"
        },
        "id": "45vD0xubXY89",
        "outputId": "e71b1248-f4f0-4c0f-8280-ba0f5bd5c5a2"
      },
      "execution_count": 9,
      "outputs": [
        {
          "output_type": "execute_result",
          "data": {
            "text/plain": [
              "True"
            ]
          },
          "metadata": {},
          "execution_count": 9
        }
      ]
    },
    {
      "cell_type": "code",
      "source": [
        "len(V)"
      ],
      "metadata": {
        "colab": {
          "base_uri": "https://localhost:8080/"
        },
        "id": "EUs1iQTpXjDz",
        "outputId": "73a57713-097f-4b23-81cb-0cde6f4c06ea"
      },
      "execution_count": 12,
      "outputs": [
        {
          "output_type": "execute_result",
          "data": {
            "text/plain": [
              "30522"
            ]
          },
          "metadata": {},
          "execution_count": 12
        }
      ]
    },
    {
      "cell_type": "code",
      "source": [
        "\"funduplication\" in V # sparsity of text"
      ],
      "metadata": {
        "colab": {
          "base_uri": "https://localhost:8080/"
        },
        "id": "6sBBfldWXpZz",
        "outputId": "60067daa-383f-4cf7-c389-b687c710da9f"
      },
      "execution_count": 13,
      "outputs": [
        {
          "output_type": "execute_result",
          "data": {
            "text/plain": [
              "False"
            ]
          },
          "metadata": {},
          "execution_count": 13
        }
      ]
    },
    {
      "cell_type": "code",
      "source": [
        "example = wnut[\"train\"][0]\n",
        "example"
      ],
      "metadata": {
        "colab": {
          "base_uri": "https://localhost:8080/"
        },
        "id": "hJY6bie7GcKM",
        "outputId": "bd3a1323-abd1-47c9-a3d4-61a0f51d872c"
      },
      "execution_count": 13,
      "outputs": [
        {
          "output_type": "execute_result",
          "data": {
            "text/plain": [
              "{'id': '0',\n",
              " 'tokens': ['@paulwalk',\n",
              "  'It',\n",
              "  \"'s\",\n",
              "  'the',\n",
              "  'view',\n",
              "  'from',\n",
              "  'where',\n",
              "  'I',\n",
              "  \"'m\",\n",
              "  'living',\n",
              "  'for',\n",
              "  'two',\n",
              "  'weeks',\n",
              "  '.',\n",
              "  'Empire',\n",
              "  'State',\n",
              "  'Building',\n",
              "  '=',\n",
              "  'ESB',\n",
              "  '.',\n",
              "  'Pretty',\n",
              "  'bad',\n",
              "  'storm',\n",
              "  'here',\n",
              "  'last',\n",
              "  'evening',\n",
              "  '.'],\n",
              " 'ner_tags': [0,\n",
              "  0,\n",
              "  0,\n",
              "  0,\n",
              "  0,\n",
              "  0,\n",
              "  0,\n",
              "  0,\n",
              "  0,\n",
              "  0,\n",
              "  0,\n",
              "  0,\n",
              "  0,\n",
              "  0,\n",
              "  7,\n",
              "  8,\n",
              "  8,\n",
              "  0,\n",
              "  7,\n",
              "  0,\n",
              "  0,\n",
              "  0,\n",
              "  0,\n",
              "  0,\n",
              "  0,\n",
              "  0,\n",
              "  0]}"
            ]
          },
          "metadata": {},
          "execution_count": 13
        }
      ]
    },
    {
      "cell_type": "code",
      "source": [
        "example = wnut[\"train\"][0]\n",
        "tokenized_input = tokenizer(example[\"tokens\"], is_split_into_words=True)\n",
        "tokens = tokenizer.convert_ids_to_tokens(tokenized_input[\"input_ids\"])\n",
        "tokens"
      ],
      "metadata": {
        "colab": {
          "base_uri": "https://localhost:8080/"
        },
        "id": "04rrjkuN4-OC",
        "outputId": "f6b317dc-d14d-44d5-d1b4-1640a13fcd58"
      },
      "execution_count": 6,
      "outputs": [
        {
          "output_type": "execute_result",
          "data": {
            "text/plain": [
              "['[CLS]',\n",
              " '@',\n",
              " 'paul',\n",
              " '##walk',\n",
              " 'it',\n",
              " \"'\",\n",
              " 's',\n",
              " 'the',\n",
              " 'view',\n",
              " 'from',\n",
              " 'where',\n",
              " 'i',\n",
              " \"'\",\n",
              " 'm',\n",
              " 'living',\n",
              " 'for',\n",
              " 'two',\n",
              " 'weeks',\n",
              " '.',\n",
              " 'empire',\n",
              " 'state',\n",
              " 'building',\n",
              " '=',\n",
              " 'es',\n",
              " '##b',\n",
              " '.',\n",
              " 'pretty',\n",
              " 'bad',\n",
              " 'storm',\n",
              " 'here',\n",
              " 'last',\n",
              " 'evening',\n",
              " '.',\n",
              " '[SEP]']"
            ]
          },
          "metadata": {},
          "execution_count": 6
        }
      ]
    },
    {
      "cell_type": "markdown",
      "source": [
        "### Challenge question\n",
        "\n",
        "If you look closely at the TrainingArguments to the training function above you will notice that it has a learning rate parameter. The learning rate parameter controls how quickly the model adjusts its weights based on the loss. If the learning rate parameter is small, that means the model makes small changes to the weights each epoch. This means it learns more slowly, which sounds like a bad thing. But if your learning rate is too high, then your model will make big changes in response to a few data points, which may make it hard to converge to the best parameters.\n",
        "\n",
        "For the challenge question, try changing the learning rate from bigger to smaller and plotting the training and validation loss at each epoch. Remember an epoch is just a pass through the training set.\n",
        "\n",
        "What do you notice from your plot? Why do you think you are observing these results. Post your supporting code, plot and analysis below."
      ],
      "metadata": {
        "id": "nJdJPTb1YuJh"
      }
    }
  ]
}