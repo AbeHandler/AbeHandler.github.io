{
  "nbformat": 4,
  "nbformat_minor": 0,
  "metadata": {
    "colab": {
      "provenance": [],
      "authorship_tag": "ABX9TyMxag1I7LpeVU6Eyds6NU+8",
      "include_colab_link": true
    },
    "kernelspec": {
      "name": "python3",
      "display_name": "Python 3"
    },
    "language_info": {
      "name": "python"
    }
  },
  "cells": [
    {
      "cell_type": "markdown",
      "metadata": {
        "id": "view-in-github",
        "colab_type": "text"
      },
      "source": [
        "<a href=\"https://colab.research.google.com/github/AbeHandler/AbeHandler.github.io/blob/master/Katie_AMJ_intuition_building_implementation_of_Egami.ipynb\" target=\"_parent\"><img src=\"https://colab.research.google.com/assets/colab-badge.svg\" alt=\"Open In Colab\"/></a>"
      ]
    },
    {
      "cell_type": "code",
      "source": [
        "import numpy as np\n",
        "import pandas as pd\n",
        "from sklearn.linear_model import LinearRegression\n",
        "from random import random\n",
        "\n",
        "\n",
        "def llm(row, femaleaccuracy, maleaccuracy):\n",
        "    if row[\"female\"] == 1:\n",
        "        if random() < femaleaccuracy:\n",
        "            return row[\"DV\"]\n",
        "        else:\n",
        "            return 1 - row[\"DV\"]\n",
        "    else:\n",
        "        if random() < maleaccuracy:\n",
        "            return row[\"DV\"]\n",
        "        else:\n",
        "            return 1 - row[\"DV\"]\n",
        "\n",
        "def generate_data(N, pct_female,\n",
        "                  beta1=0.5,\n",
        "                  beta2=-.5,\n",
        "                  intercept=0.0,\n",
        "                  errorsd=0.1,\n",
        "                  femaleaccuracy=1,\n",
        "                  maleaccuracy=1,\n",
        "                  seed=None):\n",
        "    np.random.seed(seed)\n",
        "\n",
        "    public_salary = np.random.binomial(1, 0.5, size=N)\n",
        "\n",
        "    female = np.random.binomial(1, pct_female, size=N)\n",
        "\n",
        "    error = np.random.normal(0, errorsd, size=N)\n",
        "\n",
        "    linear_predictor = intercept + public_salary * beta1 + female * beta2 + error\n",
        "\n",
        "    # for logistic regression\n",
        "    prob = 1 / (1 + np.exp(-linear_predictor))\n",
        "    DV = np.random.binomial(1, prob)\n",
        "\n",
        "    # for linear regression\n",
        "    DV = (linear_predictor > 0).astype(int)\n",
        "\n",
        "    data = pd.DataFrame({\n",
        "        'public_salary': public_salary,\n",
        "        'female': female,\n",
        "        'DV': DV\n",
        "    })\n",
        "\n",
        "    data[\"predicted_DV\"] = data.apply(lambda row: llm(row, femaleaccuracy=femaleaccuracy, maleaccuracy=maleaccuracy), axis=1)\n",
        "    return data\n",
        "\n",
        "\n",
        "L = []\n",
        "I = []\n",
        "for i in range(1000):\n",
        "    N = 1000\n",
        "    Nannotated = 100\n",
        "    pi = Nannotated/N\n",
        "    pct_female = 0.25\n",
        "    generated_data = generate_data(N, pct_female, femaleaccuracy=.75, maleaccuracy=.9)\n",
        "    generated_data[\"expert\"] = np.random.binomial(1, pi, size=N)\n",
        "    log_reg = LinearRegression()\n",
        "    X = generated_data[['public_salary', 'female']]\n",
        "    y = generated_data['predicted_DV']\n",
        "    yadjusted = y - ((generated_data[\"expert\"]/pi) * (generated_data[\"predicted_DV\"] - generated_data[\"DV\"]))\n",
        "\n",
        "    log_reg.fit(X, yadjusted)\n",
        "    coefficients = log_reg.coef_\n",
        "    intercept = log_reg.intercept_\n",
        "    I.append(intercept)\n",
        "    L.append(coefficients)\n",
        "\n",
        "\n",
        "matrix = np.vstack(L)\n",
        "matrix[:,1].mean()\n",
        "np.mean(I)"
      ],
      "metadata": {
        "colab": {
          "base_uri": "https://localhost:8080/"
        },
        "id": "wWfYOSNR6-Qy",
        "outputId": "af806f91-a9cd-41cd-c5b6-40ec2d6564b0"
      },
      "execution_count": 123,
      "outputs": [
        {
          "output_type": "execute_result",
          "data": {
            "text/plain": [
              "0.5015824597644563"
            ]
          },
          "metadata": {},
          "execution_count": 123
        }
      ]
    },
    {
      "cell_type": "code",
      "source": [
        "matrix[:,0].mean()"
      ],
      "metadata": {
        "colab": {
          "base_uri": "https://localhost:8080/"
        },
        "id": "gFi_jWs89WFF",
        "outputId": "ae4b24ce-00ab-4af2-e74f-51797e56e065"
      },
      "execution_count": 125,
      "outputs": [
        {
          "output_type": "execute_result",
          "data": {
            "text/plain": [
              "0.4986333086156519"
            ]
          },
          "metadata": {},
          "execution_count": 125
        }
      ]
    },
    {
      "cell_type": "markdown",
      "source": [
        "### How does this help theory\n",
        "\n",
        "- Better measurements. What is related to what\n",
        "- Text added to DAG. New DVs."
      ],
      "metadata": {
        "id": "4hdSv786J7Yf"
      }
    }
  ]
}