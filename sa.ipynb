{
  "nbformat": 4,
  "nbformat_minor": 0,
  "metadata": {
    "colab": {
      "provenance": [],
      "authorship_tag": "ABX9TyPhhEUMr3I/vcCQbBr8e5aq",
      "include_colab_link": true
    },
    "kernelspec": {
      "name": "python3",
      "display_name": "Python 3"
    },
    "language_info": {
      "name": "python"
    }
  },
  "cells": [
    {
      "cell_type": "markdown",
      "metadata": {
        "id": "view-in-github",
        "colab_type": "text"
      },
      "source": [
        "<a href=\"https://colab.research.google.com/github/AbeHandler/AbeHandler.github.io/blob/master/sa.ipynb\" target=\"_parent\"><img src=\"https://colab.research.google.com/assets/colab-badge.svg\" alt=\"Open In Colab\"/></a>"
      ]
    },
    {
      "cell_type": "code",
      "source": [
        "## perhaps tokens tho"
      ],
      "metadata": {
        "id": "dG6UEbDg8WMa"
      },
      "execution_count": null,
      "outputs": []
    },
    {
      "cell_type": "code",
      "execution_count": 2,
      "metadata": {
        "id": "HAowieuJn2i6"
      },
      "outputs": [],
      "source": [
        "import numpy as np\n",
        "from pydivsufsort import divsufsort\n",
        "\n",
        "# string1\n",
        "string1 = \"banana$\" + \"8\"*8\n",
        "A1 = divsufsort(string1)\n",
        "A1.astype(np.uint64).tofile(\"A1.bin\")\n",
        "\n",
        "# string2\n",
        "string2 = \"strawberry$\" + \"8\"*9\n",
        "A2 = divsufsort(string2)\n",
        "A2 + A1.max() + 1 # shift, +1 b/c zero indexes\n",
        "A2.astype(np.uint64).tofile(\"A2.bin\")\n",
        "\n",
        "# save combined text for suffix comparisons\n",
        "with open(\"full_text.txt\", \"wb\") as f:\n",
        "    f.write(string1.encode(\"utf-8\"))\n",
        "    f.write(string2.encode(\"utf-8\"))"
      ]
    },
    {
      "cell_type": "code",
      "source": [
        "import numpy as np\n",
        "import mmap\n",
        "\n",
        "def stream_uint64(filepath):\n",
        "    with open(filepath, \"rb\") as f:\n",
        "        while True:\n",
        "            b = f.read(8)\n",
        "            if not b:\n",
        "                break\n",
        "            yield np.frombuffer(b, dtype=np.uint64)[0]\n",
        "\n",
        "# Open text as mmap\n",
        "with open(\"full_text.txt\", \"rb\") as ftxt:\n",
        "    text = mmap.mmap(ftxt.fileno(), 0, access=mmap.ACCESS_READ)\n",
        "\n",
        "    # Create generators for both suffix arrays\n",
        "    A1_gen = stream_uint64(\"A1.bin\")\n",
        "    A2_gen = stream_uint64(\"A2.bin\")\n",
        "\n",
        "    val1 = next(A1_gen, None)\n",
        "    val2 = next(A2_gen, None)\n",
        "\n",
        "    with open(\"merged_sa.bin\", \"wb\") as fout:\n",
        "        while val1 is not None and val2 is not None:\n",
        "            s1 = text[val1:]\n",
        "            s2 = text[val2:]\n",
        "            if s1 < s2:\n",
        "                fout.write(np.uint64(val1).tobytes())\n",
        "                val1 = next(A1_gen, None)\n",
        "            else:\n",
        "                fout.write(np.uint64(val2).tobytes())\n",
        "                val2 = next(A2_gen, None)\n",
        "\n",
        "        # Drain remaining values\n",
        "        while val1 is not None:\n",
        "            fout.write(np.uint64(val1).tobytes())\n",
        "            val1 = next(A1_gen, None)\n",
        "\n",
        "        while val2 is not None:\n",
        "            fout.write(np.uint64(val2).tobytes())\n",
        "            val2 = next(A2_gen, None)\n"
      ],
      "metadata": {
        "id": "Byt7rSMKoGoD"
      },
      "execution_count": 2,
      "outputs": []
    },
    {
      "cell_type": "code",
      "source": [
        "SA = np.fromfile(\"merged_sa.bin\", dtype=np.uint64)\n",
        "\n",
        "SA.astype(np.int32).shape"
      ],
      "metadata": {
        "colab": {
          "base_uri": "https://localhost:8080/"
        },
        "id": "niaL-wA69yRV",
        "outputId": "182e4048-6fdb-4c73-f99f-20a54914778b"
      },
      "execution_count": 9,
      "outputs": [
        {
          "output_type": "execute_result",
          "data": {
            "text/plain": [
              "(35,)"
            ]
          },
          "metadata": {},
          "execution_count": 9
        }
      ]
    },
    {
      "cell_type": "code",
      "source": [
        "from pydivsufsort import kasai\n",
        "\n",
        "kasai(string1 + string2, SA.astype(np.int32))"
      ],
      "metadata": {
        "id": "cOpN5I0lozFZ"
      },
      "execution_count": null,
      "outputs": []
    },
    {
      "cell_type": "code",
      "source": [
        "from pydivsufsort import divsufsort, kasai\n",
        "\n",
        "text = string1 + string2\n",
        "sa = divsufsort(text)\n",
        "string_lcp_array = kasai(text, string_suffix_array)\n",
        "lcp = kasai(text, sa)\n",
        "\n",
        "print(f\"{'i':>2} {'SA[i]':>6} {'LCP[i]':>7}  Suffix\")\n",
        "print(\"-\" * 40)\n",
        "\n",
        "for i in range(len(sa)):\n",
        "    suffix = text[sa[i]:]\n",
        "    lcp_val = lcp[i] if i > 0 else 0\n",
        "    print(f\"{i:2} {sa[i]:6} {lcp_val:7}  {suffix}\")"
      ],
      "metadata": {
        "colab": {
          "base_uri": "https://localhost:8080/"
        },
        "id": "jVedD3TZpCI-",
        "outputId": "ed72a76c-1745-4669-9595-733d1327fd3b"
      },
      "execution_count": 10,
      "outputs": [
        {
          "output_type": "stream",
          "name": "stdout",
          "text": [
            " i  SA[i]  LCP[i]  Suffix\n",
            "----------------------------------------\n",
            " 0     25       0  $888888888\n",
            " 1      6       0  $88888888strawberry$888888888\n",
            " 2     34       1  8\n",
            " 3     33       2  88\n",
            " 4     32       3  888\n",
            " 5     31       4  8888\n",
            " 6     30       5  88888\n",
            " 7     29       6  888888\n",
            " 8     28       7  8888888\n",
            " 9     27       8  88888888\n",
            "10     26       8  888888888\n",
            "11      7       7  88888888strawberry$888888888\n",
            "12      8       6  8888888strawberry$888888888\n",
            "13      9       5  888888strawberry$888888888\n",
            "14     10       4  88888strawberry$888888888\n",
            "15     11       3  8888strawberry$888888888\n",
            "16     12       2  888strawberry$888888888\n",
            "17     13       1  88strawberry$888888888\n",
            "18     14       0  8strawberry$888888888\n",
            "19      5       1  a$88888888strawberry$888888888\n",
            "20      3       3  ana$88888888strawberry$888888888\n",
            "21      1       1  anana$88888888strawberry$888888888\n",
            "22     18       0  awberry$888888888\n",
            "23      0       1  banana$88888888strawberry$888888888\n",
            "24     20       0  berry$888888888\n",
            "25     21       0  erry$888888888\n",
            "26      4       2  na$88888888strawberry$888888888\n",
            "27      2       0  nana$88888888strawberry$888888888\n",
            "28     17       1  rawberry$888888888\n",
            "29     22       1  rry$888888888\n",
            "30     23       0  ry$888888888\n",
            "31     15       0  strawberry$888888888\n",
            "32     16       0  trawberry$888888888\n",
            "33     19       0  wberry$888888888\n",
            "34     24       0  y$888888888\n"
          ]
        }
      ]
    },
    {
      "cell_type": "code",
      "source": [
        "string1"
      ],
      "metadata": {
        "colab": {
          "base_uri": "https://localhost:8080/",
          "height": 35
        },
        "id": "qQ8EofB99Ofb",
        "outputId": "d51380c4-a1dd-4c6f-a460-cfdfba8d8a87"
      },
      "execution_count": 11,
      "outputs": [
        {
          "output_type": "execute_result",
          "data": {
            "text/plain": [
              "'banana$88888888'"
            ],
            "application/vnd.google.colaboratory.intrinsic+json": {
              "type": "string"
            }
          },
          "metadata": {},
          "execution_count": 11
        }
      ]
    },
    {
      "cell_type": "code",
      "source": [
        "string2"
      ],
      "metadata": {
        "colab": {
          "base_uri": "https://localhost:8080/",
          "height": 35
        },
        "id": "rzYYnqh79eTX",
        "outputId": "cdf29bc8-02ef-4706-84b9-393b467da014"
      },
      "execution_count": 12,
      "outputs": [
        {
          "output_type": "execute_result",
          "data": {
            "text/plain": [
              "'strawberry$888888888'"
            ],
            "application/vnd.google.colaboratory.intrinsic+json": {
              "type": "string"
            }
          },
          "metadata": {},
          "execution_count": 12
        }
      ]
    },
    {
      "cell_type": "code",
      "source": [
        "string1 + string2"
      ],
      "metadata": {
        "colab": {
          "base_uri": "https://localhost:8080/",
          "height": 35
        },
        "id": "4JSuVNEk9-hk",
        "outputId": "2b797775-feb9-4270-a7f8-cbe992f79376"
      },
      "execution_count": 13,
      "outputs": [
        {
          "output_type": "execute_result",
          "data": {
            "text/plain": [
              "'banana$88888888strawberry$888888888'"
            ],
            "application/vnd.google.colaboratory.intrinsic+json": {
              "type": "string"
            }
          },
          "metadata": {},
          "execution_count": 13
        }
      ]
    },
    {
      "cell_type": "code",
      "source": [
        "SA.astype(np.int32)"
      ],
      "metadata": {
        "colab": {
          "base_uri": "https://localhost:8080/"
        },
        "id": "iPMOo9DP-DUC",
        "outputId": "dc8dbf7d-3dbf-4adb-b7e5-9c598d1b29cd"
      },
      "execution_count": 11,
      "outputs": [
        {
          "output_type": "execute_result",
          "data": {
            "text/plain": [
              "array([ 6, 10, 14, 13, 12, 11, 10,  9,  8,  7,  5,  3,  1,  0,  4,  2, 19,\n",
              "       18, 17, 16, 15, 14, 13, 12, 11,  3,  5,  6,  2,  7,  8,  0,  1,  4,\n",
              "        9], dtype=int32)"
            ]
          },
          "metadata": {},
          "execution_count": 11
        }
      ]
    },
    {
      "cell_type": "code",
      "source": [
        "string_suffix_array"
      ],
      "metadata": {
        "colab": {
          "base_uri": "https://localhost:8080/"
        },
        "id": "bJZRDIrZ-FUp",
        "outputId": "9688aee6-7a50-4f88-bbd4-0a1e66a90f12"
      },
      "execution_count": 13,
      "outputs": [
        {
          "output_type": "execute_result",
          "data": {
            "text/plain": [
              "array([6, 5, 3, 1, 0, 4, 2], dtype=int32)"
            ]
          },
          "metadata": {},
          "execution_count": 13
        }
      ]
    },
    {
      "cell_type": "code",
      "source": [
        "# Compute suffix array and LCP naively, then display common prefixes of length 2\n",
        "\n",
        "def compute_sa(text):\n",
        "    return sorted(range(len(text)), key=lambda i: text[i:])\n",
        "\n",
        "def compute_lcp(text, sa):\n",
        "    lcp = [0] * len(sa)\n",
        "    for i in range(1, len(sa)):\n",
        "        # find common prefix length between suffixes at sa[i] and sa[i-1]\n",
        "        a, b = text[sa[i]:], text[sa[i-1]:]\n",
        "        h = 0\n",
        "        while h < len(a) and h < len(b) and a[h] == b[h]:\n",
        "            h += 1\n",
        "        lcp[i] = h\n",
        "    return lcp\n",
        "\n",
        "s = \"aabaa\"\n",
        "s1 = f\"{s}document stuff\"\n",
        "s2 = f\"{s}lorem\"\n",
        "text = s1 + \"$\" + s2  # \"aabaa document stuff$aabaa lorem\"\n",
        "\n",
        "# Compute SA and LCP\n",
        "sa = compute_sa(text)\n",
        "lcp = compute_lcp(text, sa)\n",
        "\n",
        "THRESHOLD = 5\n",
        "\n",
        "# Display entries where LCP >= 2 and show the two common characters\n",
        "print(f\"{'i':>2} {'SA[i]':>5} {'SA[i-1]':>7} {'LCP[i]':>7}  {f'Common ({THRESHOLD} chars)':>20}  {'Suffix_i':>12}  {'Suffix_prev'}\")\n",
        "print(\"-\" * 100)\n",
        "for i in range(1, len(sa)):\n",
        "    if lcp[i] >= THRESHOLD:\n",
        "        pos_i = sa[i]\n",
        "        pos_prev = sa[i-1]\n",
        "        common = text[pos_i:pos_i + THRESHOLD]\n",
        "        suffix_i = text[pos_i:]\n",
        "        suffix_prev = text[pos_prev:]\n",
        "        print(f\"{i:2} {pos_i:5} {pos_prev:7} {lcp[i]:7}  {common!r:20}  {suffix_i!r:12}  {suffix_prev!r}\")\n"
      ],
      "metadata": {
        "colab": {
          "base_uri": "https://localhost:8080/"
        },
        "id": "w5Dr2WoF-G0H",
        "outputId": "35c72d16-d16f-423a-ecd1-8d811d24aa51"
      },
      "execution_count": 46,
      "outputs": [
        {
          "output_type": "stream",
          "name": "stdout",
          "text": [
            " i SA[i] SA[i-1]  LCP[i]      Common (5 chars)      Suffix_i  Suffix_prev\n",
            "----------------------------------------------------------------------------------------------------\n",
            " 3    20       0       5  'aabaa'               'aabaalorem'  'aabaadocument stuff$aabaalorem'\n"
          ]
        }
      ]
    },
    {
      "cell_type": "code",
      "source": [
        "text[sa[0]:]"
      ],
      "metadata": {
        "colab": {
          "base_uri": "https://localhost:8080/",
          "height": 35
        },
        "id": "sH1ukymFHJ79",
        "outputId": "75fac47c-460d-478d-e941-964adead1a84"
      },
      "execution_count": 36,
      "outputs": [
        {
          "output_type": "execute_result",
          "data": {
            "text/plain": [
              "'$aab'"
            ],
            "application/vnd.google.colaboratory.intrinsic+json": {
              "type": "string"
            }
          },
          "metadata": {},
          "execution_count": 36
        }
      ]
    },
    {
      "cell_type": "code",
      "source": [],
      "metadata": {
        "id": "CCZ7RXllJnUQ"
      },
      "execution_count": null,
      "outputs": []
    }
  ]
}