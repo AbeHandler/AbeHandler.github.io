{
  "nbformat": 4,
  "nbformat_minor": 0,
  "metadata": {
    "colab": {
      "provenance": [],
      "authorship_tag": "ABX9TyOx14x+k0flX3s8I0iVlwVE",
      "include_colab_link": true
    },
    "kernelspec": {
      "name": "python3",
      "display_name": "Python 3"
    },
    "language_info": {
      "name": "python"
    }
  },
  "cells": [
    {
      "cell_type": "markdown",
      "metadata": {
        "id": "view-in-github",
        "colab_type": "text"
      },
      "source": [
        "<a href=\"https://colab.research.google.com/github/AbeHandler/AbeHandler.github.io/blob/master/sa.ipynb\" target=\"_parent\"><img src=\"https://colab.research.google.com/assets/colab-badge.svg\" alt=\"Open In Colab\"/></a>"
      ]
    },
    {
      "cell_type": "markdown",
      "source": [
        "### The plan\n",
        "\n",
        "1. Compute sa for each shard\n",
        "2. Merge them w/ a mem map low memory merge\n",
        "3. Shard the big SA. The sequences that are similar will go in the same shard\n",
        "4. Search those shards in parallel"
      ],
      "metadata": {
        "id": "tb-J6SYpMNfY"
      }
    },
    {
      "cell_type": "code",
      "source": [
        "from pydivsufsort import divsufsort, kasai\n",
        "\n",
        "def compute_sa(text):\n",
        "    return sorted(range(len(text)), key=lambda i: text[i:])\n",
        "\n",
        "def compute_lcp(text, sa):\n",
        "    lcp = [0] * len(sa)\n",
        "    for i in range(1, len(sa)):\n",
        "        # find common prefix length between suffixes at sa[i] and sa[i-1]\n",
        "        a, b = text[sa[i]:], text[sa[i-1]:]\n",
        "        h = 0\n",
        "        while h < len(a) and h < len(b) and a[h] == b[h]:\n",
        "            h += 1\n",
        "        lcp[i] = h\n",
        "    return lcp\n",
        "\n",
        "s = \"aabaa\"\n",
        "s1 = f\"{s}document stuff\"\n",
        "s2 = f\"{s}lorem\"\n",
        "text = s1 + \"$\" + s2  # \"aabaa document stuff$aabaa lorem\"\n",
        "\n",
        "# Compute SA and LCP\n",
        "sa = divsufsort(text)\n",
        "lcp = kasai(text, sa)\n",
        "\n",
        "THRESHOLD = 5\n",
        "\n",
        "# Display entries where LCP >= 2 and show the two common characters\n",
        "print(f\"{'i':>2} {'SA[i]':>5} {'SA[i-1]':>7} {'LCP[i]':>7}  {f'Common ({THRESHOLD} chars)':>20}  {'Suffix_i':>12}  {'Suffix_prev'}\")\n",
        "print(\"-\" * 100)\n",
        "for i in range(1, len(sa)):\n",
        "    if lcp[i] >= THRESHOLD:\n",
        "        pos_i = sa[i]\n",
        "        pos_prev = sa[i-1]\n",
        "        common = text[pos_i:pos_i + THRESHOLD]\n",
        "        suffix_i = text[pos_i:]\n",
        "        suffix_prev = text[pos_prev:]\n",
        "        print(f\"{i:2} {pos_i:5} {pos_prev:7} {lcp[i]:7}  {common!r:20}  {suffix_i!r:12}  {suffix_prev!r}\")"
      ],
      "metadata": {
        "colab": {
          "base_uri": "https://localhost:8080/"
        },
        "id": "w5Dr2WoF-G0H",
        "outputId": "41d4cae3-7746-43f3-eef1-49e153325b57"
      },
      "execution_count": 1,
      "outputs": [
        {
          "output_type": "stream",
          "name": "stdout",
          "text": [
            " i SA[i] SA[i-1]  LCP[i]      Common (5 chars)      Suffix_i  Suffix_prev\n",
            "----------------------------------------------------------------------------------------------------\n",
            " 2     0      19       5  'aabaa'               'aabaadocument stuff$aabaalorem'  '$aabaalorem'\n"
          ]
        }
      ]
    },
    {
      "cell_type": "code",
      "source": [
        "import numpy as np\n",
        "import mmap\n",
        "\n",
        "sa1 = divsufsort(s1).astype(np.uint64)\n",
        "sa1.tofile(\"sa1.bin\")\n",
        "\n",
        "sa2 = divsufsort(s2).astype(np.uint64)\n",
        "sa2.tofile(\"sa2.bin\")\n",
        "\n",
        "\n",
        "sa1_mm = np.memmap(\"sa1.bin\", dtype=np.uint64, mode=\"r\")\n",
        "sa2_mm = np.memmap(\"sa2.bin\", dtype=np.uint64, mode=\"r\")\n",
        "\n",
        "# Write the concatenated text to disk for mmap\n",
        "with open(\"text.bin\", \"wb\") as f:\n",
        "    f.write((s1 + s2).encode())\n",
        "\n",
        "# Memory-map the text\n",
        "f_text = open(\"text.bin\", \"rb\")\n",
        "text_mm = mmap.mmap(f_text.fileno(), 0, access=mmap.ACCESS_READ)\n",
        "\n",
        "# 4) Merge the two suffix arrays without loading fully into RAM\n",
        "len1 = len(s1)\n",
        "n1, n2 = sa1_mm.shape[0], sa2_mm.shape[0]\n",
        "merged_len = n1 + n2\n",
        "\n",
        "merged_sa = np.memmap(\"merged_sa.bin\", dtype=np.uint64, mode=\"w+\", shape=(merged_len,))\n",
        "\n",
        "i = j = k = 0\n",
        "while i < n1 and j < n2:\n",
        "    idx1 = int(sa1_mm[i])\n",
        "    idx2 = int(sa2_mm[j]) + len1\n",
        "    # compare suffixes via mmap\n",
        "    if text_mm[idx1:] < text_mm[idx2:]:\n",
        "        merged_sa[k] = idx1\n",
        "        i += 1\n",
        "    else:\n",
        "        merged_sa[k] = idx2\n",
        "        j += 1\n",
        "    k += 1\n",
        "\n",
        "# drain remainders\n",
        "while i < n1:\n",
        "    merged_sa[k] = int(sa1_mm[i])\n",
        "    i += 1; k += 1\n",
        "while j < n2:\n",
        "    merged_sa[k] = int(sa2_mm[j]) + len1\n",
        "    j += 1; k += 1\n",
        "\n",
        "merged_sa.flush()\n",
        "print(\"Merged suffix array written to 'merged_sa.bin'\")\n",
        "\n",
        "merged_sa = np.fromfile(\"merged_sa.bin\", dtype=np.uint64)\n",
        "merged_sa_correct = divsufsort(s1 + s2).astype(np.uint64)"
      ],
      "metadata": {
        "id": "CCZ7RXllJnUQ",
        "colab": {
          "base_uri": "https://localhost:8080/"
        },
        "outputId": "c926aab1-e979-47c4-d6c2-06c6d70c4ab5"
      },
      "execution_count": 10,
      "outputs": [
        {
          "output_type": "stream",
          "name": "stdout",
          "text": [
            "Merged suffix array written to 'merged_sa.bin'\n"
          ]
        }
      ]
    },
    {
      "cell_type": "code",
      "source": [
        "merged_sa"
      ],
      "metadata": {
        "colab": {
          "base_uri": "https://localhost:8080/"
        },
        "id": "hLCu7mdSt1Tg",
        "outputId": "e904dd84-e91c-4bcf-d4c4-b2c88aeabff7"
      },
      "execution_count": 13,
      "outputs": [
        {
          "output_type": "execute_result",
          "data": {
            "text/plain": [
              "array([13,  0, 19,  3, 22,  1, 20,  4, 23,  2, 21,  7,  5, 27, 10, 18, 17,\n",
              "       24, 28,  9, 11,  6, 25, 26, 14, 12, 15, 16,  8], dtype=uint64)"
            ]
          },
          "metadata": {},
          "execution_count": 13
        }
      ]
    },
    {
      "cell_type": "code",
      "source": [],
      "metadata": {
        "id": "4XI7jCwWuAQi"
      },
      "execution_count": null,
      "outputs": []
    }
  ]
}