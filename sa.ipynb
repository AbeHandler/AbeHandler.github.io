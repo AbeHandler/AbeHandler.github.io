{
  "nbformat": 4,
  "nbformat_minor": 0,
  "metadata": {
    "colab": {
      "provenance": [],
      "authorship_tag": "ABX9TyNgRZCjmjrAhGgjPlSytizl",
      "include_colab_link": true
    },
    "kernelspec": {
      "name": "python3",
      "display_name": "Python 3"
    },
    "language_info": {
      "name": "python"
    }
  },
  "cells": [
    {
      "cell_type": "markdown",
      "metadata": {
        "id": "view-in-github",
        "colab_type": "text"
      },
      "source": [
        "<a href=\"https://colab.research.google.com/github/AbeHandler/AbeHandler.github.io/blob/master/sa.ipynb\" target=\"_parent\"><img src=\"https://colab.research.google.com/assets/colab-badge.svg\" alt=\"Open In Colab\"/></a>"
      ]
    },
    {
      "cell_type": "markdown",
      "source": [
        "### The plan\n",
        "\n",
        "1. Compute sa for each shard\n",
        "2. Merge them w/ a mem map low memory merge\n",
        "3. Shard the big SA. The sequences that are similar will go in the same shard\n",
        "4. Search those shards in parallel"
      ],
      "metadata": {
        "id": "tb-J6SYpMNfY"
      }
    },
    {
      "cell_type": "code",
      "source": [
        "# Compute suffix array and LCP naively, then display common prefixes of length 2\n",
        "\n",
        "def compute_sa(text):\n",
        "    return sorted(range(len(text)), key=lambda i: text[i:])\n",
        "\n",
        "def compute_lcp(text, sa):\n",
        "    lcp = [0] * len(sa)\n",
        "    for i in range(1, len(sa)):\n",
        "        # find common prefix length between suffixes at sa[i] and sa[i-1]\n",
        "        a, b = text[sa[i]:], text[sa[i-1]:]\n",
        "        h = 0\n",
        "        while h < len(a) and h < len(b) and a[h] == b[h]:\n",
        "            h += 1\n",
        "        lcp[i] = h\n",
        "    return lcp\n",
        "\n",
        "s = \"aabaa\"\n",
        "s1 = f\"{s}document stuff\"\n",
        "s2 = f\"{s}lorem\"\n",
        "text = s1 + \"$\" + s2  # \"aabaa document stuff$aabaa lorem\"\n",
        "\n",
        "# Compute SA and LCP\n",
        "sa = compute_sa(text)\n",
        "lcp = compute_lcp(text, sa)\n",
        "\n",
        "THRESHOLD = 5\n",
        "\n",
        "# Display entries where LCP >= 2 and show the two common characters\n",
        "print(f\"{'i':>2} {'SA[i]':>5} {'SA[i-1]':>7} {'LCP[i]':>7}  {f'Common ({THRESHOLD} chars)':>20}  {'Suffix_i':>12}  {'Suffix_prev'}\")\n",
        "print(\"-\" * 100)\n",
        "for i in range(1, len(sa)):\n",
        "    if lcp[i] >= THRESHOLD:\n",
        "        pos_i = sa[i]\n",
        "        pos_prev = sa[i-1]\n",
        "        common = text[pos_i:pos_i + THRESHOLD]\n",
        "        suffix_i = text[pos_i:]\n",
        "        suffix_prev = text[pos_prev:]\n",
        "        print(f\"{i:2} {pos_i:5} {pos_prev:7} {lcp[i]:7}  {common!r:20}  {suffix_i!r:12}  {suffix_prev!r}\")\n"
      ],
      "metadata": {
        "colab": {
          "base_uri": "https://localhost:8080/"
        },
        "id": "w5Dr2WoF-G0H",
        "outputId": "35c72d16-d16f-423a-ecd1-8d811d24aa51"
      },
      "execution_count": 46,
      "outputs": [
        {
          "output_type": "stream",
          "name": "stdout",
          "text": [
            " i SA[i] SA[i-1]  LCP[i]      Common (5 chars)      Suffix_i  Suffix_prev\n",
            "----------------------------------------------------------------------------------------------------\n",
            " 3    20       0       5  'aabaa'               'aabaalorem'  'aabaadocument stuff$aabaalorem'\n"
          ]
        }
      ]
    },
    {
      "cell_type": "code",
      "source": [],
      "metadata": {
        "id": "CCZ7RXllJnUQ"
      },
      "execution_count": null,
      "outputs": []
    }
  ]
}