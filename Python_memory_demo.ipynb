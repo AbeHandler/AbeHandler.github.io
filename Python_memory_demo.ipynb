{
  "nbformat": 4,
  "nbformat_minor": 0,
  "metadata": {
    "colab": {
      "provenance": [],
      "include_colab_link": true
    },
    "kernelspec": {
      "name": "python3",
      "display_name": "Python 3"
    },
    "language_info": {
      "name": "python"
    }
  },
  "cells": [
    {
      "cell_type": "markdown",
      "metadata": {
        "id": "view-in-github",
        "colab_type": "text"
      },
      "source": [
        "<a href=\"https://colab.research.google.com/github/AbeHandler/AbeHandler.github.io/blob/master/Python_memory_demo.ipynb\" target=\"_parent\"><img src=\"https://colab.research.google.com/assets/colab-badge.svg\" alt=\"Open In Colab\"/></a>"
      ]
    },
    {
      "cell_type": "markdown",
      "source": [
        "\n",
        "\n",
        "```\n",
        "# This is formatted as code\n",
        "```\n",
        "\n",
        "## Python memory demo\n",
        "\n",
        "- Plus `==` operator and using `?` "
      ],
      "metadata": {
        "id": "P9lQDZb5v6oh"
      }
    },
    {
      "cell_type": "code",
      "execution_count": null,
      "metadata": {
        "colab": {
          "base_uri": "https://localhost:8080/"
        },
        "id": "qf-0YS6nupWt",
        "outputId": "2aee4be3-ccb4-415d-ab11-a66f47639dc6"
      },
      "outputs": [
        {
          "output_type": "execute_result",
          "data": {
            "text/plain": [
              "140178525402608"
            ]
          },
          "metadata": {},
          "execution_count": 2
        }
      ],
      "source": [
        "Justin = \"Justin\"\n",
        "id(Justin)"
      ]
    },
    {
      "cell_type": "code",
      "source": [
        "POBox787 = Justin \n",
        "\n",
        "id(POBox787)"
      ],
      "metadata": {
        "colab": {
          "base_uri": "https://localhost:8080/"
        },
        "id": "apndLoynuv6b",
        "outputId": "26dfe34f-6831-4c20-a278-bad186254fd9"
      },
      "execution_count": null,
      "outputs": [
        {
          "output_type": "execute_result",
          "data": {
            "text/plain": [
              "140178525402608"
            ]
          },
          "metadata": {},
          "execution_count": 3
        }
      ]
    },
    {
      "cell_type": "markdown",
      "source": [
        "### Use `==` to compare values. \n",
        "\n",
        "- One `=` is variable assignment\n",
        "- Two `==` is check for equality"
      ],
      "metadata": {
        "id": "HRPgTLXVxB9j"
      }
    },
    {
      "cell_type": "code",
      "source": [
        "3 == 4"
      ],
      "metadata": {
        "colab": {
          "base_uri": "https://localhost:8080/"
        },
        "id": "DxImvOY6xXfp",
        "outputId": "aae92ee7-ddd5-4ad7-a4c1-c5f6e5732e24"
      },
      "execution_count": null,
      "outputs": [
        {
          "output_type": "execute_result",
          "data": {
            "text/plain": [
              "False"
            ]
          },
          "metadata": {},
          "execution_count": 33
        }
      ]
    },
    {
      "cell_type": "code",
      "source": [
        "\"A\" == \"A\""
      ],
      "metadata": {
        "colab": {
          "base_uri": "https://localhost:8080/"
        },
        "id": "2f_maflgxaKe",
        "outputId": "038933c3-a16d-463e-9e60-4d785e67e0fb"
      },
      "execution_count": null,
      "outputs": [
        {
          "output_type": "execute_result",
          "data": {
            "text/plain": [
              "True"
            ]
          },
          "metadata": {},
          "execution_count": 35
        }
      ]
    },
    {
      "cell_type": "code",
      "source": [
        "id(POBox787) == id(Justin)"
      ],
      "metadata": {
        "colab": {
          "base_uri": "https://localhost:8080/"
        },
        "id": "G7iCKmbUvXkx",
        "outputId": "1480836c-6686-43a4-f9a0-4a9be7b24645"
      },
      "execution_count": null,
      "outputs": [
        {
          "output_type": "execute_result",
          "data": {
            "text/plain": [
              "True"
            ]
          },
          "metadata": {},
          "execution_count": 12
        }
      ]
    },
    {
      "cell_type": "markdown",
      "source": [
        "Use ? to get help about a Python function\n",
        "\n",
        "- e.g. to get help on `id` use `id?`"
      ],
      "metadata": {
        "id": "Aisfw-mjxd3M"
      }
    },
    {
      "cell_type": "code",
      "source": [
        "id?"
      ],
      "metadata": {
        "id": "QYzbnT77vitA"
      },
      "execution_count": null,
      "outputs": []
    },
    {
      "cell_type": "code",
      "source": [
        "POBox788 = POBox787\n",
        "id(POBox788), id(Justin)"
      ],
      "metadata": {
        "colab": {
          "base_uri": "https://localhost:8080/"
        },
        "id": "1iClDMM1mJyf",
        "outputId": "4fac3583-c878-4278-c1c0-608e80229f39"
      },
      "execution_count": null,
      "outputs": [
        {
          "output_type": "execute_result",
          "data": {
            "text/plain": [
              "(140178525402608, 140178525402608)"
            ]
          },
          "metadata": {},
          "execution_count": 4
        }
      ]
    },
    {
      "cell_type": "code",
      "source": [
        "POBox787 = \"J\"\n",
        "id(POBox787)\n",
        "POBox787"
      ],
      "metadata": {
        "colab": {
          "base_uri": "https://localhost:8080/",
          "height": 35
        },
        "id": "SnmuC0F-u3Sq",
        "outputId": "1f18f6bd-2b22-47e3-e954-2e31668eb39b"
      },
      "execution_count": null,
      "outputs": [
        {
          "output_type": "execute_result",
          "data": {
            "text/plain": [
              "'J'"
            ],
            "application/vnd.google.colaboratory.intrinsic+json": {
              "type": "string"
            }
          },
          "metadata": {},
          "execution_count": 7
        }
      ]
    },
    {
      "cell_type": "code",
      "source": [
        "Justin = \"Bob\"\n",
        "\n",
        "id(Justin)"
      ],
      "metadata": {
        "colab": {
          "base_uri": "https://localhost:8080/"
        },
        "id": "1JcLgA0lu5HO",
        "outputId": "0a07c486-0722-455b-fdc8-9c1cc5fb6fe0"
      },
      "execution_count": null,
      "outputs": [
        {
          "output_type": "execute_result",
          "data": {
            "text/plain": [
              "139754172953584"
            ]
          },
          "metadata": {},
          "execution_count": 22
        }
      ]
    },
    {
      "cell_type": "code",
      "source": [
        "print(POBox787)"
      ],
      "metadata": {
        "colab": {
          "base_uri": "https://localhost:8080/"
        },
        "id": "10Mtg_AovCEG",
        "outputId": "f60228f0-6c5c-480e-d5f9-097cad35072b"
      },
      "execution_count": null,
      "outputs": [
        {
          "output_type": "stream",
          "name": "stdout",
          "text": [
            "J\n"
          ]
        }
      ]
    },
    {
      "cell_type": "code",
      "source": [
        "print(Justin)"
      ],
      "metadata": {
        "colab": {
          "base_uri": "https://localhost:8080/"
        },
        "id": "c6drf4zpvEPK",
        "outputId": "db173a71-3e53-43b1-9934-0c541d3732d3"
      },
      "execution_count": null,
      "outputs": [
        {
          "output_type": "stream",
          "name": "stdout",
          "text": [
            "Bob\n"
          ]
        }
      ]
    },
    {
      "cell_type": "code",
      "source": [
        "lunch = \"Wendys\"\n",
        "dinner = \"Wendys\"\n",
        "dinner = \"Wendys\" + \"3\"\n",
        "id(lunch), id(dinner)"
      ],
      "metadata": {
        "id": "X63hTglZw8Jr",
        "colab": {
          "base_uri": "https://localhost:8080/"
        },
        "outputId": "3c01eef8-3f63-4071-def8-a278c76fe39c"
      },
      "execution_count": null,
      "outputs": [
        {
          "output_type": "execute_result",
          "data": {
            "text/plain": [
              "(140178525359280, 140178526712368)"
            ]
          },
          "metadata": {},
          "execution_count": 10
        }
      ]
    },
    {
      "cell_type": "markdown",
      "source": [
        "Weird python trivia. It will put some small ints in the same memory location"
      ],
      "metadata": {
        "id": "pCKAayktvvFd"
      }
    },
    {
      "cell_type": "markdown",
      "source": [
        "- Strings\n",
        "- Functions\n",
        "- Concatentaion of strings"
      ],
      "metadata": {
        "id": "-Lmbp7JNntfX"
      }
    },
    {
      "cell_type": "code",
      "source": [
        "A = 5\n",
        "B = 5"
      ],
      "metadata": {
        "id": "FARME6TDvKRX"
      },
      "execution_count": null,
      "outputs": []
    },
    {
      "cell_type": "code",
      "source": [
        "id(A)"
      ],
      "metadata": {
        "colab": {
          "base_uri": "https://localhost:8080/"
        },
        "id": "zt-BT9DtvwaR",
        "outputId": "b872bc12-2cf4-4805-cf9e-7c814c71d98b"
      },
      "execution_count": null,
      "outputs": [
        {
          "output_type": "execute_result",
          "data": {
            "text/plain": [
              "9793216"
            ]
          },
          "metadata": {},
          "execution_count": 28
        }
      ]
    },
    {
      "cell_type": "code",
      "source": [
        "id(B)"
      ],
      "metadata": {
        "colab": {
          "base_uri": "https://localhost:8080/"
        },
        "id": "QPgNxl5PvxI9",
        "outputId": "6a5deec8-be31-4b49-90cc-874ec3ce774e"
      },
      "execution_count": null,
      "outputs": [
        {
          "output_type": "execute_result",
          "data": {
            "text/plain": [
              "9793216"
            ]
          },
          "metadata": {},
          "execution_count": 29
        }
      ]
    }
  ]
}