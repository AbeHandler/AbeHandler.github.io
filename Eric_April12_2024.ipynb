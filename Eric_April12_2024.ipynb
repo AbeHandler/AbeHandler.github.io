{
  "nbformat": 4,
  "nbformat_minor": 0,
  "metadata": {
    "colab": {
      "provenance": [],
      "authorship_tag": "ABX9TyPk5McEQ2xUGxX9I/5x1w6I",
      "include_colab_link": true
    },
    "kernelspec": {
      "name": "python3",
      "display_name": "Python 3"
    },
    "language_info": {
      "name": "python"
    }
  },
  "cells": [
    {
      "cell_type": "markdown",
      "metadata": {
        "id": "view-in-github",
        "colab_type": "text"
      },
      "source": [
        "<a href=\"https://colab.research.google.com/github/AbeHandler/AbeHandler.github.io/blob/master/Eric_April12_2024.ipynb\" target=\"_parent\"><img src=\"https://colab.research.google.com/assets/colab-badge.svg\" alt=\"Open In Colab\"/></a>"
      ]
    },
    {
      "cell_type": "code",
      "execution_count": 93,
      "metadata": {
        "id": "-ebY9KE0ECdu"
      },
      "outputs": [],
      "source": [
        "import pandas as pd\n",
        "import json\n",
        "import enum\n",
        "\n",
        "\n",
        "with open('tmp.jsonl', 'r') as f:\n",
        "  lines = f.readlines()\n",
        "\n",
        "data = [json.loads(line) for line in lines]\n",
        "df = pd.DataFrame(data)\n",
        "df = df[df[\"number\"].apply(lambda x: len(x) > 0)]\n",
        "\n",
        "df[\"position\"] = df[\"CamZ\"].apply(lambda x: round(float(x)))\n",
        "\n",
        "class Position(enum.Enum):\n",
        "    RIGHT = 5\n",
        "    CENTER = 0\n",
        "    LEFT = -5\n",
        "\n",
        "df[\"position\"] = df[\"CamZ\"].apply(lambda x: Position(round(float(x))).name)\n",
        "\n",
        "df[\"number\"] = df[\"number\"].apply(lambda x: float(x))\n",
        "df[\"Lvar\"] = df[\"Lvar\"].apply(lambda x: float(x))\n",
        "df[\"Rvar\"] = df[\"Rvar\"].apply(lambda x: float(x))\n",
        "df[\"Cleveland\"] = df.index > 90\n",
        "df[\"larger\"] = df[[\"Lvar\", \"Rvar\"]].max(axis=1)\n",
        "df[\"smaller\"] = df[[\"Lvar\", \"Rvar\"]].min(axis=1)\n",
        "df[\"data_pct\"] = (df[\"smaller\"] / df[\"larger\"]) * 100\n",
        "df = df.drop(\"larger\", axis=1)\n",
        "df = df.drop(\"smaller\", axis=1)\n"
      ]
    },
    {
      "cell_type": "markdown",
      "source": [
        "### Cleveland analysis"
      ],
      "metadata": {
        "id": "xiLUKHuxNFDv"
      }
    },
    {
      "cell_type": "code",
      "source": [
        "dfC = df[df[\"Cleveland\"]].copy()\n",
        "dfC[\"bias\"] = dfC[\"number\"] - dfC[\"data_pct\"]\n",
        "dfC['right_bigger'] = (dfC['Rvar'] > dfC['Lvar'])\n",
        "dfC['sideSmall'] = (dfC['right_bigger'] & (dfC['position'] == 'LEFT')) | (~dfC['right_bigger'] & (dfC['position'] == 'RIGHT'))\n",
        "dfC = dfC[dfC[\"position\"] != \"CENTER\"]"
      ],
      "metadata": {
        "id": "AhCUIz2hM_ni"
      },
      "execution_count": 105,
      "outputs": []
    },
    {
      "cell_type": "code",
      "source": [
        "dfC.groupby('sideSmall').mean('bias').reset_index()"
      ],
      "metadata": {
        "colab": {
          "base_uri": "https://localhost:8080/",
          "height": 112
        },
        "id": "DgGHkJ6sSTiP",
        "outputId": "ece5a3a1-121f-4180-e804-eb9e91611bd1"
      },
      "execution_count": 108,
      "outputs": [
        {
          "output_type": "execute_result",
          "data": {
            "text/plain": [
              "   sideSmall      Lvar      Rvar     number  Cleveland   data_pct      bias  \\\n",
              "0      False  0.300252  0.233408  57.307692        1.0  63.760391 -6.452699   \n",
              "1       True  0.339191  0.296579  66.057143        1.0  57.407805  8.649338   \n",
              "\n",
              "   right_bigger  \n",
              "0      0.230769  \n",
              "1      0.400000  "
            ],
            "text/html": [
              "\n",
              "  <div id=\"df-8cb9205f-5995-4d35-8d08-295dd7285622\" class=\"colab-df-container\">\n",
              "    <div>\n",
              "<style scoped>\n",
              "    .dataframe tbody tr th:only-of-type {\n",
              "        vertical-align: middle;\n",
              "    }\n",
              "\n",
              "    .dataframe tbody tr th {\n",
              "        vertical-align: top;\n",
              "    }\n",
              "\n",
              "    .dataframe thead th {\n",
              "        text-align: right;\n",
              "    }\n",
              "</style>\n",
              "<table border=\"1\" class=\"dataframe\">\n",
              "  <thead>\n",
              "    <tr style=\"text-align: right;\">\n",
              "      <th></th>\n",
              "      <th>sideSmall</th>\n",
              "      <th>Lvar</th>\n",
              "      <th>Rvar</th>\n",
              "      <th>number</th>\n",
              "      <th>Cleveland</th>\n",
              "      <th>data_pct</th>\n",
              "      <th>bias</th>\n",
              "      <th>right_bigger</th>\n",
              "    </tr>\n",
              "  </thead>\n",
              "  <tbody>\n",
              "    <tr>\n",
              "      <th>0</th>\n",
              "      <td>False</td>\n",
              "      <td>0.300252</td>\n",
              "      <td>0.233408</td>\n",
              "      <td>57.307692</td>\n",
              "      <td>1.0</td>\n",
              "      <td>63.760391</td>\n",
              "      <td>-6.452699</td>\n",
              "      <td>0.230769</td>\n",
              "    </tr>\n",
              "    <tr>\n",
              "      <th>1</th>\n",
              "      <td>True</td>\n",
              "      <td>0.339191</td>\n",
              "      <td>0.296579</td>\n",
              "      <td>66.057143</td>\n",
              "      <td>1.0</td>\n",
              "      <td>57.407805</td>\n",
              "      <td>8.649338</td>\n",
              "      <td>0.400000</td>\n",
              "    </tr>\n",
              "  </tbody>\n",
              "</table>\n",
              "</div>\n",
              "    <div class=\"colab-df-buttons\">\n",
              "\n",
              "  <div class=\"colab-df-container\">\n",
              "    <button class=\"colab-df-convert\" onclick=\"convertToInteractive('df-8cb9205f-5995-4d35-8d08-295dd7285622')\"\n",
              "            title=\"Convert this dataframe to an interactive table.\"\n",
              "            style=\"display:none;\">\n",
              "\n",
              "  <svg xmlns=\"http://www.w3.org/2000/svg\" height=\"24px\" viewBox=\"0 -960 960 960\">\n",
              "    <path d=\"M120-120v-720h720v720H120Zm60-500h600v-160H180v160Zm220 220h160v-160H400v160Zm0 220h160v-160H400v160ZM180-400h160v-160H180v160Zm440 0h160v-160H620v160ZM180-180h160v-160H180v160Zm440 0h160v-160H620v160Z\"/>\n",
              "  </svg>\n",
              "    </button>\n",
              "\n",
              "  <style>\n",
              "    .colab-df-container {\n",
              "      display:flex;\n",
              "      gap: 12px;\n",
              "    }\n",
              "\n",
              "    .colab-df-convert {\n",
              "      background-color: #E8F0FE;\n",
              "      border: none;\n",
              "      border-radius: 50%;\n",
              "      cursor: pointer;\n",
              "      display: none;\n",
              "      fill: #1967D2;\n",
              "      height: 32px;\n",
              "      padding: 0 0 0 0;\n",
              "      width: 32px;\n",
              "    }\n",
              "\n",
              "    .colab-df-convert:hover {\n",
              "      background-color: #E2EBFA;\n",
              "      box-shadow: 0px 1px 2px rgba(60, 64, 67, 0.3), 0px 1px 3px 1px rgba(60, 64, 67, 0.15);\n",
              "      fill: #174EA6;\n",
              "    }\n",
              "\n",
              "    .colab-df-buttons div {\n",
              "      margin-bottom: 4px;\n",
              "    }\n",
              "\n",
              "    [theme=dark] .colab-df-convert {\n",
              "      background-color: #3B4455;\n",
              "      fill: #D2E3FC;\n",
              "    }\n",
              "\n",
              "    [theme=dark] .colab-df-convert:hover {\n",
              "      background-color: #434B5C;\n",
              "      box-shadow: 0px 1px 3px 1px rgba(0, 0, 0, 0.15);\n",
              "      filter: drop-shadow(0px 1px 2px rgba(0, 0, 0, 0.3));\n",
              "      fill: #FFFFFF;\n",
              "    }\n",
              "  </style>\n",
              "\n",
              "    <script>\n",
              "      const buttonEl =\n",
              "        document.querySelector('#df-8cb9205f-5995-4d35-8d08-295dd7285622 button.colab-df-convert');\n",
              "      buttonEl.style.display =\n",
              "        google.colab.kernel.accessAllowed ? 'block' : 'none';\n",
              "\n",
              "      async function convertToInteractive(key) {\n",
              "        const element = document.querySelector('#df-8cb9205f-5995-4d35-8d08-295dd7285622');\n",
              "        const dataTable =\n",
              "          await google.colab.kernel.invokeFunction('convertToInteractive',\n",
              "                                                    [key], {});\n",
              "        if (!dataTable) return;\n",
              "\n",
              "        const docLinkHtml = 'Like what you see? Visit the ' +\n",
              "          '<a target=\"_blank\" href=https://colab.research.google.com/notebooks/data_table.ipynb>data table notebook</a>'\n",
              "          + ' to learn more about interactive tables.';\n",
              "        element.innerHTML = '';\n",
              "        dataTable['output_type'] = 'display_data';\n",
              "        await google.colab.output.renderOutput(dataTable, element);\n",
              "        const docLink = document.createElement('div');\n",
              "        docLink.innerHTML = docLinkHtml;\n",
              "        element.appendChild(docLink);\n",
              "      }\n",
              "    </script>\n",
              "  </div>\n",
              "\n",
              "\n",
              "<div id=\"df-882913a0-86c3-46de-95a6-6b8a5beef3f1\">\n",
              "  <button class=\"colab-df-quickchart\" onclick=\"quickchart('df-882913a0-86c3-46de-95a6-6b8a5beef3f1')\"\n",
              "            title=\"Suggest charts\"\n",
              "            style=\"display:none;\">\n",
              "\n",
              "<svg xmlns=\"http://www.w3.org/2000/svg\" height=\"24px\"viewBox=\"0 0 24 24\"\n",
              "     width=\"24px\">\n",
              "    <g>\n",
              "        <path d=\"M19 3H5c-1.1 0-2 .9-2 2v14c0 1.1.9 2 2 2h14c1.1 0 2-.9 2-2V5c0-1.1-.9-2-2-2zM9 17H7v-7h2v7zm4 0h-2V7h2v10zm4 0h-2v-4h2v4z\"/>\n",
              "    </g>\n",
              "</svg>\n",
              "  </button>\n",
              "\n",
              "<style>\n",
              "  .colab-df-quickchart {\n",
              "      --bg-color: #E8F0FE;\n",
              "      --fill-color: #1967D2;\n",
              "      --hover-bg-color: #E2EBFA;\n",
              "      --hover-fill-color: #174EA6;\n",
              "      --disabled-fill-color: #AAA;\n",
              "      --disabled-bg-color: #DDD;\n",
              "  }\n",
              "\n",
              "  [theme=dark] .colab-df-quickchart {\n",
              "      --bg-color: #3B4455;\n",
              "      --fill-color: #D2E3FC;\n",
              "      --hover-bg-color: #434B5C;\n",
              "      --hover-fill-color: #FFFFFF;\n",
              "      --disabled-bg-color: #3B4455;\n",
              "      --disabled-fill-color: #666;\n",
              "  }\n",
              "\n",
              "  .colab-df-quickchart {\n",
              "    background-color: var(--bg-color);\n",
              "    border: none;\n",
              "    border-radius: 50%;\n",
              "    cursor: pointer;\n",
              "    display: none;\n",
              "    fill: var(--fill-color);\n",
              "    height: 32px;\n",
              "    padding: 0;\n",
              "    width: 32px;\n",
              "  }\n",
              "\n",
              "  .colab-df-quickchart:hover {\n",
              "    background-color: var(--hover-bg-color);\n",
              "    box-shadow: 0 1px 2px rgba(60, 64, 67, 0.3), 0 1px 3px 1px rgba(60, 64, 67, 0.15);\n",
              "    fill: var(--button-hover-fill-color);\n",
              "  }\n",
              "\n",
              "  .colab-df-quickchart-complete:disabled,\n",
              "  .colab-df-quickchart-complete:disabled:hover {\n",
              "    background-color: var(--disabled-bg-color);\n",
              "    fill: var(--disabled-fill-color);\n",
              "    box-shadow: none;\n",
              "  }\n",
              "\n",
              "  .colab-df-spinner {\n",
              "    border: 2px solid var(--fill-color);\n",
              "    border-color: transparent;\n",
              "    border-bottom-color: var(--fill-color);\n",
              "    animation:\n",
              "      spin 1s steps(1) infinite;\n",
              "  }\n",
              "\n",
              "  @keyframes spin {\n",
              "    0% {\n",
              "      border-color: transparent;\n",
              "      border-bottom-color: var(--fill-color);\n",
              "      border-left-color: var(--fill-color);\n",
              "    }\n",
              "    20% {\n",
              "      border-color: transparent;\n",
              "      border-left-color: var(--fill-color);\n",
              "      border-top-color: var(--fill-color);\n",
              "    }\n",
              "    30% {\n",
              "      border-color: transparent;\n",
              "      border-left-color: var(--fill-color);\n",
              "      border-top-color: var(--fill-color);\n",
              "      border-right-color: var(--fill-color);\n",
              "    }\n",
              "    40% {\n",
              "      border-color: transparent;\n",
              "      border-right-color: var(--fill-color);\n",
              "      border-top-color: var(--fill-color);\n",
              "    }\n",
              "    60% {\n",
              "      border-color: transparent;\n",
              "      border-right-color: var(--fill-color);\n",
              "    }\n",
              "    80% {\n",
              "      border-color: transparent;\n",
              "      border-right-color: var(--fill-color);\n",
              "      border-bottom-color: var(--fill-color);\n",
              "    }\n",
              "    90% {\n",
              "      border-color: transparent;\n",
              "      border-bottom-color: var(--fill-color);\n",
              "    }\n",
              "  }\n",
              "</style>\n",
              "\n",
              "  <script>\n",
              "    async function quickchart(key) {\n",
              "      const quickchartButtonEl =\n",
              "        document.querySelector('#' + key + ' button');\n",
              "      quickchartButtonEl.disabled = true;  // To prevent multiple clicks.\n",
              "      quickchartButtonEl.classList.add('colab-df-spinner');\n",
              "      try {\n",
              "        const charts = await google.colab.kernel.invokeFunction(\n",
              "            'suggestCharts', [key], {});\n",
              "      } catch (error) {\n",
              "        console.error('Error during call to suggestCharts:', error);\n",
              "      }\n",
              "      quickchartButtonEl.classList.remove('colab-df-spinner');\n",
              "      quickchartButtonEl.classList.add('colab-df-quickchart-complete');\n",
              "    }\n",
              "    (() => {\n",
              "      let quickchartButtonEl =\n",
              "        document.querySelector('#df-882913a0-86c3-46de-95a6-6b8a5beef3f1 button');\n",
              "      quickchartButtonEl.style.display =\n",
              "        google.colab.kernel.accessAllowed ? 'block' : 'none';\n",
              "    })();\n",
              "  </script>\n",
              "</div>\n",
              "\n",
              "    </div>\n",
              "  </div>\n"
            ],
            "application/vnd.google.colaboratory.intrinsic+json": {
              "type": "dataframe",
              "summary": "{\n  \"name\": \"dfC\",\n  \"rows\": 2,\n  \"fields\": [\n    {\n      \"column\": \"sideSmall\",\n      \"properties\": {\n        \"dtype\": \"boolean\",\n        \"num_unique_values\": 2,\n        \"samples\": [\n          true,\n          false\n        ],\n        \"semantic_type\": \"\",\n        \"description\": \"\"\n      }\n    },\n    {\n      \"column\": \"Lvar\",\n      \"properties\": {\n        \"dtype\": \"number\",\n        \"std\": 0.027533823405127136,\n        \"min\": 0.3002518192307692,\n        \"max\": 0.33919052571428576,\n        \"num_unique_values\": 2,\n        \"samples\": [\n          0.33919052571428576,\n          0.3002518192307692\n        ],\n        \"semantic_type\": \"\",\n        \"description\": \"\"\n      }\n    },\n    {\n      \"column\": \"Rvar\",\n      \"properties\": {\n        \"dtype\": \"number\",\n        \"std\": 0.04466860214593765,\n        \"min\": 0.23340758846153847,\n        \"max\": 0.29657853142857143,\n        \"num_unique_values\": 2,\n        \"samples\": [\n          0.29657853142857143,\n          0.23340758846153847\n        ],\n        \"semantic_type\": \"\",\n        \"description\": \"\"\n      }\n    },\n    {\n      \"column\": \"number\",\n      \"properties\": {\n        \"dtype\": \"number\",\n        \"std\": 6.186795815172854,\n        \"min\": 57.30769230769231,\n        \"max\": 66.05714285714286,\n        \"num_unique_values\": 2,\n        \"samples\": [\n          66.05714285714286,\n          57.30769230769231\n        ],\n        \"semantic_type\": \"\",\n        \"description\": \"\"\n      }\n    },\n    {\n      \"column\": \"Cleveland\",\n      \"properties\": {\n        \"dtype\": \"number\",\n        \"std\": 0.0,\n        \"min\": 1.0,\n        \"max\": 1.0,\n        \"num_unique_values\": 1,\n        \"samples\": [\n          1.0\n        ],\n        \"semantic_type\": \"\",\n        \"description\": \"\"\n      }\n    },\n    {\n      \"column\": \"data_pct\",\n      \"properties\": {\n        \"dtype\": \"number\",\n        \"std\": 4.491956919384382,\n        \"min\": 57.407804637028455,\n        \"max\": 63.760391034017516,\n        \"num_unique_values\": 2,\n        \"samples\": [\n          57.407804637028455\n        ],\n        \"semantic_type\": \"\",\n        \"description\": \"\"\n      }\n    },\n    {\n      \"column\": \"bias\",\n      \"properties\": {\n        \"dtype\": \"number\",\n        \"std\": 10.678752734557232,\n        \"min\": -6.45269872632521,\n        \"max\": 8.649338220114403,\n        \"num_unique_values\": 2,\n        \"samples\": [\n          8.649338220114403\n        ],\n        \"semantic_type\": \"\",\n        \"description\": \"\"\n      }\n    },\n    {\n      \"column\": \"right_bigger\",\n      \"properties\": {\n        \"dtype\": \"number\",\n        \"std\": 0.11966422450849266,\n        \"min\": 0.23076923076923078,\n        \"max\": 0.4,\n        \"num_unique_values\": 2,\n        \"samples\": [\n          0.4\n        ],\n        \"semantic_type\": \"\",\n        \"description\": \"\"\n      }\n    }\n  ]\n}"
            }
          },
          "metadata": {},
          "execution_count": 108
        }
      ]
    },
    {
      "cell_type": "markdown",
      "source": [
        "### Absolute analysis\n"
      ],
      "metadata": {
        "id": "8m5B1Ri_NKKz"
      }
    },
    {
      "cell_type": "code",
      "source": [
        "dfnC = df[~df[\"Cleveland\"]].copy()\n",
        "dfnC[\"number\"] = dfnC[\"number\"].apply(lambda x: int(x))\n",
        "dfnC['Lvar'] = dfnC['Lvar'].apply(lambda x: x * 100)\n",
        "dfnC[\"ncbias\"] = dfnC[\"number\"] - dfnC['Lvar']\n",
        "dfnC[\"error\"] = dfnC[\"number\"] - dfnC['Lvar']\n",
        "dfnC[\"error\"] = dfnC[\"error\"].abs()\n",
        "dfnC.groupby('position')['error'].mean()"
      ],
      "metadata": {
        "colab": {
          "base_uri": "https://localhost:8080/"
        },
        "id": "UrGttJv5NiuJ",
        "outputId": "5cc4674d-f726-46bb-e40b-a6dc9b8ab808"
      },
      "execution_count": 125,
      "outputs": [
        {
          "output_type": "execute_result",
          "data": {
            "text/plain": [
              "position\n",
              "CENTER    10.915307\n",
              "LEFT       7.374110\n",
              "RIGHT      8.040729\n",
              "Name: error, dtype: float64"
            ]
          },
          "metadata": {},
          "execution_count": 125
        }
      ]
    },
    {
      "cell_type": "code",
      "source": [],
      "metadata": {
        "id": "-pRU44KVT1Gq"
      },
      "execution_count": 117,
      "outputs": []
    },
    {
      "cell_type": "code",
      "source": [
        "# prompt: make box plot with seaborne of dfnC error by position\n",
        "\n",
        "import seaborn as sns\n",
        "\n",
        "sns.boxplot(x=\"position\", y=\"error\", data=dfnC)\n"
      ],
      "metadata": {
        "colab": {
          "base_uri": "https://localhost:8080/",
          "height": 469
        },
        "id": "aenKKf-YQIwo",
        "outputId": "ba88e96a-7dc0-4528-c747-ddf2677ba5d3"
      },
      "execution_count": 126,
      "outputs": [
        {
          "output_type": "execute_result",
          "data": {
            "text/plain": [
              "<Axes: xlabel='position', ylabel='error'>"
            ]
          },
          "metadata": {},
          "execution_count": 126
        },
        {
          "output_type": "display_data",
          "data": {
            "text/plain": [
              "<Figure size 640x480 with 1 Axes>"
            ],
            "image/png": "[encoded data removed]"
          },
          "metadata": {}
        }
      ]
    },
    {
      "cell_type": "code",
      "source": [],
      "metadata": {
        "id": "3h6NPR41QRjc"
      },
      "execution_count": null,
      "outputs": []
    }
  ]
}