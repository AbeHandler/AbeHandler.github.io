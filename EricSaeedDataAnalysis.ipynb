{
  "nbformat": 4,
  "nbformat_minor": 0,
  "metadata": {
    "colab": {
      "provenance": [],
      "mount_file_id": "1kQq2LwEjs1-R0D0QdFQ0nF5bgsCfpUiv",
      "authorship_tag": "ABX9TyPyzFYdYulaWtYbu7ZSCvHg",
      "include_colab_link": true
    },
    "kernelspec": {
      "name": "python3",
      "display_name": "Python 3"
    },
    "language_info": {
      "name": "python"
    }
  },
  "cells": [
    {
      "cell_type": "markdown",
      "metadata": {
        "id": "view-in-github",
        "colab_type": "text"
      },
      "source": [
        "<a href=\"https://colab.research.google.com/github/AbeHandler/AbeHandler.github.io/blob/master/EricSaeedDataAnalysis.ipynb\" target=\"_parent\"><img src=\"https://colab.research.google.com/assets/colab-badge.svg\" alt=\"Open In Colab\"/></a>"
      ]
    },
    {
      "cell_type": "code",
      "source": [
        "import pandas as pd\n",
        "import json\n",
        "import enum\n",
        "\n",
        "with open('data.jsonl', 'r') as f:\n",
        "  lines = f.readlines()\n",
        "  lines = [o.strip(\"\\n\").replace('\"', \"'\").replace(\"'\", '\"').strip('\"') for o in lines]\n",
        "\n",
        "data = [json.loads(line) for line in lines]\n",
        "df = pd.DataFrame(data)\n",
        "df = df[df[\"number\"].apply(lambda x: len(x) > 0)]\n",
        "\n",
        "participants = df.groupby(\"guidString\").count().reset_index()[[\"guidString\", \"turn\"]]\n",
        "\n",
        "ids = participants[participants[\"turn\"] > 175][\"guidString\"].to_list()\n",
        "ids"
      ],
      "metadata": {
        "colab": {
          "base_uri": "https://localhost:8080/"
        },
        "id": "k4F-YxzzePwr",
        "outputId": "e3a8f335-56ed-4db5-ab1a-69a16e52f71e"
      },
      "execution_count": 59,
      "outputs": [
        {
          "output_type": "execute_result",
          "data": {
            "text/plain": [
              "['0f9eddbc-54a7-4be3-b581-60475c09f961',\n",
              " '1478084c-c08c-4295-be9a-1665da41b2f0',\n",
              " '354d7416-7fe6-4924-99fb-c3c0a36737b1',\n",
              " '4416d72c-5d11-40c4-9d1c-6fcf8d8a4533',\n",
              " 'efbabaa4-7895-4d32-b844-757a8877716a']"
            ]
          },
          "metadata": {},
          "execution_count": 59
        }
      ]
    },
    {
      "cell_type": "code",
      "execution_count": 60,
      "metadata": {
        "id": "-ebY9KE0ECdu",
        "colab": {
          "base_uri": "https://localhost:8080/"
        },
        "outputId": "9e76acb9-f771-4ca5-b8de-2fcf9225ac18"
      },
      "outputs": [
        {
          "output_type": "stream",
          "name": "stdout",
          "text": [
            "930\n",
            "901\n"
          ]
        }
      ],
      "source": [
        "import pandas as pd\n",
        "import json\n",
        "import enum\n",
        "import math\n",
        "\n",
        "id2clevelandanalysis = {}\n",
        "\n",
        "with open('data.jsonl', 'r') as f:\n",
        "    lines = f.readlines()\n",
        "    lines = [o.strip(\"\\n\").replace('\"', \"'\").replace(\"'\", '\"').strip('\"') for o in lines]\n",
        "    data = [json.loads(line) for line in lines]\n",
        "\n",
        "\n",
        "df = pd.DataFrame(data)\n",
        "df = df[df[\"number\"].apply(lambda x: len(x) > 0)]\n",
        "\n",
        "print(len(df))\n",
        "df = df[df[\"guidString\"].apply(lambda x: x in ids)]\n",
        "print(len(df))\n",
        "\n",
        "df[\"CamZ\"] = df[\"CamZ\"].apply(lambda x: round(float(x)))\n",
        "df[\"CamZ\"] = df[\"CamZ\"].apply(lambda x: -5 if x <= -5 else x) # if more neg then -5, just clip to -5\n",
        "df[\"CamZ\"] = df[\"CamZ\"].apply(lambda x: 5 if x >= 5 else x) # if more pos then +5, just clip to +5\n",
        "\n",
        "assert len(df[\"CamZ\"].apply(lambda x: math.floor(float(x))).unique()) == 3\n",
        "\n",
        "class Position(enum.Enum):\n",
        "    RIGHT = 5\n",
        "    CENTER =  0\n",
        "    LEFT = -5\n",
        "\n",
        "df[\"position\"] = df[\"CamZ\"].apply(lambda x: Position(round(float(x))).name)\n",
        "\n",
        "df[\"number\"] = df[\"number\"].apply(lambda x: float(x))\n",
        "df[\"Lvar\"] = df[\"Lvar\"].apply(lambda x: float(x))\n",
        "df[\"Rvar\"] = df[\"Rvar\"].apply(lambda x: float(x))\n",
        "df[\"Cleveland\"] = df.index > 90\n",
        "df[\"larger\"] = df[[\"Lvar\", \"Rvar\"]].max(axis=1)\n",
        "df[\"smaller\"] = df[[\"Lvar\", \"Rvar\"]].min(axis=1)\n",
        "df[\"data_pct\"] = (df[\"smaller\"] / df[\"larger\"]) * 100\n",
        "df = df.drop(\"larger\", axis=1)\n",
        "df = df.drop(\"smaller\", axis=1)\n",
        "\n",
        "\n",
        "# cleveland analysis\n",
        "dfC = df[df[\"Cleveland\"]].copy()\n",
        "dfC[\"bias\"] = dfC[\"number\"] - dfC[\"data_pct\"]\n",
        "dfC['right_bigger'] = (dfC['Rvar'] > dfC['Lvar'])\n",
        "dfC['sideSmall'] = (dfC['right_bigger'] & (dfC['position'] == 'LEFT')) | (~dfC['right_bigger'] & (dfC['position'] == 'RIGHT'))\n",
        "dfC = dfC[dfC[\"position\"] != \"CENTER\"]\n",
        "dfC = dfC.groupby('sideSmall').agg({'bias': ['mean', 'std']}).reset_index()\n",
        "\n",
        "dfnC = df[~df[\"Cleveland\"]].copy()\n",
        "dfnC[\"number\"] = dfnC[\"number\"].apply(lambda x: int(x))\n",
        "dfnC['Lvar'] = dfnC['Lvar'].apply(lambda x: x * 100)\n",
        "dfnC[\"ncbias\"] = dfnC[\"number\"] - dfnC['Lvar']\n",
        "dfnC[\"error\"] = dfnC[\"number\"] - dfnC['Lvar']\n",
        "dfnC[\"error\"] = dfnC[\"error\"].abs()\n",
        "dfnC = dfnC.groupby('position')['error'].mean()\n"
      ]
    },
    {
      "cell_type": "code",
      "source": [
        "dfC = df[df[\"Cleveland\"]].copy()\n",
        "dfC[\"bias\"] = dfC[\"number\"] - dfC[\"data_pct\"]\n",
        "dfC['right_bigger'] = (dfC['Rvar'] > dfC['Lvar'])\n",
        "dfC['sideSmall'] = (dfC['right_bigger'] & (dfC['position'] == 'LEFT')) | (~dfC['right_bigger'] & (dfC['position'] == 'RIGHT'))\n",
        "dfC = dfC[dfC[\"position\"] != \"CENTER\"]\n",
        "dfC.groupby(['sideSmall', \"guidString\"]).agg({'bias': ['mean', 'std']}).reset_index().sort_values(\"guidString\")"
      ],
      "metadata": {
        "colab": {
          "base_uri": "https://localhost:8080/",
          "height": 394
        },
        "id": "UrGttJv5NiuJ",
        "outputId": "6e2d6ee6-c361-45fe-901b-a72f597d957f"
      },
      "execution_count": 66,
      "outputs": [
        {
          "output_type": "execute_result",
          "data": {
            "text/plain": [
              "  sideSmall                            guidString       bias           \n",
              "                                                        mean        std\n",
              "0     False  0f9eddbc-54a7-4be3-b581-60475c09f961  -9.223131  15.630907\n",
              "5      True  0f9eddbc-54a7-4be3-b581-60475c09f961  12.068306   6.818085\n",
              "1     False  1478084c-c08c-4295-be9a-1665da41b2f0 -19.080356  24.110888\n",
              "6      True  1478084c-c08c-4295-be9a-1665da41b2f0 -11.965030  33.168945\n",
              "2     False  354d7416-7fe6-4924-99fb-c3c0a36737b1 -13.931187  26.117566\n",
              "7      True  354d7416-7fe6-4924-99fb-c3c0a36737b1 -10.808264  26.631576\n",
              "3     False  4416d72c-5d11-40c4-9d1c-6fcf8d8a4533 -31.310675  26.653765\n",
              "8      True  4416d72c-5d11-40c4-9d1c-6fcf8d8a4533 -28.186322  25.854722\n",
              "4     False  efbabaa4-7895-4d32-b844-757a8877716a -22.072443  25.101286\n",
              "9      True  efbabaa4-7895-4d32-b844-757a8877716a  -4.911000  28.555855"
            ],
            "text/html": [
              "\n",
              "  <div id=\"df-4585f31c-355d-47d6-9f3b-c010386d9a92\" class=\"colab-df-container\">\n",
              "    <div>\n",
              "<style scoped>\n",
              "    .dataframe tbody tr th:only-of-type {\n",
              "        vertical-align: middle;\n",
              "    }\n",
              "\n",
              "    .dataframe tbody tr th {\n",
              "        vertical-align: top;\n",
              "    }\n",
              "\n",
              "    .dataframe thead tr th {\n",
              "        text-align: left;\n",
              "    }\n",
              "</style>\n",
              "<table border=\"1\" class=\"dataframe\">\n",
              "  <thead>\n",
              "    <tr>\n",
              "      <th></th>\n",
              "      <th>sideSmall</th>\n",
              "      <th>guidString</th>\n",
              "      <th colspan=\"2\" halign=\"left\">bias</th>\n",
              "    </tr>\n",
              "    <tr>\n",
              "      <th></th>\n",
              "      <th></th>\n",
              "      <th></th>\n",
              "      <th>mean</th>\n",
              "      <th>std</th>\n",
              "    </tr>\n",
              "  </thead>\n",
              "  <tbody>\n",
              "    <tr>\n",
              "      <th>0</th>\n",
              "      <td>False</td>\n",
              "      <td>0f9eddbc-54a7-4be3-b581-60475c09f961</td>\n",
              "      <td>-9.223131</td>\n",
              "      <td>15.630907</td>\n",
              "    </tr>\n",
              "    <tr>\n",
              "      <th>5</th>\n",
              "      <td>True</td>\n",
              "      <td>0f9eddbc-54a7-4be3-b581-60475c09f961</td>\n",
              "      <td>12.068306</td>\n",
              "      <td>6.818085</td>\n",
              "    </tr>\n",
              "    <tr>\n",
              "      <th>1</th>\n",
              "      <td>False</td>\n",
              "      <td>1478084c-c08c-4295-be9a-1665da41b2f0</td>\n",
              "      <td>-19.080356</td>\n",
              "      <td>24.110888</td>\n",
              "    </tr>\n",
              "    <tr>\n",
              "      <th>6</th>\n",
              "      <td>True</td>\n",
              "      <td>1478084c-c08c-4295-be9a-1665da41b2f0</td>\n",
              "      <td>-11.965030</td>\n",
              "      <td>33.168945</td>\n",
              "    </tr>\n",
              "    <tr>\n",
              "      <th>2</th>\n",
              "      <td>False</td>\n",
              "      <td>354d7416-7fe6-4924-99fb-c3c0a36737b1</td>\n",
              "      <td>-13.931187</td>\n",
              "      <td>26.117566</td>\n",
              "    </tr>\n",
              "    <tr>\n",
              "      <th>7</th>\n",
              "      <td>True</td>\n",
              "      <td>354d7416-7fe6-4924-99fb-c3c0a36737b1</td>\n",
              "      <td>-10.808264</td>\n",
              "      <td>26.631576</td>\n",
              "    </tr>\n",
              "    <tr>\n",
              "      <th>3</th>\n",
              "      <td>False</td>\n",
              "      <td>4416d72c-5d11-40c4-9d1c-6fcf8d8a4533</td>\n",
              "      <td>-31.310675</td>\n",
              "      <td>26.653765</td>\n",
              "    </tr>\n",
              "    <tr>\n",
              "      <th>8</th>\n",
              "      <td>True</td>\n",
              "      <td>4416d72c-5d11-40c4-9d1c-6fcf8d8a4533</td>\n",
              "      <td>-28.186322</td>\n",
              "      <td>25.854722</td>\n",
              "    </tr>\n",
              "    <tr>\n",
              "      <th>4</th>\n",
              "      <td>False</td>\n",
              "      <td>efbabaa4-7895-4d32-b844-757a8877716a</td>\n",
              "      <td>-22.072443</td>\n",
              "      <td>25.101286</td>\n",
              "    </tr>\n",
              "    <tr>\n",
              "      <th>9</th>\n",
              "      <td>True</td>\n",
              "      <td>efbabaa4-7895-4d32-b844-757a8877716a</td>\n",
              "      <td>-4.911000</td>\n",
              "      <td>28.555855</td>\n",
              "    </tr>\n",
              "  </tbody>\n",
              "</table>\n",
              "</div>\n",
              "    <div class=\"colab-df-buttons\">\n",
              "\n",
              "  <div class=\"colab-df-container\">\n",
              "    <button class=\"colab-df-convert\" onclick=\"convertToInteractive('df-4585f31c-355d-47d6-9f3b-c010386d9a92')\"\n",
              "            title=\"Convert this dataframe to an interactive table.\"\n",
              "            style=\"display:none;\">\n",
              "\n",
              "  <svg xmlns=\"http://www.w3.org/2000/svg\" height=\"24px\" viewBox=\"0 -960 960 960\">\n",
              "    <path d=\"M120-120v-720h720v720H120Zm60-500h600v-160H180v160Zm220 220h160v-160H400v160Zm0 220h160v-160H400v160ZM180-400h160v-160H180v160Zm440 0h160v-160H620v160ZM180-180h160v-160H180v160Zm440 0h160v-160H620v160Z\"/>\n",
              "  </svg>\n",
              "    </button>\n",
              "\n",
              "  <style>\n",
              "    .colab-df-container {\n",
              "      display:flex;\n",
              "      gap: 12px;\n",
              "    }\n",
              "\n",
              "    .colab-df-convert {\n",
              "      background-color: #E8F0FE;\n",
              "      border: none;\n",
              "      border-radius: 50%;\n",
              "      cursor: pointer;\n",
              "      display: none;\n",
              "      fill: #1967D2;\n",
              "      height: 32px;\n",
              "      padding: 0 0 0 0;\n",
              "      width: 32px;\n",
              "    }\n",
              "\n",
              "    .colab-df-convert:hover {\n",
              "      background-color: #E2EBFA;\n",
              "      box-shadow: 0px 1px 2px rgba(60, 64, 67, 0.3), 0px 1px 3px 1px rgba(60, 64, 67, 0.15);\n",
              "      fill: #174EA6;\n",
              "    }\n",
              "\n",
              "    .colab-df-buttons div {\n",
              "      margin-bottom: 4px;\n",
              "    }\n",
              "\n",
              "    [theme=dark] .colab-df-convert {\n",
              "      background-color: #3B4455;\n",
              "      fill: #D2E3FC;\n",
              "    }\n",
              "\n",
              "    [theme=dark] .colab-df-convert:hover {\n",
              "      background-color: #434B5C;\n",
              "      box-shadow: 0px 1px 3px 1px rgba(0, 0, 0, 0.15);\n",
              "      filter: drop-shadow(0px 1px 2px rgba(0, 0, 0, 0.3));\n",
              "      fill: #FFFFFF;\n",
              "    }\n",
              "  </style>\n",
              "\n",
              "    <script>\n",
              "      const buttonEl =\n",
              "        document.querySelector('#df-4585f31c-355d-47d6-9f3b-c010386d9a92 button.colab-df-convert');\n",
              "      buttonEl.style.display =\n",
              "        google.colab.kernel.accessAllowed ? 'block' : 'none';\n",
              "\n",
              "      async function convertToInteractive(key) {\n",
              "        const element = document.querySelector('#df-4585f31c-355d-47d6-9f3b-c010386d9a92');\n",
              "        const dataTable =\n",
              "          await google.colab.kernel.invokeFunction('convertToInteractive',\n",
              "                                                    [key], {});\n",
              "        if (!dataTable) return;\n",
              "\n",
              "        const docLinkHtml = 'Like what you see? Visit the ' +\n",
              "          '<a target=\"_blank\" href=https://colab.research.google.com/notebooks/data_table.ipynb>data table notebook</a>'\n",
              "          + ' to learn more about interactive tables.';\n",
              "        element.innerHTML = '';\n",
              "        dataTable['output_type'] = 'display_data';\n",
              "        await google.colab.output.renderOutput(dataTable, element);\n",
              "        const docLink = document.createElement('div');\n",
              "        docLink.innerHTML = docLinkHtml;\n",
              "        element.appendChild(docLink);\n",
              "      }\n",
              "    </script>\n",
              "  </div>\n",
              "\n",
              "\n",
              "<div id=\"df-1ce2a470-0736-4f5c-866f-baa2e8d992a3\">\n",
              "  <button class=\"colab-df-quickchart\" onclick=\"quickchart('df-1ce2a470-0736-4f5c-866f-baa2e8d992a3')\"\n",
              "            title=\"Suggest charts\"\n",
              "            style=\"display:none;\">\n",
              "\n",
              "<svg xmlns=\"http://www.w3.org/2000/svg\" height=\"24px\"viewBox=\"0 0 24 24\"\n",
              "     width=\"24px\">\n",
              "    <g>\n",
              "        <path d=\"M19 3H5c-1.1 0-2 .9-2 2v14c0 1.1.9 2 2 2h14c1.1 0 2-.9 2-2V5c0-1.1-.9-2-2-2zM9 17H7v-7h2v7zm4 0h-2V7h2v10zm4 0h-2v-4h2v4z\"/>\n",
              "    </g>\n",
              "</svg>\n",
              "  </button>\n",
              "\n",
              "<style>\n",
              "  .colab-df-quickchart {\n",
              "      --bg-color: #E8F0FE;\n",
              "      --fill-color: #1967D2;\n",
              "      --hover-bg-color: #E2EBFA;\n",
              "      --hover-fill-color: #174EA6;\n",
              "      --disabled-fill-color: #AAA;\n",
              "      --disabled-bg-color: #DDD;\n",
              "  }\n",
              "\n",
              "  [theme=dark] .colab-df-quickchart {\n",
              "      --bg-color: #3B4455;\n",
              "      --fill-color: #D2E3FC;\n",
              "      --hover-bg-color: #434B5C;\n",
              "      --hover-fill-color: #FFFFFF;\n",
              "      --disabled-bg-color: #3B4455;\n",
              "      --disabled-fill-color: #666;\n",
              "  }\n",
              "\n",
              "  .colab-df-quickchart {\n",
              "    background-color: var(--bg-color);\n",
              "    border: none;\n",
              "    border-radius: 50%;\n",
              "    cursor: pointer;\n",
              "    display: none;\n",
              "    fill: var(--fill-color);\n",
              "    height: 32px;\n",
              "    padding: 0;\n",
              "    width: 32px;\n",
              "  }\n",
              "\n",
              "  .colab-df-quickchart:hover {\n",
              "    background-color: var(--hover-bg-color);\n",
              "    box-shadow: 0 1px 2px rgba(60, 64, 67, 0.3), 0 1px 3px 1px rgba(60, 64, 67, 0.15);\n",
              "    fill: var(--button-hover-fill-color);\n",
              "  }\n",
              "\n",
              "  .colab-df-quickchart-complete:disabled,\n",
              "  .colab-df-quickchart-complete:disabled:hover {\n",
              "    background-color: var(--disabled-bg-color);\n",
              "    fill: var(--disabled-fill-color);\n",
              "    box-shadow: none;\n",
              "  }\n",
              "\n",
              "  .colab-df-spinner {\n",
              "    border: 2px solid var(--fill-color);\n",
              "    border-color: transparent;\n",
              "    border-bottom-color: var(--fill-color);\n",
              "    animation:\n",
              "      spin 1s steps(1) infinite;\n",
              "  }\n",
              "\n",
              "  @keyframes spin {\n",
              "    0% {\n",
              "      border-color: transparent;\n",
              "      border-bottom-color: var(--fill-color);\n",
              "      border-left-color: var(--fill-color);\n",
              "    }\n",
              "    20% {\n",
              "      border-color: transparent;\n",
              "      border-left-color: var(--fill-color);\n",
              "      border-top-color: var(--fill-color);\n",
              "    }\n",
              "    30% {\n",
              "      border-color: transparent;\n",
              "      border-left-color: var(--fill-color);\n",
              "      border-top-color: var(--fill-color);\n",
              "      border-right-color: var(--fill-color);\n",
              "    }\n",
              "    40% {\n",
              "      border-color: transparent;\n",
              "      border-right-color: var(--fill-color);\n",
              "      border-top-color: var(--fill-color);\n",
              "    }\n",
              "    60% {\n",
              "      border-color: transparent;\n",
              "      border-right-color: var(--fill-color);\n",
              "    }\n",
              "    80% {\n",
              "      border-color: transparent;\n",
              "      border-right-color: var(--fill-color);\n",
              "      border-bottom-color: var(--fill-color);\n",
              "    }\n",
              "    90% {\n",
              "      border-color: transparent;\n",
              "      border-bottom-color: var(--fill-color);\n",
              "    }\n",
              "  }\n",
              "</style>\n",
              "\n",
              "  <script>\n",
              "    async function quickchart(key) {\n",
              "      const quickchartButtonEl =\n",
              "        document.querySelector('#' + key + ' button');\n",
              "      quickchartButtonEl.disabled = true;  // To prevent multiple clicks.\n",
              "      quickchartButtonEl.classList.add('colab-df-spinner');\n",
              "      try {\n",
              "        const charts = await google.colab.kernel.invokeFunction(\n",
              "            'suggestCharts', [key], {});\n",
              "      } catch (error) {\n",
              "        console.error('Error during call to suggestCharts:', error);\n",
              "      }\n",
              "      quickchartButtonEl.classList.remove('colab-df-spinner');\n",
              "      quickchartButtonEl.classList.add('colab-df-quickchart-complete');\n",
              "    }\n",
              "    (() => {\n",
              "      let quickchartButtonEl =\n",
              "        document.querySelector('#df-1ce2a470-0736-4f5c-866f-baa2e8d992a3 button');\n",
              "      quickchartButtonEl.style.display =\n",
              "        google.colab.kernel.accessAllowed ? 'block' : 'none';\n",
              "    })();\n",
              "  </script>\n",
              "</div>\n",
              "\n",
              "    </div>\n",
              "  </div>\n"
            ],
            "application/vnd.google.colaboratory.intrinsic+json": {
              "type": "dataframe",
              "summary": "{\n  \"name\": \"dfC\",\n  \"rows\": 10,\n  \"fields\": [\n    {\n      \"column\": [\n        \"sideSmall\",\n        \"\"\n      ],\n      \"properties\": {\n        \"dtype\": \"boolean\",\n        \"num_unique_values\": 2,\n        \"samples\": [\n          true,\n          false\n        ],\n        \"semantic_type\": \"\",\n        \"description\": \"\"\n      }\n    },\n    {\n      \"column\": [\n        \"guidString\",\n        \"\"\n      ],\n      \"properties\": {\n        \"dtype\": \"string\",\n        \"num_unique_values\": 5,\n        \"samples\": [\n          \"1478084c-c08c-4295-be9a-1665da41b2f0\",\n          \"efbabaa4-7895-4d32-b844-757a8877716a\"\n        ],\n        \"semantic_type\": \"\",\n        \"description\": \"\"\n      }\n    },\n    {\n      \"column\": [\n        \"bias\",\n        \"mean\"\n      ],\n      \"properties\": {\n        \"dtype\": \"number\",\n        \"std\": 12.432796700271195,\n        \"min\": -31.31067455560261,\n        \"max\": 12.06830566855294,\n        \"num_unique_values\": 10,\n        \"samples\": [\n          -22.072443102880882,\n          12.06830566855294\n        ],\n        \"semantic_type\": \"\",\n        \"description\": \"\"\n      }\n    },\n    {\n      \"column\": [\n        \"bias\",\n        \"std\"\n      ],\n      \"properties\": {\n        \"dtype\": \"number\",\n        \"std\": 7.401337471011691,\n        \"min\": 6.818085030198915,\n        \"max\": 33.16894459223171,\n        \"num_unique_values\": 10,\n        \"samples\": [\n          25.101285622172544,\n          6.818085030198915\n        ],\n        \"semantic_type\": \"\",\n        \"description\": \"\"\n      }\n    }\n  ]\n}"
            }
          },
          "metadata": {},
          "execution_count": 66
        }
      ]
    },
    {
      "cell_type": "code",
      "source": [
        "# prompt: make box plot with seaborne of dfnC error by position\n",
        "\n",
        "import seaborn as sns\n",
        "\n",
        "sns.boxplot(x=\"position\", y=\"ncbias\", data=dfnC)\n"
      ],
      "metadata": {
        "colab": {
          "base_uri": "https://localhost:8080/",
          "height": 467
        },
        "id": "aenKKf-YQIwo",
        "outputId": "050f285f-c52f-42af-dbe5-ae448a8a760a"
      },
      "execution_count": null,
      "outputs": [
        {
          "output_type": "execute_result",
          "data": {
            "text/plain": [
              "<Axes: xlabel='position', ylabel='ncbias'>"
            ]
          },
          "metadata": {},
          "execution_count": 26
        },
        {
          "output_type": "display_data",
          "data": {
            "text/plain": [
              "<Figure size 640x480 with 1 Axes>"
            ],
            "image/png": "[encoded data removed]"
          },
          "metadata": {}
        }
      ]
    },
    {
      "cell_type": "code",
      "source": [],
      "metadata": {
        "id": "3h6NPR41QRjc",
        "colab": {
          "base_uri": "https://localhost:8080/",
          "height": 53
        },
        "outputId": "379b72ff-38ca-4a38-802d-9aa617865a65"
      },
      "execution_count": null,
      "outputs": [
        {
          "output_type": "execute_result",
          "data": {
            "text/plain": [
              "'{\"CamX\": \"-0.3272639\", \"CamY\": \"0.8589801\", \"CamZ\": \"-0.6473732\", \"ClevelandMode\": \"False\", \"Lvar\": \"0.2610157\", \"Rvar\": \"0.2610157\", \"UnixTime\": \"1713480848\", \"dataset\": \"-1\", \"guidString\": \"8d796c02-e1e9-4553-a434-a1b913601f2b\", \"number\": \"27\", \"turn\": \"0\"}'"
            ],
            "application/vnd.google.colaboratory.intrinsic+json": {
              "type": "string"
            }
          },
          "metadata": {},
          "execution_count": 9
        }
      ]
    },
    {
      "cell_type": "code",
      "source": [
        "df[\"CamZ\"].apply(lambda x: round(float(x))).unique().max()"
      ],
      "metadata": {
        "colab": {
          "base_uri": "https://localhost:8080/"
        },
        "id": "O3XVAr5h0iBA",
        "outputId": "90c5ac6e-07d7-4c1b-a002-f6de2242e275"
      },
      "execution_count": null,
      "outputs": [
        {
          "output_type": "execute_result",
          "data": {
            "text/plain": [
              "5"
            ]
          },
          "metadata": {},
          "execution_count": 20
        }
      ]
    },
    {
      "cell_type": "code",
      "source": [],
      "metadata": {
        "id": "posm9bQr0tLZ"
      },
      "execution_count": null,
      "outputs": []
    }
  ]
}